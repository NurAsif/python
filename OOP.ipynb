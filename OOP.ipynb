{
 "cells": [
  {
   "cell_type": "code",
   "execution_count": 1,
   "id": "168392bb",
   "metadata": {},
   "outputs": [
    {
     "name": "stdout",
     "output_type": "stream",
     "text": [
      " Nur - A - All Asif\n"
     ]
    }
   ],
   "source": [
    "#class\n",
    "class student:\n",
    "    name = \" Nur - A - All Asif\"\n",
    "# object\n",
    "s1 = student()\n",
    "print(s1.name)"
   ]
  },
  {
   "cell_type": "code",
   "execution_count": 19,
   "id": "e903efb8",
   "metadata": {},
   "outputs": [
    {
     "name": "stdout",
     "output_type": "stream",
     "text": [
      "Welcome to the class\n",
      "adding new student in database\n",
      "university : Daffodil International University\n",
      "90\n",
      "name : Nur - A - All Asif age : 20\n",
      "university : Daffodil International University\n",
      "name Samiul age 21\n",
      "university : Daffodil International University\n",
      "name Simul age 21\n"
     ]
    }
   ],
   "source": [
    "#constructor\n",
    "class student:\n",
    "    university = \"Daffodil International University\"\n",
    "    def __init__(self, name, age, marks):\n",
    "        self.name = name\n",
    "        self.age = age\n",
    "        self.student_marks = marks\n",
    "    def welcome(self):\n",
    "        print(\"Welcome to the class\")\n",
    "    def get_marks(self):\n",
    "        return self.student_marks\n",
    "       \n",
    "    \n",
    "s1 = student(\"Nur - A - All Asif\", 20, 90)\n",
    "s2 = student(\"Samiul\", 21, 95)\n",
    "s3 = student(\"Simul\", 21, 95)\n",
    "s1.welcome()\n",
    "print(\"adding new student in database\")\n",
    "print(\"university :\", s1.university)\n",
    "print(s1.get_marks())\n",
    "print(\"name :\", s1.name, \"age :\", s1.age)\n",
    "print(\"university :\", s2.university)\n",
    "print(\"name\",s2.name,\"age\", s2.age)\n",
    "print(\"university :\", s3.university)\n",
    "print(\"name\",s3.name,\"age\", s3.age)"
   ]
  },
  {
   "cell_type": "code",
   "execution_count": 28,
   "id": "8dfce89d",
   "metadata": {},
   "outputs": [
    {
     "name": "stdout",
     "output_type": "stream",
     "text": [
      "Welcome to the class\n",
      "average marks of student 1 : 80.0\n",
      "average marks of student 2 : 85.0\n",
      "average marks of student 3 : 85.0\n"
     ]
    }
   ],
   "source": [
    "class student:\n",
    "    university = \"Daffodil International University\"\n",
    "    def __init__(self, name, age, marks):\n",
    "        self.name = name\n",
    "        self.age = age\n",
    "        self.student_marks = marks\n",
    "    @staticmethod\n",
    "    def welcome():\n",
    "        print(\"Welcome to the class\")\n",
    "    def avg_marks(self):\n",
    "        sum = 0\n",
    "        for i in self.student_marks:\n",
    "            sum += i\n",
    "        \n",
    "        avg = sum / len(self.student_marks)\n",
    "        return avg        \n",
    "s1 = student(\"Nur - A - All Asif\", 20, [90, 80, 70])\n",
    "s2 = student(\"Samiul\", 21, [95, 85, 75])\n",
    "s3 = student(\"Simul\", 21, [95, 85, 75])\n",
    "s1.welcome()\n",
    "print(\"average marks of student 1 :\", s1.avg_marks())\n",
    "print(\"average marks of student 2 :\", s2.avg_marks())   \n",
    "print(\"average marks of student 3 :\", s3.avg_marks())"
   ]
  },
  {
   "cell_type": "code",
   "execution_count": 30,
   "id": "7cbf646c",
   "metadata": {},
   "outputs": [
    {
     "data": {
      "text/plain": [
       "\"\\nOOPs has four main principles:\\n1. Encapsulation\\n2. Inheritance\\n3. Polymorphism\\n4. Abstraction\\nEncapsulation: Encapsulation is the bundling of data and methods that operate on that \\ndata within one unit, such as a class in Python. It restricts direct access to some of \\nan object's components and can prevent the accidental modification of data. \\nIn Python, encapsulation is achieved through the use of private and public attributes and methods.\\nINHERITANCE: Inheritance is a mechanism in object-oriented programming that allows a new class to \\ninherit properties and methods from an existing class. The new class is called the child or derived class,\\nwhile the existing class is called the parent or base class. Inheritance promotes code reusability and\\nestablishes a hierarchical relationship between classes.\\nPOLYMORPHISM: Polymorphism is a programming concept that allows objects of different classes to be treated as \\nobjects of a common superclass. It enables a single interface to represent different underlying forms \\n(data types).In Python, polymorphism allows methods to be defined in a way that they can operate on objects \\nof different types, allowing for flexibility and extensibility in code design. \\nIn Python, polymorphism is achieved through method overriding and duck typing.\\nABSTRACTION: Abstraction is the concept of hiding the complex implementation details of a system and \\nexposing only the essential features to the user. In object-oriented programming, abstraction allows \\ndevelopers to create classes that represent real-world entities while keeping the internal workings hidden. \\nIn Python, abstraction can be achieved through abstract classes and interfaces.\\nAbstraction is a fundamental principle of object-oriented programming that allows developers to focus on \\nthe essential features of an object while ignoring the irrelevant details. It helps in reducing complexity \\nand increasing efficiency by providing a simplified view of the system.\\n\\n\""
      ]
     },
     "execution_count": 30,
     "metadata": {},
     "output_type": "execute_result"
    }
   ],
   "source": [
    "\"\"\"\n",
    "OOPs has four main principles:\n",
    "1. Encapsulation\n",
    "2. Inheritance\n",
    "3. Polymorphism\n",
    "4. Abstraction\n",
    "Encapsulation: Encapsulation is the bundling of data and methods that operate on that \n",
    "data within one unit, such as a class in Python. It restricts direct access to some of \n",
    "an object's components and can prevent the accidental modification of data. \n",
    "In Python, encapsulation is achieved through the use of private and public attributes and methods.\n",
    "INHERITANCE: Inheritance is a mechanism in object-oriented programming that allows a new class to \n",
    "inherit properties and methods from an existing class. The new class is called the child or derived class,\n",
    "while the existing class is called the parent or base class. Inheritance promotes code reusability and\n",
    "establishes a hierarchical relationship between classes.\n",
    "POLYMORPHISM: Polymorphism is a programming concept that allows objects of different classes to be treated as \n",
    "objects of a common superclass. It enables a single interface to represent different underlying forms \n",
    "(data types).In Python, polymorphism allows methods to be defined in a way that they can operate on objects \n",
    "of different types, allowing for flexibility and extensibility in code design. \n",
    "In Python, polymorphism is achieved through method overriding and duck typing.\n",
    "ABSTRACTION: Abstraction is the concept of hiding the complex implementation details of a system and \n",
    "exposing only the essential features to the user. In object-oriented programming, abstraction allows \n",
    "developers to create classes that represent real-world entities while keeping the internal workings hidden. \n",
    "In Python, abstraction can be achieved through abstract classes and interfaces.\n",
    "Abstraction is a fundamental principle of object-oriented programming that allows developers to focus on \n",
    "the essential features of an object while ignoring the irrelevant details. It helps in reducing complexity \n",
    "and increasing efficiency by providing a simplified view of the system.\n",
    "\n",
    "\"\"\""
   ]
  },
  {
   "cell_type": "code",
   "execution_count": null,
   "id": "4b431103",
   "metadata": {},
   "outputs": [],
   "source": []
  },
  {
   "cell_type": "code",
   "execution_count": null,
   "id": "dacc18e2",
   "metadata": {},
   "outputs": [],
   "source": []
  }
 ],
 "metadata": {
  "kernelspec": {
   "display_name": "Python 3",
   "language": "python",
   "name": "python3"
  },
  "language_info": {
   "codemirror_mode": {
    "name": "ipython",
    "version": 3
   },
   "file_extension": ".py",
   "mimetype": "text/x-python",
   "name": "python",
   "nbconvert_exporter": "python",
   "pygments_lexer": "ipython3",
   "version": "3.11.9"
  }
 },
 "nbformat": 4,
 "nbformat_minor": 5
}
