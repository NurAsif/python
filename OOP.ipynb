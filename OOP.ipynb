{
 "cells": [
  {
   "cell_type": "code",
   "execution_count": 1,
   "id": "168392bb",
   "metadata": {},
   "outputs": [
    {
     "name": "stdout",
     "output_type": "stream",
     "text": [
      " Nur - A - All Asif\n"
     ]
    }
   ],
   "source": [
    "#class\n",
    "class student:\n",
    "    name = \" Nur - A - All Asif\"\n",
    "# object\n",
    "s1 = student()\n",
    "print(s1.name)"
   ]
  },
  {
   "cell_type": "code",
   "execution_count": 19,
   "id": "e903efb8",
   "metadata": {},
   "outputs": [
    {
     "name": "stdout",
     "output_type": "stream",
     "text": [
      "Welcome to the class\n",
      "adding new student in database\n",
      "university : Daffodil International University\n",
      "90\n",
      "name : Nur - A - All Asif age : 20\n",
      "university : Daffodil International University\n",
      "name Samiul age 21\n",
      "university : Daffodil International University\n",
      "name Simul age 21\n"
     ]
    }
   ],
   "source": [
    "#constructor\n",
    "class student:\n",
    "    university = \"Daffodil International University\"\n",
    "    def __init__(self, name, age, marks):\n",
    "        self.name = name\n",
    "        self.age = age\n",
    "        self.student_marks = marks\n",
    "    def welcome(self):\n",
    "        print(\"Welcome to the class\")\n",
    "    def get_marks(self):\n",
    "        return self.student_marks\n",
    "       \n",
    "    \n",
    "s1 = student(\"Nur - A - All Asif\", 20, 90)\n",
    "s2 = student(\"Samiul\", 21, 95)\n",
    "s3 = student(\"Simul\", 21, 95)\n",
    "s1.welcome()\n",
    "print(\"adding new student in database\")\n",
    "print(\"university :\", s1.university)\n",
    "print(s1.get_marks())\n",
    "print(\"name :\", s1.name, \"age :\", s1.age)\n",
    "print(\"university :\", s2.university)\n",
    "print(\"name\",s2.name,\"age\", s2.age)\n",
    "print(\"university :\", s3.university)\n",
    "print(\"name\",s3.name,\"age\", s3.age)"
   ]
  },
  {
   "cell_type": "code",
   "execution_count": 28,
   "id": "8dfce89d",
   "metadata": {},
   "outputs": [
    {
     "name": "stdout",
     "output_type": "stream",
     "text": [
      "Welcome to the class\n",
      "average marks of student 1 : 80.0\n",
      "average marks of student 2 : 85.0\n",
      "average marks of student 3 : 85.0\n"
     ]
    }
   ],
   "source": [
    "class student:\n",
    "    university = \"Daffodil International University\"\n",
    "    def __init__(self, name, age, marks):\n",
    "        self.name = name\n",
    "        self.age = age\n",
    "        self.student_marks = marks\n",
    "    @staticmethod\n",
    "    def welcome():\n",
    "        print(\"Welcome to the class\")\n",
    "    def avg_marks(self):\n",
    "        sum = 0\n",
    "        for i in self.student_marks:\n",
    "            sum += i\n",
    "        \n",
    "        avg = sum / len(self.student_marks)\n",
    "        return avg        \n",
    "s1 = student(\"Nur - A - All Asif\", 20, [90, 80, 70])\n",
    "s2 = student(\"Samiul\", 21, [95, 85, 75])\n",
    "s3 = student(\"Simul\", 21, [95, 85, 75])\n",
    "s1.welcome()\n",
    "print(\"average marks of student 1 :\", s1.avg_marks())\n",
    "print(\"average marks of student 2 :\", s2.avg_marks())   \n",
    "print(\"average marks of student 3 :\", s3.avg_marks())"
   ]
  },
  {
   "cell_type": "code",
   "execution_count": 30,
   "id": "7cbf646c",
   "metadata": {},
   "outputs": [
    {
     "data": {
      "text/plain": [
       "\"\\nOOPs has four main principles:\\n1. Encapsulation\\n2. Inheritance\\n3. Polymorphism\\n4. Abstraction\\nEncapsulation: Encapsulation is the bundling of data and methods that operate on that \\ndata within one unit, such as a class in Python. It restricts direct access to some of \\nan object's components and can prevent the accidental modification of data. \\nIn Python, encapsulation is achieved through the use of private and public attributes and methods.\\nINHERITANCE: Inheritance is a mechanism in object-oriented programming that allows a new class to \\ninherit properties and methods from an existing class. The new class is called the child or derived class,\\nwhile the existing class is called the parent or base class. Inheritance promotes code reusability and\\nestablishes a hierarchical relationship between classes.\\nPOLYMORPHISM: Polymorphism is a programming concept that allows objects of different classes to be treated as \\nobjects of a common superclass. It enables a single interface to represent different underlying forms \\n(data types).In Python, polymorphism allows methods to be defined in a way that they can operate on objects \\nof different types, allowing for flexibility and extensibility in code design. \\nIn Python, polymorphism is achieved through method overriding and duck typing.\\nABSTRACTION: Abstraction is the concept of hiding the complex implementation details of a system and \\nexposing only the essential features to the user. In object-oriented programming, abstraction allows \\ndevelopers to create classes that represent real-world entities while keeping the internal workings hidden. \\nIn Python, abstraction can be achieved through abstract classes and interfaces.\\nAbstraction is a fundamental principle of object-oriented programming that allows developers to focus on \\nthe essential features of an object while ignoring the irrelevant details. It helps in reducing complexity \\nand increasing efficiency by providing a simplified view of the system.\\n\\n\""
      ]
     },
     "execution_count": 30,
     "metadata": {},
     "output_type": "execute_result"
    }
   ],
   "source": [
    "\"\"\"\n",
    "OOPs has four main principles:\n",
    "1. Encapsulation\n",
    "2. Inheritance\n",
    "3. Polymorphism\n",
    "4. Abstraction\n",
    "Encapsulation: Encapsulation is the bundling of data and methods that operate on that \n",
    "data within one unit, such as a class in Python. It restricts direct access to some of \n",
    "an object's components and can prevent the accidental modification of data. \n",
    "In Python, encapsulation is achieved through the use of private and public attributes and methods.\n",
    "INHERITANCE: Inheritance is a mechanism in object-oriented programming that allows a new class to \n",
    "inherit properties and methods from an existing class. The new class is called the child or derived class,\n",
    "while the existing class is called the parent or base class. Inheritance promotes code reusability and\n",
    "establishes a hierarchical relationship between classes.\n",
    "POLYMORPHISM: Polymorphism is a programming concept that allows objects of different classes to be treated as \n",
    "objects of a common superclass. It enables a single interface to represent different underlying forms \n",
    "(data types).In Python, polymorphism allows methods to be defined in a way that they can operate on objects \n",
    "of different types, allowing for flexibility and extensibility in code design. \n",
    "In Python, polymorphism is achieved through method overriding and duck typing.\n",
    "ABSTRACTION: Abstraction is the concept of hiding the complex implementation details of a system and \n",
    "exposing only the essential features to the user. In object-oriented programming, abstraction allows \n",
    "developers to create classes that represent real-world entities while keeping the internal workings hidden. \n",
    "In Python, abstraction can be achieved through abstract classes and interfaces.\n",
    "Abstraction is a fundamental principle of object-oriented programming that allows developers to focus on \n",
    "the essential features of an object while ignoring the irrelevant details. It helps in reducing complexity \n",
    "and increasing efficiency by providing a simplified view of the system.\n",
    "\n",
    "\"\"\""
   ]
  },
  {
   "cell_type": "code",
   "execution_count": null,
   "id": "4b431103",
   "metadata": {},
   "outputs": [
    {
     "name": "stdout",
     "output_type": "stream",
     "text": [
      "car started\n"
     ]
    }
   ],
   "source": [
    "# Abstract class : hides the implementation details and exposes only the essential features to the user.\n",
    "class car():\n",
    "    def __init__(self):\n",
    "        self.acc = False\n",
    "        self.brake = False  \n",
    "        self.clutch = False\n",
    "    def start(self):\n",
    "        self.acc = True\n",
    "        self.clutch = True\n",
    "        print(\"car started\")\n",
    "c1 = car()\n",
    "c1.start()"
   ]
  },
  {
   "cell_type": "code",
   "execution_count": 32,
   "id": "04c4d8f0",
   "metadata": {},
   "outputs": [
    {
     "name": "stdout",
     "output_type": "stream",
     "text": [
      "car started\n",
      "True\n"
     ]
    }
   ],
   "source": [
    "# Encapsulation: Wrapping the data and methods into a single unit (class) to restrict access to certain components.\n",
    "class car():\n",
    "    def __init__(self):\n",
    "        self.__acc = False  # private attribute\n",
    "        self.__brake = False  \n",
    "        self.__clutch = False\n",
    "    def start(self):\n",
    "        self.__acc = True\n",
    "        self.__clutch = True\n",
    "        print(\"car started\")\n",
    "    def get_acc(self):\n",
    "        return self.__acc\n",
    "c1 = car()\n",
    "c1.start()\n",
    "print(c1.get_acc())  # accessing private attribute using a public method"
   ]
  },
  {
   "cell_type": "code",
   "execution_count": 36,
   "id": "a94ab267",
   "metadata": {},
   "outputs": [
    {
     "name": "stdout",
     "output_type": "stream",
     "text": [
      "Account Number: 123456789\n",
      "Balance: 1000\n",
      "debit amount: 200\n",
      "remaining balance: 800\n",
      "credit amount: 500\n",
      "remaining balance: 1300\n",
      "debit amount: 2000\n",
      "remaining balance: -700\n",
      "credit amount: 50000\n",
      "remaining balance: 49300\n"
     ]
    }
   ],
   "source": [
    "class bank_account:\n",
    "    def __init__(self, balance,acc_no):\n",
    "        self.acc_no = acc_no\n",
    "        self.balance = balance\n",
    "    def debit(self,amount):\n",
    "        self.balance -= amount\n",
    "        print(\"debit amount:\", amount)\n",
    "        print(\"remaining balance:\", self.balance)\n",
    "    def credit(self,amount):\n",
    "        self.balance += amount\n",
    "        print(\"credit amount:\", amount)\n",
    "        print(\"remaining balance:\", self.balance)\n",
    "    def get_balance(self):\n",
    "        return self.balance\n",
    "acc = bank_account(1000, 123456789)\n",
    "print(\"Account Number:\", acc.acc_no)\n",
    "print(\"Balance:\", acc.balance)\n",
    "acc.debit(200)\n",
    "acc.credit(500)\n",
    "acc.debit(2000)\n",
    "acc.credit(50000)"
   ]
  },
  {
   "cell_type": "code",
   "execution_count": 3,
   "id": "dacc18e2",
   "metadata": {},
   "outputs": [
    {
     "name": "stdout",
     "output_type": "stream",
     "text": [
      "Title: Python Programming, Author: John Doe, Price: 29.99\n",
      "Store: Book Store, Place: Dhaka, Phone: 01700000000\n"
     ]
    }
   ],
   "source": [
    "class book:\n",
    "    store = \"Book Store\"\n",
    "    place = \"Dhaka\"\n",
    "    phone = \"01700000000\"\n",
    "    def __init__(self, title, author, price):\n",
    "        self.title = title\n",
    "        self.author = author\n",
    "        self.price = price\n",
    "    def get_book_info(self):\n",
    "        return f\"Title: {self.title}, Author: {self.author}, Price: {self.price}\"\n",
    "    def get_store_info(self):\n",
    "        return f\"Store: {self.store}, Place: {self.place}, Phone: {self.phone}\"\n",
    "book1 = book(\"Python Programming\", \"John Doe\", 29.99)\n",
    "print(book1.get_book_info())\n",
    "print(book1.get_store_info())"
   ]
  },
  {
   "cell_type": "code",
   "execution_count": 6,
   "id": "46172f31",
   "metadata": {},
   "outputs": [
    {
     "name": "stdout",
     "output_type": "stream",
     "text": [
      "Title: Python L, Author: asif, Price: 100.0\n",
      "Store: Book Store, Place: Dhaka, Phone: 01700000000\n"
     ]
    }
   ],
   "source": [
    "class book:\n",
    "    store = \"Book Store\"\n",
    "    place = \"Dhaka\"\n",
    "    phone = \"01700000000\"\n",
    "    def __init__(self):\n",
    "        self.title = input(\"Enter book title: \")\n",
    "        self.author = input(\"Enter book author: \")\n",
    "        self.price = float(input(\"Enter book price: \"))\n",
    "    def get_book_info(self):\n",
    "        return f\"Title: {self.title}, Author: {self.author}, Price: {self.price}\"\n",
    "    def get_store_info(self):\n",
    "        return f\"Store: {self.store}, Place: {self.place}, Phone: {self.phone}\"\n",
    "book1 = book()\n",
    "print(book1.get_book_info())\n",
    "print(book1.get_store_info())"
   ]
  },
  {
   "cell_type": "code",
   "execution_count": 7,
   "id": "d0f787b1",
   "metadata": {},
   "outputs": [
    {
     "name": "stdout",
     "output_type": "stream",
     "text": [
      "Stored 10GB of data. Used space: 10GB\n",
      "Stored 20GB of data. Used space: 30GB\n",
      "Not enough space to store data.\n",
      "Stored 30GB of data. Used space: 60GB\n",
      "Not enough space to store data.\n",
      "Used space: 60GB\n",
      "Available space: 4GB\n",
      "Not enough space to store data.\n"
     ]
    }
   ],
   "source": [
    "class USB_bank:\n",
    "    def __init__(self, capacity):\n",
    "        self.capacity = capacity\n",
    "        self.used_space = 0\n",
    "    def store_data(self, data_size):\n",
    "        if self.used_space + data_size <= self.capacity:\n",
    "            self.used_space += data_size\n",
    "            print(f\"Stored {data_size}GB of data. Used space: {self.used_space}GB\")\n",
    "        else:\n",
    "            print(\"Not enough space to store data.\")\n",
    "    def get_used_space(self):\n",
    "        return self.used_space\n",
    "    def get_available_space(self):\n",
    "        return self.capacity - self.used_space\n",
    "usb = USB_bank(64)  # 64GB USB drive    \n",
    "usb.store_data(10)  # Store 10GB of data\n",
    "usb.store_data(20)  # Store 20GB of data\n",
    "usb.store_data(50)  # Attempt to store 50GB of data (should fail)\n",
    "usb.store_data(30)  # Store 30GB of data (should fail)\n",
    "usb.store_data(5)  # Store 5GB of data\n",
    "print(f\"Used space: {usb.get_used_space()}GB\")\n",
    "print(f\"Available space: {usb.get_available_space()}GB\")  # Check available space\n",
    "usb.store_data(5)  # Store 5GB of dat"
   ]
  },
  {
   "cell_type": "code",
   "execution_count": 12,
   "id": "54248f5a",
   "metadata": {},
   "outputs": [
    {
     "name": "stdout",
     "output_type": "stream",
     "text": [
      "Name: John Doe, Age: 30\n",
      "SSN: 123-45-6789\n",
      "Updated Age: 35\n",
      "Updated SSN: 987-65-4321\n",
      "Updated SSN: 987-65-4321\n",
      "Updated Age: 35\n"
     ]
    }
   ],
   "source": [
    "class Person:\n",
    "    def __init__(self, name, age):\n",
    "        self.name = name        # public\n",
    "        self._age = age         # protected\n",
    "        self.__ssn = \"123-45-6789\"  # private\n",
    "\n",
    "    def display(self):\n",
    "        print(f\"Name: {self.name}, Age: {self._age}\")\n",
    "\n",
    "    def show_ssn(self):\n",
    "        print(f\"SSN: {self.__ssn}\")\n",
    "details = Person(\"John Doe\", 30)\n",
    "details.display()  # Accessing public attribute\n",
    "details.show_ssn()  # Accessing private method\n",
    "details._age = 35  # Accessing protected attribute (not recommended)\n",
    "print(f\"Updated Age: {details._age}\")  # Accessing protected attribute (not recommended)\n",
    "details.__ssn = \"987-65-4321\"  # Attempting to access private attribute (will not work)\n",
    "print(f\"Updated SSN: {details.__ssn}\")  # Attempting to access private attribute (will not work)\n",
    "details._Person__ssn = \"987-65-4321\"  # Accessing private attribute using name mangling\n",
    "print(f\"Updated SSN: {details._Person__ssn}\")  # Accessing private attribute using name mangling\n",
    "display._age = 35  # Accessing protected attribute (not recommended)\n",
    "print(f\"Updated Age: {display._age}\")  # Accessing protected attribute (not recommended)"
   ]
  },
  {
   "cell_type": "code",
   "execution_count": null,
   "id": "cbd4ee92",
   "metadata": {},
   "outputs": [
    {
     "name": "stdout",
     "output_type": "stream",
     "text": [
      "Hello, my name is John Doe\n",
      "None\n"
     ]
    }
   ],
   "source": [
    "# Encapsulation: Hiding the implementation details and exposing only the essential features to the user.\n",
    "class person:\n",
    "    __name = \"John Doe\"  # protected attribute\n",
    "    def __hello(self):\n",
    "        print(\"Hello, my name is\", self.__name)\n",
    "    def welcome(self):\n",
    "        self.__hello()\n",
    "p = person()\n",
    "print(p.welcome())  # Accessing private method"
   ]
  },
  {
   "cell_type": "code",
   "execution_count": null,
   "id": "bcc934a3",
   "metadata": {},
   "outputs": [
    {
     "name": "stdout",
     "output_type": "stream",
     "text": [
      "Car started...\n",
      "Car stopped!!\n",
      "Model: Corolla, Year: 2022\n",
      "Car started...\n",
      "Car stopped!!\n"
     ]
    }
   ],
   "source": [
    "# Inheritance: Creating a subclass that inherits from a superclass\n",
    "class car:\n",
    "    @staticmethod\n",
    "    def start():\n",
    "        print(\"Car started...\")\n",
    "    @staticmethod\n",
    "    def stop():\n",
    "        print(\"Car stopped!!\")\n",
    "class Toyata(car):\n",
    "    def __init__(self, model, year):\n",
    "        self.model = model\n",
    "        self.year = year\n",
    "car.start()  # Calling static method without creating an instance\n",
    "car.stop()  # Calling static method without creating an instance\n",
    "toyota = Toyata(\"Corolla\", 2022)  # Creating an instance of the subclass\n",
    "print(f\"Model: {toyota.model}, Year: {toyota.year}\")  # Accessing subclass attributes\n",
    "toyota.start()  # Calling static method from subclass\n",
    "toyota.stop()  # Calling static method from subclass"
   ]
  },
  {
   "cell_type": "code",
   "execution_count": 24,
   "id": "af7aad5d",
   "metadata": {},
   "outputs": [
    {
     "name": "stdout",
     "output_type": "stream",
     "text": [
      "Car started...\n",
      "Car started...\n",
      "Car stopped!!\n"
     ]
    }
   ],
   "source": [
    "class car:\n",
    "    @staticmethod\n",
    "    def start():\n",
    "        print(\"Car started...\")\n",
    "    @staticmethod\n",
    "    def stop():\n",
    "        print(\"Car stopped!!\")\n",
    "class Toyata(car):\n",
    "    def __init__(self, model, year):\n",
    "        self.model = model\n",
    "        self.year = year\n",
    "\n",
    "class Honda(Toyata):\n",
    "    def __init__(self, color):\n",
    "        self.color = color  # Adding a new attribute for the Honda class\n",
    "\n",
    "car1 = Honda(\"Red\")  # Creating an instance of the subclass\n",
    "car1.start()  # Calling static method from subclass\n",
    "Honda.start()  # Calling static method from subclass\n",
    "Honda.stop()  # Calling static method from subclass"
   ]
  },
  {
   "cell_type": "code",
   "execution_count": 25,
   "id": "41a1fd4d",
   "metadata": {},
   "outputs": [
    {
     "name": "stdout",
     "output_type": "stream",
     "text": [
      "Class A\n",
      "Class B\n",
      "Class C\n"
     ]
    }
   ],
   "source": [
    "class A:\n",
    "    var1=\"Class A\"\n",
    "class B:\n",
    "    var2=\"Class B\"\n",
    "class C(A, B):\n",
    "    var3=\"Class C\"\n",
    "c1 = C()  # Creating an instance of class C\n",
    "print(c1.var1)  # Accessing variable from class A\n",
    "print(c1.var2)  # Accessing variable from class B\n",
    "print(c1.var3)  # Accessing variable from class C"
   ]
  },
  {
   "cell_type": "code",
   "execution_count": 33,
   "id": "4e871e31",
   "metadata": {},
   "outputs": [
    {
     "name": "stdout",
     "output_type": "stream",
     "text": [
      "elctric\n",
      "Red\n"
     ]
    }
   ],
   "source": [
    "class car:\n",
    "    def __init__(self,type):\n",
    "        self.type = type\n",
    "    @staticmethod\n",
    "    def start():\n",
    "        print(\"Car started...\")\n",
    "    @staticmethod\n",
    "    def stop():\n",
    "        print(\"Car stopped!!\")\n",
    "\n",
    "class Honda(car):\n",
    "    def __init__(self, color,type):\n",
    "        self.color = color \n",
    "        super().__init__(type)\n",
    "\n",
    "car1 = Honda(\"elctric\",\"Red\")  # Creating an instance of the subclass\n",
    "print(car1.color)  # Accessing variable from class A\n",
    "print(car1.type)  # Accessing variable from class A"
   ]
  },
  {
   "cell_type": "code",
   "execution_count": 45,
   "id": "5cef5f0f",
   "metadata": {},
   "outputs": [
    {
     "name": "stdout",
     "output_type": "stream",
     "text": [
      "John Doe\n",
      "John Doe\n"
     ]
    }
   ],
   "source": [
    "class person:\n",
    "    name = \"anonymous\"\n",
    "    @classmethod\n",
    "    def chnage_name(cls, name):\n",
    "        #self.name = name\n",
    "        #person.name = name\n",
    "        #self.__class__.name = name  # Changing class variable using self.__class__\n",
    "        cls.name = name\n",
    "p = person()\n",
    "p.chnage_name(\"John Doe\")\n",
    "print(p.name)  # Accessing variable from class A\n",
    "print(person.name)  # Accessing variable from class A\n"
   ]
  },
  {
   "cell_type": "code",
   "execution_count": 47,
   "id": "0981af80",
   "metadata": {},
   "outputs": [
    {
     "name": "stdout",
     "output_type": "stream",
     "text": [
      "80.0%\n",
      "83.33333333333333%\n"
     ]
    }
   ],
   "source": [
    "class student:\n",
    "    def __init__(self,phy,math,chem):\n",
    "        self.phy = phy\n",
    "        self.math = math\n",
    "        self.chemistry = chem\n",
    "    @property\n",
    "    def percentage(self):\n",
    "        return str((self.phy + self.math + self.chemistry)/3)+\"%\"\n",
    "    \n",
    "s1 = student(90, 80, 70)\n",
    "print(s1.percentage)  # Accessing variable from class \n",
    "s1.phy = 100  # Changing the value of the variable\n",
    "print(s1.percentage)  # Accessing variable from class A\n"
   ]
  },
  {
   "cell_type": "code",
   "execution_count": 55,
   "id": "5de4619c",
   "metadata": {},
   "outputs": [
    {
     "name": "stdout",
     "output_type": "stream",
     "text": [
      "Role: Datacience\n",
      "Department: CSE\n",
      "Salary: 100000\n",
      "Role: Datacience\n",
      "Department: CSE\n",
      "Salary: 100000\n"
     ]
    }
   ],
   "source": [
    "class employee:\n",
    "    def __init__(self, role,dpt, salary):\n",
    "        self.role = role\n",
    "        self.dpt = dpt\n",
    "        self.salary = salary\n",
    "    def showDetails(self):\n",
    "        print(\"Role:\", self.role)\n",
    "        print(\"Department:\", self.dpt)\n",
    "        print(\"Salary:\", self.salary)\n",
    "class engineer(employee):\n",
    "    def __init__(self, name, age):\n",
    "        self.name = name\n",
    "        self.age = age\n",
    "        super().__init__(\"Datacience\", \"CSE\", 100000)  \n",
    "engg1 = engineer(\"John Doe\", 30)  # Creating an instance of the subclass\n",
    "engg1.showDetails()  # Calling method from subclass\n",
    "engg2 = engineer(\"Jane Doe\", 25)  # Creating another instance of the subclass\n",
    "engg2.showDetails()  # Calling method from subclass"
   ]
  }
 ],
 "metadata": {
  "kernelspec": {
   "display_name": "Python 3",
   "language": "python",
   "name": "python3"
  },
  "language_info": {
   "codemirror_mode": {
    "name": "ipython",
    "version": 3
   },
   "file_extension": ".py",
   "mimetype": "text/x-python",
   "name": "python",
   "nbconvert_exporter": "python",
   "pygments_lexer": "ipython3",
   "version": "3.11.9"
  }
 },
 "nbformat": 4,
 "nbformat_minor": 5
}
