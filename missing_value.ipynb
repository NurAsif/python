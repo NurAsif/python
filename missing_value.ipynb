{
 "cells": [
  {
   "cell_type": "code",
   "execution_count": 2,
   "id": "a6d525ef",
   "metadata": {},
   "outputs": [],
   "source": [
    "import pandas as pd\n",
    "import numpy as np\n",
    "import matplotlib.pyplot as plt"
   ]
  },
  {
   "cell_type": "code",
   "execution_count": 3,
   "id": "737bc65d",
   "metadata": {},
   "outputs": [
    {
     "data": {
      "application/vnd.microsoft.datawrangler.viewer.v0+json": {
       "columns": [
        {
         "name": "index",
         "rawType": "int64",
         "type": "integer"
        },
        {
         "name": "date",
         "rawType": "object",
         "type": "string"
        },
        {
         "name": "type",
         "rawType": "object",
         "type": "string"
        },
        {
         "name": "year",
         "rawType": "float64",
         "type": "float"
        },
        {
         "name": "avg_price",
         "rawType": "float64",
         "type": "float"
        },
        {
         "name": "size",
         "rawType": "object",
         "type": "string"
        },
        {
         "name": "nb_sold",
         "rawType": "float64",
         "type": "float"
        }
       ],
       "conversionMethod": "pd.DataFrame",
       "ref": "bd2841d9-fa4b-4ccf-b5c1-5fcb2ae44306",
       "rows": [
        [
         "0",
         "1/1/2015",
         "conventional",
         "2015.0",
         "1.83",
         "large",
         "6855577.557"
        ],
        [
         "1",
         "1/8/2015",
         "conventional",
         "2015.0",
         "2.31",
         "medium",
         "1490899.19"
        ],
        [
         "2",
         "1/15/2015",
         "organic",
         "2015.0",
         "2.04",
         "small",
         "2784575.561"
        ],
        [
         "3",
         "1/22/2015",
         "conventional",
         "2015.0",
         "1.89",
         "medium",
         "833549.401"
        ],
        [
         "4",
         "1/29/2015",
         "organic",
         "2015.0",
         "1.69",
         "extra_large",
         "2025960.44"
        ]
       ],
       "shape": {
        "columns": 6,
        "rows": 5
       }
      },
      "text/html": [
       "<div>\n",
       "<style scoped>\n",
       "    .dataframe tbody tr th:only-of-type {\n",
       "        vertical-align: middle;\n",
       "    }\n",
       "\n",
       "    .dataframe tbody tr th {\n",
       "        vertical-align: top;\n",
       "    }\n",
       "\n",
       "    .dataframe thead th {\n",
       "        text-align: right;\n",
       "    }\n",
       "</style>\n",
       "<table border=\"1\" class=\"dataframe\">\n",
       "  <thead>\n",
       "    <tr style=\"text-align: right;\">\n",
       "      <th></th>\n",
       "      <th>date</th>\n",
       "      <th>type</th>\n",
       "      <th>year</th>\n",
       "      <th>avg_price</th>\n",
       "      <th>size</th>\n",
       "      <th>nb_sold</th>\n",
       "    </tr>\n",
       "  </thead>\n",
       "  <tbody>\n",
       "    <tr>\n",
       "      <th>0</th>\n",
       "      <td>1/1/2015</td>\n",
       "      <td>conventional</td>\n",
       "      <td>2015.0</td>\n",
       "      <td>1.83</td>\n",
       "      <td>large</td>\n",
       "      <td>6855577.557</td>\n",
       "    </tr>\n",
       "    <tr>\n",
       "      <th>1</th>\n",
       "      <td>1/8/2015</td>\n",
       "      <td>conventional</td>\n",
       "      <td>2015.0</td>\n",
       "      <td>2.31</td>\n",
       "      <td>medium</td>\n",
       "      <td>1490899.190</td>\n",
       "    </tr>\n",
       "    <tr>\n",
       "      <th>2</th>\n",
       "      <td>1/15/2015</td>\n",
       "      <td>organic</td>\n",
       "      <td>2015.0</td>\n",
       "      <td>2.04</td>\n",
       "      <td>small</td>\n",
       "      <td>2784575.561</td>\n",
       "    </tr>\n",
       "    <tr>\n",
       "      <th>3</th>\n",
       "      <td>1/22/2015</td>\n",
       "      <td>conventional</td>\n",
       "      <td>2015.0</td>\n",
       "      <td>1.89</td>\n",
       "      <td>medium</td>\n",
       "      <td>833549.401</td>\n",
       "    </tr>\n",
       "    <tr>\n",
       "      <th>4</th>\n",
       "      <td>1/29/2015</td>\n",
       "      <td>organic</td>\n",
       "      <td>2015.0</td>\n",
       "      <td>1.69</td>\n",
       "      <td>extra_large</td>\n",
       "      <td>2025960.440</td>\n",
       "    </tr>\n",
       "  </tbody>\n",
       "</table>\n",
       "</div>"
      ],
      "text/plain": [
       "        date          type    year  avg_price         size      nb_sold\n",
       "0   1/1/2015  conventional  2015.0       1.83        large  6855577.557\n",
       "1   1/8/2015  conventional  2015.0       2.31       medium  1490899.190\n",
       "2  1/15/2015       organic  2015.0       2.04        small  2784575.561\n",
       "3  1/22/2015  conventional  2015.0       1.89       medium   833549.401\n",
       "4  1/29/2015       organic  2015.0       1.69  extra_large  2025960.440"
      ]
     },
     "execution_count": 3,
     "metadata": {},
     "output_type": "execute_result"
    }
   ],
   "source": [
    "avocados = pd.read_csv(r'E:\\Notebook\\avocados_missing.csv')\n",
    "avocados.head()"
   ]
  },
  {
   "cell_type": "code",
   "execution_count": 6,
   "id": "a2bdc5b1",
   "metadata": {},
   "outputs": [
    {
     "name": "stdout",
     "output_type": "stream",
     "text": [
      "      date   type   year  avg_price   size  nb_sold\n",
      "105  False  False  False      False  False    False\n",
      "106  False  False  False      False  False    False\n",
      "107  False  False  False      False  False    False\n",
      "108  False  False  False      False  False    False\n",
      "109  False  False  False      False  False    False\n",
      "110  False  False  False      False  False    False\n",
      "111  False  False  False      False  False    False\n",
      "112  False  False  False      False  False    False\n",
      "113  False  False  False      False  False    False\n",
      "114  False  False  False      False  False    False\n",
      "115  False  False  False      False  False    False\n",
      "116  False  False  False      False  False    False\n",
      "117  False  False  False      False  False    False\n",
      "118  False  False  False      False  False    False\n",
      "119  False  False  False      False  False    False\n",
      "120  False  False  False      False  False    False\n",
      "121  False  False  False      False  False    False\n",
      "122  False  False  False      False  False    False\n",
      "123  False  False  False      False  False    False\n",
      "124  False  False  False      False  False    False\n",
      "125  False  False  False      False  False    False\n",
      "126  False  False  False      False  False    False\n",
      "127  False  False  False      False  False    False\n",
      "128  False  False  False      False  False    False\n",
      "129  False  False  False      False  False    False\n",
      "135  False  False  False      False  False    False\n",
      "136  False  False  False      False  False    False\n",
      "137  False  False  False      False  False    False\n",
      "138  False  False  False      False  False    False\n",
      "139  False  False  False      False  False    False\n",
      "140  False  False  False      False  False    False\n",
      "141  False  False  False      False  False    False\n",
      "142  False  False  False      False  False    False\n",
      "143  False  False  False      False  False    False\n",
      "144  False  False  False      False  False    False\n",
      "145  False  False  False      False  False    False\n",
      "146  False  False  False      False  False    False\n",
      "147  False  False  False      False  False    False\n",
      "148  False  False  False       True  False    False\n",
      "149  False  False  False       True  False    False\n",
      "150  False  False  False       True  False    False\n",
      "151  False  False  False       True  False    False\n",
      "152  False  False  False       True  False    False\n",
      "153  False  False  False       True  False    False\n",
      "154  False  False  False       True  False    False\n",
      "155  False  False  False      False  False    False\n",
      "156  False  False  False      False  False    False\n",
      "date         False\n",
      "type         False\n",
      "year         False\n",
      "avg_price     True\n",
      "size         False\n",
      "nb_sold      False\n",
      "dtype: bool\n"
     ]
    },
    {
     "data": {
      "image/png": "[encoded data removed]",
      "text/plain": [
       "<Figure size 640x480 with 1 Axes>"
      ]
     },
     "metadata": {},
     "output_type": "display_data"
    }
   ],
   "source": [
    "# Filter the avocados DataFrame for the year 2016\n",
    "avocados_2017 = avocados[avocados['year'] == 2017]\n",
    "\n",
    "# Check individual values for missing values\n",
    "print(avocados_2017.isna())\n",
    "\n",
    "# Check each column for missing values\n",
    "print(avocados_2017.isna().any())\n",
    "\n",
    "# Bar plot of missing values by variable\n",
    "avocados_2017.isna().sum().plot(kind=\"bar\")\n",
    "\n",
    "# Show plot\n",
    "plt.show()"
   ]
  },
  {
   "cell_type": "code",
   "execution_count": 7,
   "id": "bce4e9ff",
   "metadata": {},
   "outputs": [
    {
     "name": "stdout",
     "output_type": "stream",
     "text": [
      "date         False\n",
      "type         False\n",
      "year         False\n",
      "avg_price    False\n",
      "size         False\n",
      "nb_sold      False\n",
      "dtype: bool\n"
     ]
    }
   ],
   "source": [
    "# Remove rows with missing values\n",
    "avocados_complete = avocados_2017.dropna()\n",
    "\n",
    "# Check if any columns contain missing values\n",
    "print(avocados_complete.isna().any())"
   ]
  },
  {
   "cell_type": "code",
   "execution_count": 9,
   "id": "74632033",
   "metadata": {},
   "outputs": [
    {
     "data": {
      "image/png": "[encoded data removed]",
      "text/plain": [
       "<Figure size 640x480 with 2 Axes>"
      ]
     },
     "metadata": {},
     "output_type": "display_data"
    }
   ],
   "source": [
    "# List the columns with missing values\n",
    "cols_with_missing = [\"year\", \"avg_price\", \"size\"]\n",
    "\n",
    "# Create histograms showing the distributions cols_with_missing\n",
    "avocados_2017[cols_with_missing].hist()\n",
    "\n",
    "# Show the plot\n",
    "plt.show()"
   ]
  },
  {
   "cell_type": "code",
   "execution_count": 10,
   "id": "79afb97e",
   "metadata": {},
   "outputs": [
    {
     "data": {
      "image/png": "[encoded data removed]",
      "text/plain": [
       "<Figure size 640x480 with 2 Axes>"
      ]
     },
     "metadata": {},
     "output_type": "display_data"
    },
    {
     "data": {
      "image/png": "[encoded data removed]",
      "text/plain": [
       "<Figure size 640x480 with 2 Axes>"
      ]
     },
     "metadata": {},
     "output_type": "display_data"
    }
   ],
   "source": [
    "# From previous step\n",
    "# List the columns with missing values\n",
    "cols_with_missing = [\"year\", \"avg_price\", \"size\"]\n",
    "\n",
    "# Create histograms showing the distributions cols_with_missing\n",
    "avocados_2017[cols_with_missing].hist()\n",
    "\n",
    "# Show the plot\n",
    "plt.show()\n",
    "\n",
    "# Fill in missing values with 0\n",
    "avocados_filled = avocados_2017.fillna(0)\n",
    "\n",
    "# Create histograms of the filled columns\n",
    "avocados_filled[cols_with_missing].hist()\n",
    "\n",
    "# Show the plot\n",
    "plt.show()"
   ]
  },
  {
   "cell_type": "code",
   "execution_count": 11,
   "id": "4a13a82f",
   "metadata": {},
   "outputs": [
    {
     "name": "stdout",
     "output_type": "stream",
     "text": [
      "         date  small_sold  large_sold\n",
      "0  2019-11-03    10376832     7835071\n",
      "1  2019-11-10    10717154     8561348\n"
     ]
    }
   ],
   "source": [
    "# Create a list of dictionaries with new data\n",
    "avocados_list = [\n",
    "    {\"date\": \"2019-11-03\", \"small_sold\": 10376832, \"large_sold\": 7835071},\n",
    "    {\"date\": \"2019-11-10\", \"small_sold\": 10717154, \"large_sold\": 8561348},\n",
    "]\n",
    "# Convert list into DataFrame\n",
    "avocados_2019 = pd.DataFrame(avocados_list)\n",
    "\n",
    "# Print the new DataFrame\n",
    "print(avocados_2019)"
   ]
  },
  {
   "cell_type": "code",
   "execution_count": 12,
   "id": "5cf6e4cc",
   "metadata": {},
   "outputs": [
    {
     "name": "stdout",
     "output_type": "stream",
     "text": [
      "         date  small_sold  large_sold\n",
      "0  2019-11-17    10859987     7674135\n",
      "1  2019-12-01     9291631     6238096\n"
     ]
    }
   ],
   "source": [
    "# Create a dictionary of lists with new data\n",
    "avocados_dict = {\n",
    "  \"date\": [\"2019-11-17\", \"2019-12-01\"],\n",
    "  \"small_sold\": [10859987, 9291631],\n",
    "  \"large_sold\": [7674135, 6238096]\n",
    "}\n",
    "\n",
    "# Convert dictionary into DataFrame\n",
    "avocados_2019 = pd.DataFrame(avocados_dict)\n",
    "\n",
    "# Print the new DataFrame\n",
    "print(avocados_2019)"
   ]
  },
  {
   "cell_type": "code",
   "execution_count": null,
   "id": "e946b8c1",
   "metadata": {},
   "outputs": [],
   "source": []
  }
 ],
 "metadata": {
  "kernelspec": {
   "display_name": "Python 3",
   "language": "python",
   "name": "python3"
  },
  "language_info": {
   "codemirror_mode": {
    "name": "ipython",
    "version": 3
   },
   "file_extension": ".py",
   "mimetype": "text/x-python",
   "name": "python",
   "nbconvert_exporter": "python",
   "pygments_lexer": "ipython3",
   "version": "3.11.9"
  }
 },
 "nbformat": 4,
 "nbformat_minor": 5
}
