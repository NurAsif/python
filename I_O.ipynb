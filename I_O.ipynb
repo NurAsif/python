{
 "cells": [
  {
   "cell_type": "code",
   "execution_count": 3,
   "id": "bd8bcbf9",
   "metadata": {},
   "outputs": [
    {
     "name": "stdout",
     "output_type": "stream",
     "text": [
      "Hello this my first file open text\n",
      "<class 'str'>\n"
     ]
    }
   ],
   "source": [
    "f=open('demo.txt', 'r')\n",
    "data = f.read()\n",
    "print(data)\n",
    "print(type(data))\n",
    "f.close()"
   ]
  },
  {
   "cell_type": "code",
   "execution_count": 9,
   "id": "285552d1",
   "metadata": {},
   "outputs": [
    {
     "name": "stdout",
     "output_type": "stream",
     "text": [
      "11\n"
     ]
    }
   ],
   "source": [
    "f=open('demo.txt', 'w')\n",
    "data = f.write('Hello World')\n",
    "print(data)\n",
    "f.close()"
   ]
  },
  {
   "cell_type": "code",
   "execution_count": 10,
   "id": "52ef1f84",
   "metadata": {},
   "outputs": [
    {
     "name": "stdout",
     "output_type": "stream",
     "text": [
      "Hello\n"
     ]
    }
   ],
   "source": [
    "f=open('demo.txt', 'r')\n",
    "data = f.read(5)\n",
    "print(data)\n",
    "f.close()"
   ]
  },
  {
   "cell_type": "code",
   "execution_count": 12,
   "id": "3e154e26",
   "metadata": {},
   "outputs": [
    {
     "name": "stdout",
     "output_type": "stream",
     "text": [
      "Hello\n"
     ]
    }
   ],
   "source": [
    "f=open('demo.txt', 'a')\n",
    "f.write('Hello World 2')\n",
    "print(data)\n",
    "f.close()"
   ]
  },
  {
   "cell_type": "code",
   "execution_count": 14,
   "id": "7d0ca978",
   "metadata": {},
   "outputs": [
    {
     "name": "stdout",
     "output_type": "stream",
     "text": [
      "Hello WorldHello World 2Hello World 2\n"
     ]
    }
   ],
   "source": [
    "with open('demo.txt', 'r') as f:\n",
    "    data = f.read()\n",
    "    print(data)"
   ]
  },
  {
   "cell_type": "code",
   "execution_count": 15,
   "id": "98cdcd02",
   "metadata": {},
   "outputs": [
    {
     "name": "stdout",
     "output_type": "stream",
     "text": [
      "13\n"
     ]
    }
   ],
   "source": [
    "with open('demo.txt', 'w') as f:\n",
    "    data = f.write('Hello World 3')\n",
    "    print(data)"
   ]
  },
  {
   "cell_type": "code",
   "execution_count": 19,
   "id": "e638b260",
   "metadata": {},
   "outputs": [
    {
     "name": "stdout",
     "output_type": "stream",
     "text": [
      "hello\n"
     ]
    }
   ],
   "source": [
    "with open('sample.txt', 'r') as f:\n",
    "    data = f.read()\n",
    "    print(data)"
   ]
  },
  {
   "cell_type": "code",
   "execution_count": 20,
   "id": "8eff348a",
   "metadata": {},
   "outputs": [],
   "source": [
    "import os\n",
    "os.remove('sample.txt')"
   ]
  },
  {
   "cell_type": "code",
   "execution_count": 24,
   "id": "4e544905",
   "metadata": {},
   "outputs": [],
   "source": [
    "with open('practice.txt', 'w') as f:\n",
    "    f.write(\"hey everyone\\n we are learning file handling in python\\n\")\n",
    "    f.write(\"using java\\nI like programming in java.\\n\")"
   ]
  },
  {
   "cell_type": "code",
   "execution_count": 29,
   "id": "fed52408",
   "metadata": {},
   "outputs": [
    {
     "name": "stdout",
     "output_type": "stream",
     "text": [
      "hey everyone\n",
      " we are learning file handling in python\n",
      "using python\n",
      "I like programming in python.\n",
      "\n"
     ]
    }
   ],
   "source": [
    "with open('practice.txt', 'r') as f:\n",
    "    data = f.read()\n",
    "new_data = data.replace('java', 'python')\n",
    "print(new_data)\n",
    "\n",
    "with open('practice.txt', 'w') as f:\n",
    "    data = f.write(new_data)\n"
   ]
  },
  {
   "cell_type": "code",
   "execution_count": 38,
   "id": "2209daaf",
   "metadata": {},
   "outputs": [
    {
     "name": "stdout",
     "output_type": "stream",
     "text": [
      "Word found\n"
     ]
    }
   ],
   "source": [
    "word = \"learning\"\n",
    "with open('practice.txt', 'r') as f:\n",
    "    data = f.read()\n",
    "    if (data.find(word) != -1):\n",
    "    # if word in data:\n",
    "        print(\"Word found\")\n",
    "    else:\n",
    "        print(\"Word not found\")"
   ]
  },
  {
   "cell_type": "code",
   "execution_count": 39,
   "id": "c33d3b46",
   "metadata": {},
   "outputs": [
    {
     "name": "stdout",
     "output_type": "stream",
     "text": [
      "Word found\n"
     ]
    }
   ],
   "source": [
    "def check_word_in_file():\n",
    "    word = \"learning\"\n",
    "    with open('practice.txt', 'r') as f:\n",
    "        data = f.read()\n",
    "        if (data.find(word) != -1):\n",
    "    # if word in data:\n",
    "            print(\"Word found\")\n",
    "        else:\n",
    "            print(\"Word not found\")\n",
    "check_word_in_file()"
   ]
  },
  {
   "cell_type": "code",
   "execution_count": 43,
   "id": "1bbeb445",
   "metadata": {},
   "outputs": [
    {
     "name": "stdout",
     "output_type": "stream",
     "text": [
      "Word found on line 2\n",
      "None\n"
     ]
    }
   ],
   "source": [
    "def check_line():\n",
    "    word = \"learning\"\n",
    "    line = 1\n",
    "    with open('practice.txt', 'r') as f:\n",
    "        for data in f:\n",
    "            if word in data:\n",
    "                print(f\"Word found on line {line}\")\n",
    "                return\n",
    "            line += 1\n",
    "    \n",
    "    return -1\n",
    "print(check_line())"
   ]
  },
  {
   "cell_type": "code",
   "execution_count": 46,
   "id": "a9fc6780",
   "metadata": {},
   "outputs": [
    {
     "name": "stdout",
     "output_type": "stream",
     "text": [
      "-1\n"
     ]
    }
   ],
   "source": [
    "def check_line_w():\n",
    "    word = \"learing\"\n",
    "    data = True\n",
    "    line = 1\n",
    "    with open('practice.txt', 'r') as f:\n",
    "        while data:\n",
    "            data = f.readline()\n",
    "            if word in data:\n",
    "                print(line)\n",
    "                return\n",
    "            line += 1\n",
    "    return -1\n",
    "print(check_line_w())\n"
   ]
  },
  {
   "cell_type": "code",
   "execution_count": 61,
   "id": "284dde9a",
   "metadata": {},
   "outputs": [
    {
     "name": "stdout",
     "output_type": "stream",
     "text": [
      "1,2,4,10,40,50,100\n",
      "1\n",
      "2\n",
      "4\n",
      "10\n",
      "40\n",
      "50\n",
      "100\n"
     ]
    }
   ],
   "source": [
    "with open('p2.txt', 'r') as f:\n",
    "    data = f.read()\n",
    "    print(data)\n",
    "\n",
    "    num = \"\"\n",
    "    for i in range(len(data)):\n",
    "        if data[i] == \",\":\n",
    "            print(num)\n",
    "            num = \"\"\n",
    "        else:\n",
    "            num += data[i]\n",
    "    print(num)\n",
    "\n",
    "\n",
    "  "
   ]
  },
  {
   "cell_type": "code",
   "execution_count": 63,
   "id": "8754d1de",
   "metadata": {},
   "outputs": [
    {
     "name": "stdout",
     "output_type": "stream",
     "text": [
      "['1', '2', '4', '10', '40', '50', '100']\n",
      "1\n",
      "2\n",
      "4\n",
      "10\n",
      "40\n",
      "50\n",
      "100\n"
     ]
    }
   ],
   "source": [
    "count = 0\n",
    "with open('p2.txt', 'r') as f:\n",
    "    data = f.read()\n",
    "    \n",
    "    num = data.split(\",\")\n",
    "    print(num)\n",
    "    for i in num:\n",
    "        count += 1\n",
    "        print(i)\n"
   ]
  },
  {
   "cell_type": "code",
   "execution_count": 64,
   "id": "1a2b76ff",
   "metadata": {},
   "outputs": [
    {
     "name": "stdout",
     "output_type": "stream",
     "text": [
      "['1', '2', '4', '10', '40', '50', '100']\n",
      "6\n"
     ]
    }
   ],
   "source": [
    "count = 0\n",
    "with open('p2.txt', 'r') as f:\n",
    "    data = f.read()\n",
    "    \n",
    "    num = data.split(\",\")\n",
    "    print(num)\n",
    "    for i in num:\n",
    "        if int(i) % 2 == 0:  # Check if the number is even\n",
    "            count += 1\n",
    "print(count)"
   ]
  }
 ],
 "metadata": {
  "kernelspec": {
   "display_name": "Python 3",
   "language": "python",
   "name": "python3"
  },
  "language_info": {
   "codemirror_mode": {
    "name": "ipython",
    "version": 3
   },
   "file_extension": ".py",
   "mimetype": "text/x-python",
   "name": "python",
   "nbconvert_exporter": "python",
   "pygments_lexer": "ipython3",
   "version": "3.11.9"
  }
 },
 "nbformat": 4,
 "nbformat_minor": 5
}
