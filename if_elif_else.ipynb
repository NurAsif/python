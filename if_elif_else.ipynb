{
 "cells": [
  {
   "cell_type": "code",
   "execution_count": 8,
   "id": "6bdf1773",
   "metadata": {},
   "outputs": [
    {
     "name": "stdout",
     "output_type": "stream",
     "text": [
      "z is checking 4\n",
      "even\n"
     ]
    }
   ],
   "source": [
    "z = 4\n",
    "if z % 2 == 0:\n",
    "    print(\"z is checking\" + \" \" + str((z)))\n",
    "    print(\"even\")"
   ]
  },
  {
   "cell_type": "code",
   "execution_count": 9,
   "id": "fb1f3133",
   "metadata": {},
   "outputs": [
    {
     "name": "stdout",
     "output_type": "stream",
     "text": [
      "z is checking 5\n",
      "odd\n"
     ]
    }
   ],
   "source": [
    "z = 5\n",
    "if z % 2 == 0:\n",
    "    print(\"z is checking\" + \" \" + str((z)))\n",
    "    print(\"even\")\n",
    "else:\n",
    "    print(\"z is checking\" + \" \" + str((z)))\n",
    "    print(\"odd\")"
   ]
  },
  {
   "cell_type": "code",
   "execution_count": 11,
   "id": "5a30ff06",
   "metadata": {},
   "outputs": [
    {
     "data": {
      "text/plain": [
       "'\\nif condition:   \\n    statements /expression\\nelif condition:\\n    statements /expression\\nelif condition:\\n    statements /expression\\nelse:\\n    statements /expression\\n'"
      ]
     },
     "execution_count": 11,
     "metadata": {},
     "output_type": "execute_result"
    }
   ],
   "source": [
    "\"\"\"\n",
    "if condition:   \n",
    "    statements /expression\n",
    "elif condition:\n",
    "    statements /expression\n",
    "elif condition:\n",
    "    statements /expression\n",
    "else:\n",
    "    statements /expression\n",
    "\"\"\""
   ]
  },
  {
   "cell_type": "code",
   "execution_count": 12,
   "id": "e107a1c5",
   "metadata": {},
   "outputs": [
    {
     "name": "stdout",
     "output_type": "stream",
     "text": [
      "odd\n"
     ]
    }
   ],
   "source": [
    "z = 3\n",
    "if z % 2 == 0:\n",
    "    print(\"even\")\n",
    "elif z % 3 == 0:\n",
    "    print(\"odd\")\n",
    "else:\n",
    "    print(\"not even and not odd\")"
   ]
  },
  {
   "cell_type": "code",
   "execution_count": 13,
   "id": "abb0f092",
   "metadata": {},
   "outputs": [
    {
     "name": "stdout",
     "output_type": "stream",
     "text": [
      "looking around in the kitchen.\n"
     ]
    }
   ],
   "source": [
    "# Define variables\n",
    "room = \"kit\"\n",
    "area = 14.0\n",
    "\n",
    "# if statement for room\n",
    "if room == \"kit\" :\n",
    "    print(\"looking around in the kitchen.\")\n",
    "\n",
    "# if statement for area\n",
    "if area > 15:\n",
    "    print(\"big place!\")"
   ]
  },
  {
   "cell_type": "code",
   "execution_count": 14,
   "id": "d356fdd6",
   "metadata": {},
   "outputs": [
    {
     "name": "stdout",
     "output_type": "stream",
     "text": [
      "looking around in the kitchen.\n",
      "pretty small.\n"
     ]
    }
   ],
   "source": [
    "# Define variables\n",
    "room = \"kit\"\n",
    "area = 14.0\n",
    "\n",
    "# if-else construct for room\n",
    "if room == \"kit\" :\n",
    "    print(\"looking around in the kitchen.\")\n",
    "else :\n",
    "    print(\"looking around elsewhere.\")\n",
    "\n",
    "# if-else construct for area\n",
    "if area > 15 :\n",
    "    print(\"big place!\")\n",
    "else:\n",
    "    print(\"pretty small.\")"
   ]
  },
  {
   "cell_type": "code",
   "execution_count": 15,
   "id": "e8db4116",
   "metadata": {},
   "outputs": [
    {
     "name": "stdout",
     "output_type": "stream",
     "text": [
      "looking around in the bedroom.\n",
      "medium size, nice!\n"
     ]
    }
   ],
   "source": [
    "# Define variables\n",
    "room = \"bed\"\n",
    "area = 14.0\n",
    "\n",
    "# if-elif-else construct for room\n",
    "if room == \"kit\" :\n",
    "    print(\"looking around in the kitchen.\")\n",
    "elif room == \"bed\":\n",
    "    print(\"looking around in the bedroom.\")\n",
    "else :\n",
    "    print(\"looking around elsewhere.\")\n",
    "\n",
    "# if-elif-else construct for area\n",
    "if area > 15 :\n",
    "    print(\"big place!\")\n",
    "elif area > 10:\n",
    "    print(\"medium size, nice!\")\n",
    "else :\n",
    "    print(\"pretty small.\")"
   ]
  },
  {
   "cell_type": "code",
   "execution_count": 1,
   "id": "cc7d383f",
   "metadata": {},
   "outputs": [],
   "source": [
    "import pandas as pd"
   ]
  },
  {
   "cell_type": "code",
   "execution_count": 18,
   "id": "b53e3985",
   "metadata": {},
   "outputs": [
    {
     "name": "stdout",
     "output_type": "stream",
     "text": [
      "     Country          City    Area  Population\n",
      "0    America      New York  14.674       200.4\n",
      "1     Canada       Toronto  10.544       100.5\n",
      "2     Mexico   Mexico City   9.222        50.2\n",
      "3     Brazil      Brasilia   8.513        30.0\n",
      "4  Argentina  Buenos Aires   4.454        20.0\n"
     ]
    }
   ],
   "source": [
    "a = [\"America\", \"Canada\", \"Mexico\", \"Brazil\", \"Argentina\"]\n",
    "b = [\"New York\", \"Toronto\", \"Mexico City\", \"Brasilia\", \"Buenos Aires\"]\n",
    "c = [14.674,10.544, 9.222, 8.513, 4.454]\n",
    "d = [200.400, 100.500, 50.200, 30.000, 20.000]\n",
    "data = {\"Country\": a, \"City\": b, \"Area\": c, \"Population\": d}\n",
    "df = pd.DataFrame(data)\n",
    "print(df)"
   ]
  },
  {
   "cell_type": "code",
   "execution_count": 19,
   "id": "4cd23d7b",
   "metadata": {},
   "outputs": [
    {
     "name": "stdout",
     "output_type": "stream",
     "text": [
      "       Country          City    Area  Population\n",
      "USA    America      New York  14.674       200.4\n",
      "CAN     Canada       Toronto  10.544       100.5\n",
      "MEX     Mexico   Mexico City   9.222        50.2\n",
      "BRA     Brazil      Brasilia   8.513        30.0\n",
      "ARG  Argentina  Buenos Aires   4.454        20.0\n"
     ]
    }
   ],
   "source": [
    "row_labels = [\"USA\",\"CAN\",\"MEX\",\"BRA\",\"ARG\"]\n",
    "df.index = row_labels\n",
    "print(df)"
   ]
  },
  {
   "cell_type": "code",
   "execution_count": 25,
   "id": "9c129032",
   "metadata": {},
   "outputs": [
    {
     "data": {
      "text/plain": [
       "USA    14.674\n",
       "CAN    10.544\n",
       "MEX     9.222\n",
       "BRA     8.513\n",
       "ARG     4.454\n",
       "Name: Area, dtype: float64"
      ]
     },
     "execution_count": 25,
     "metadata": {},
     "output_type": "execute_result"
    }
   ],
   "source": [
    "df[\"Area\"]"
   ]
  },
  {
   "cell_type": "code",
   "execution_count": 28,
   "id": "bd430d0a",
   "metadata": {},
   "outputs": [
    {
     "data": {
      "text/plain": [
       "USA    14.674\n",
       "CAN    10.544\n",
       "MEX     9.222\n",
       "BRA     8.513\n",
       "ARG     4.454\n",
       "Name: Area, dtype: float64"
      ]
     },
     "execution_count": 28,
     "metadata": {},
     "output_type": "execute_result"
    }
   ],
   "source": [
    "df.loc[:, \"Area\"]"
   ]
  },
  {
   "cell_type": "code",
   "execution_count": 29,
   "id": "6dc62ab4",
   "metadata": {},
   "outputs": [
    {
     "data": {
      "text/plain": [
       "USA    14.674\n",
       "CAN    10.544\n",
       "MEX     9.222\n",
       "BRA     8.513\n",
       "ARG     4.454\n",
       "Name: Area, dtype: float64"
      ]
     },
     "execution_count": 29,
     "metadata": {},
     "output_type": "execute_result"
    }
   ],
   "source": [
    "df.iloc[:, 2]"
   ]
  },
  {
   "cell_type": "code",
   "execution_count": 30,
   "id": "a57fa4d6",
   "metadata": {},
   "outputs": [
    {
     "data": {
      "text/plain": [
       "USA     True\n",
       "CAN     True\n",
       "MEX    False\n",
       "BRA    False\n",
       "ARG    False\n",
       "Name: Area, dtype: bool"
      ]
     },
     "execution_count": 30,
     "metadata": {},
     "output_type": "execute_result"
    }
   ],
   "source": [
    "df[\"Area\"]>10"
   ]
  },
  {
   "cell_type": "code",
   "execution_count": 31,
   "id": "95ed0ba5",
   "metadata": {},
   "outputs": [
    {
     "data": {
      "text/html": [
       "<div>\n",
       "<style scoped>\n",
       "    .dataframe tbody tr th:only-of-type {\n",
       "        vertical-align: middle;\n",
       "    }\n",
       "\n",
       "    .dataframe tbody tr th {\n",
       "        vertical-align: top;\n",
       "    }\n",
       "\n",
       "    .dataframe thead th {\n",
       "        text-align: right;\n",
       "    }\n",
       "</style>\n",
       "<table border=\"1\" class=\"dataframe\">\n",
       "  <thead>\n",
       "    <tr style=\"text-align: right;\">\n",
       "      <th></th>\n",
       "      <th>Country</th>\n",
       "      <th>City</th>\n",
       "      <th>Area</th>\n",
       "      <th>Population</th>\n",
       "      <th>True</th>\n",
       "    </tr>\n",
       "  </thead>\n",
       "  <tbody>\n",
       "    <tr>\n",
       "      <th>USA</th>\n",
       "      <td>America</td>\n",
       "      <td>New York</td>\n",
       "      <td>14.674</td>\n",
       "      <td>200.4</td>\n",
       "      <td>0</td>\n",
       "    </tr>\n",
       "    <tr>\n",
       "      <th>CAN</th>\n",
       "      <td>Canada</td>\n",
       "      <td>Toronto</td>\n",
       "      <td>10.544</td>\n",
       "      <td>100.5</td>\n",
       "      <td>0</td>\n",
       "    </tr>\n",
       "  </tbody>\n",
       "</table>\n",
       "</div>"
      ],
      "text/plain": [
       "     Country      City    Area  Population  True\n",
       "USA  America  New York  14.674       200.4     0\n",
       "CAN   Canada   Toronto  10.544       100.5     0"
      ]
     },
     "execution_count": 31,
     "metadata": {},
     "output_type": "execute_result"
    }
   ],
   "source": [
    "is_huge = df[\"Area\"] > 10\n",
    "df[is_huge]"
   ]
  },
  {
   "cell_type": "code",
   "execution_count": 44,
   "id": "81eb1ecf",
   "metadata": {},
   "outputs": [
    {
     "name": "stdout",
     "output_type": "stream",
     "text": [
      "         country  drives_right  cars_per_cap\n",
      "0  United States          True           809\n",
      "1      Australia         False           731\n",
      "2          Japan         False           588\n",
      "3          India         False            18\n",
      "4         Russia          True           200\n",
      "5        Morocco          True            70\n",
      "6          Egypt          True            45\n"
     ]
    }
   ],
   "source": [
    "# Pre-defined lists\n",
    "names = ['United States', 'Australia', 'Japan', 'India', 'Russia', 'Morocco', 'Egypt']\n",
    "dr =  [True, False, False, False, True, True, True]\n",
    "cpc = [809, 731, 588, 18, 200, 70, 45]\n",
    "# Create dictionary my_dict with three key:value pairs: my_dict\n",
    "my_dect ={'country':names,'drives_right':dr,'cars_per_cap':cpc}\n",
    "# Build a DataFrame cars from my_dict: cars\n",
    "cars = pd.DataFrame(my_dect)\n",
    "\n",
    "# Print cars\n",
    "print(cars)"
   ]
  },
  {
   "cell_type": "code",
   "execution_count": null,
   "id": "ea8cebb1",
   "metadata": {},
   "outputs": [
    {
     "name": "stdout",
     "output_type": "stream",
     "text": [
      "         country  drives_right  cars_per_cap\n",
      "0  United States          True           809\n",
      "4         Russia          True           200\n",
      "5        Morocco          True            70\n",
      "6          Egypt          True            45\n"
     ]
    }
   ],
   "source": [
    "# Extract drives_right column as Series: dr\n",
    "dr = cars['drives_right']\n",
    "# Use dr to subset cars: sel\n",
    "# You’re subsetting the cars DataFrame — meaning you're saying:\n",
    "# “Hey, give me only the rows where drives_right is True.”\n",
    "sel = cars[dr]\n",
    "# Print sel\n",
    "print(sel)"
   ]
  },
  {
   "cell_type": "code",
   "execution_count": null,
   "id": "1147b241",
   "metadata": {},
   "outputs": [
    {
     "name": "stdout",
     "output_type": "stream",
     "text": [
      "         country  drives_right  cars_per_cap\n",
      "0  United States          True           809\n",
      "4         Russia          True           200\n",
      "5        Morocco          True            70\n",
      "6          Egypt          True            45\n"
     ]
    }
   ],
   "source": [
    "# Convert code to a one-liner\n",
    "# dr = cars['drives_right']\n",
    "sel = cars[cars['drives_right']]\n",
    "\n",
    "# Print sel\n",
    "print(sel)"
   ]
  },
  {
   "cell_type": "code",
   "execution_count": null,
   "id": "7059f699",
   "metadata": {},
   "outputs": [
    {
     "name": "stdout",
     "output_type": "stream",
     "text": [
      "         country  drives_right  cars_per_cap\n",
      "0  United States          True           809\n",
      "1      Australia         False           731\n",
      "2          Japan         False           588\n"
     ]
    }
   ],
   "source": [
    "# Create car_maniac: observations that have a cars_per_cap over 500\n",
    "\"\"\"cpc = cars['cars_per_cap']\n",
    "car_per = cpc > 500\n",
    "car_maniac = cars[car_per]\"\"\"\n",
    "# Convert code to a one-liner\n",
    "car_maniac =cars[cars['cars_per_cap'] > 500]\n",
    "# Print car_maniac\n",
    "print(car_maniac)"
   ]
  },
  {
   "cell_type": "code",
   "execution_count": null,
   "id": "63996944",
   "metadata": {},
   "outputs": [
    {
     "name": "stdout",
     "output_type": "stream",
     "text": [
      "  country  drives_right  cars_per_cap\n",
      "4  Russia          True           200\n"
     ]
    }
   ],
   "source": [
    "# Import numpy, you'll need this\n",
    "import numpy as np\n",
    "\n",
    "# Create medium: observations with cars_per_cap between 100 and 500\n",
    "cpc = cars['cars_per_cap']\n",
    "between = np.logical_and(cpc > 100,cpc < 500)\n",
    "medium = cars[between]\n",
    "\n",
    "\n",
    "# Print medium\n",
    "print(medium)"
   ]
  },
  {
   "cell_type": "code",
   "execution_count": 51,
   "id": "1256e20d",
   "metadata": {},
   "outputs": [
    {
     "name": "stdout",
     "output_type": "stream",
     "text": [
      "  country  drives_right  cars_per_cap\n",
      "4  Russia          True           200\n"
     ]
    }
   ],
   "source": [
    "np_cpc = np.logical_and(cars['cars_per_cap'] > 100, cars['cars_per_cap'] < 500)\n",
    "medium = cars[np_cpc]\n",
    "# Print medium  \n",
    "print(medium)"
   ]
  }
 ],
 "metadata": {
  "kernelspec": {
   "display_name": "Python 3",
   "language": "python",
   "name": "python3"
  },
  "language_info": {
   "codemirror_mode": {
    "name": "ipython",
    "version": 3
   },
   "file_extension": ".py",
   "mimetype": "text/x-python",
   "name": "python",
   "nbconvert_exporter": "python",
   "pygments_lexer": "ipython3",
   "version": "3.11.9"
  }
 },
 "nbformat": 4,
 "nbformat_minor": 5
}
