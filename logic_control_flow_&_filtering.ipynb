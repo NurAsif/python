{
 "cells": [
  {
   "cell_type": "code",
   "execution_count": 1,
   "id": "e70dcc86",
   "metadata": {},
   "outputs": [
    {
     "data": {
      "text/plain": [
       "False"
      ]
     },
     "execution_count": 1,
     "metadata": {},
     "output_type": "execute_result"
    }
   ],
   "source": [
    "2>3"
   ]
  },
  {
   "cell_type": "code",
   "execution_count": 2,
   "id": "e44dd789",
   "metadata": {},
   "outputs": [
    {
     "data": {
      "text/plain": [
       "True"
      ]
     },
     "execution_count": 2,
     "metadata": {},
     "output_type": "execute_result"
    }
   ],
   "source": [
    "2==2"
   ]
  },
  {
   "cell_type": "code",
   "execution_count": null,
   "id": "4e45ad4f",
   "metadata": {},
   "outputs": [
    {
     "data": {
      "text/plain": [
       "True"
      ]
     },
     "execution_count": 3,
     "metadata": {},
     "output_type": "execute_result"
    }
   ],
   "source": [
    "3 >= 3"
   ]
  },
  {
   "cell_type": "code",
   "execution_count": 4,
   "id": "4f90c5d1",
   "metadata": {},
   "outputs": [
    {
     "data": {
      "text/plain": [
       "False"
      ]
     },
     "execution_count": 4,
     "metadata": {},
     "output_type": "execute_result"
    }
   ],
   "source": [
    "2!= 3\n",
    "3 < 2"
   ]
  },
  {
   "cell_type": "code",
   "execution_count": 5,
   "id": "2f2f23a7",
   "metadata": {},
   "outputs": [],
   "source": [
    "# Operator | Meaning                  | Example | Result\n",
    "# ==       | Equal to                 | 5 == 5  | True\n",
    "# !=       | Not equal to             | 5 != 3  | True\n",
    "# >        | Greater than             | 7 > 4   | True\n",
    "# <        | Less than                | 2 < 3   | True\n",
    "# >=       | Greater than or equal to | 5 >= 5  | True\n",
    "# <=       | Less than or equal to    | 3 <= 4  | True"
   ]
  },
  {
   "cell_type": "code",
   "execution_count": 6,
   "id": "33b1ab8e",
   "metadata": {},
   "outputs": [
    {
     "name": "stdout",
     "output_type": "stream",
     "text": [
      "True\n",
      "True\n",
      "3\n",
      "True\n"
     ]
    }
   ],
   "source": [
    "print(True == 1)        # True (True is treated as 1)\n",
    "print(False == 0)       # True (False is treated as 0)\n",
    "print(True + 2)         # 3 (because True is 1)\n",
    "print(False > -1)       # True (0 > -1)\n"
   ]
  },
  {
   "cell_type": "code",
   "execution_count": null,
   "id": "6f701033",
   "metadata": {},
   "outputs": [
    {
     "name": "stdout",
     "output_type": "stream",
     "text": [
      "True\n",
      "True\n",
      "True\n",
      "False\n"
     ]
    }
   ],
   "source": [
    "print(\"apple\" == \"apple\")     # True\n",
    "print(\"banana\" != \"Banana\")   # True (case-sensitive)\n",
    "print(\"cat\" > \"bat\")          # True (alphabetical order)\n",
    "print(\"Apple\" == \"apple\")     # False (case-sensitive)\n"
   ]
  },
  {
   "cell_type": "code",
   "execution_count": 8,
   "id": "ee675a3f",
   "metadata": {},
   "outputs": [
    {
     "name": "stdout",
     "output_type": "stream",
     "text": [
      "True\n",
      "False\n",
      "True\n"
     ]
    }
   ],
   "source": [
    "print(5 > 3)            # True\n",
    "print(2 < 1)            # False\n",
    "print(7 == 7)           # True\n"
   ]
  },
  {
   "cell_type": "code",
   "execution_count": 9,
   "id": "b6b3bba2",
   "metadata": {},
   "outputs": [
    {
     "name": "stdout",
     "output_type": "stream",
     "text": [
      "False\n",
      "True\n"
     ]
    }
   ],
   "source": [
    "print(True == False)    # False\n",
    "print(True != False)    # True\n"
   ]
  },
  {
   "cell_type": "code",
   "execution_count": 11,
   "id": "bc455d8f",
   "metadata": {},
   "outputs": [
    {
     "name": "stdout",
     "output_type": "stream",
     "text": [
      "[ True  True False False]\n",
      "[False  True  True False]\n"
     ]
    }
   ],
   "source": [
    "# Create arrays\n",
    "import numpy as np\n",
    "my_house = np.array([18.0, 20.0, 10.75, 9.50])\n",
    "your_house = np.array([14.0, 24.0, 14.25, 9.0])\n",
    "\n",
    "# my_house greater than or equal to 18\n",
    "print(my_house >= 18)\n",
    "\n",
    "# my_house less than your_house\n",
    "print(my_house < your_house)"
   ]
  },
  {
   "cell_type": "code",
   "execution_count": 12,
   "id": "fab06984",
   "metadata": {},
   "outputs": [
    {
     "name": "stdout",
     "output_type": "stream",
     "text": [
      "False\n",
      "True\n",
      "True\n"
     ]
    }
   ],
   "source": [
    "# Define variables\n",
    "my_kitchen = 18.0\n",
    "your_kitchen = 14.0\n",
    "\n",
    "# my_kitchen bigger than 10 and smaller than 18?\n",
    "print(my_kitchen > 10 and my_kitchen < 18)\n",
    "\n",
    "# my_kitchen smaller than 14 or bigger than 17?\n",
    "print(my_kitchen < 14 or my_kitchen > 17)\n",
    "\n",
    "# Double my_kitchen smaller than triple your_kitchen?\n",
    "print(my_kitchen * 2 < 3 * your_kitchen)"
   ]
  },
  {
   "cell_type": "code",
   "execution_count": 1,
   "id": "a80b1659",
   "metadata": {},
   "outputs": [
    {
     "name": "stdout",
     "output_type": "stream",
     "text": [
      "[False  True False  True]\n",
      "[False False False  True]\n",
      "[ True  True False False]\n"
     ]
    }
   ],
   "source": [
    "# Create arrays\n",
    "import numpy as np\n",
    "my_house = np.array([18.0, 20.0, 10.75, 9.50])\n",
    "your_house = np.array([14.0, 24.0, 14.25, 9.0])\n",
    "\n",
    "# my_house greater than 18.5 or smaller than 10\n",
    "print(np.logical_or(my_house > 18.5,my_house < 10))\n",
    "\n",
    "# Both my_house and your_house smaller than 11\n",
    "print(np.logical_and(my_house < 11,your_house < 11))\n",
    "print(np.logical_not(my_house < 11)) # my_house not smaller than 11"
   ]
  }
 ],
 "metadata": {
  "kernelspec": {
   "display_name": "Python 3",
   "language": "python",
   "name": "python3"
  },
  "language_info": {
   "codemirror_mode": {
    "name": "ipython",
    "version": 3
   },
   "file_extension": ".py",
   "mimetype": "text/x-python",
   "name": "python",
   "nbconvert_exporter": "python",
   "pygments_lexer": "ipython3",
   "version": "3.11.9"
  }
 },
 "nbformat": 4,
 "nbformat_minor": 5
}
