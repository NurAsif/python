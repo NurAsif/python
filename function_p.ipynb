{
 "cells": [
  {
   "cell_type": "code",
   "execution_count": 1,
   "id": "b4a7e441",
   "metadata": {},
   "outputs": [],
   "source": [
    "def birthday():\n",
    "    \"\"\"\n",
    "    This function returns the birth date of the user.\n",
    "    \"\"\"\n",
    "    return \"Your birthday is on 1st January 2000.\""
   ]
  },
  {
   "cell_type": "code",
   "execution_count": 2,
   "id": "6ef9a0c0",
   "metadata": {},
   "outputs": [
    {
     "name": "stdout",
     "output_type": "stream",
     "text": [
      "Happy Birthday!\n",
      "Your birthday is on 1st January 2000.\n"
     ]
    }
   ],
   "source": [
    "def birthday():\n",
    "    print(\"Happy Birthday!\")\n",
    "    print(\"Your birthday is on 1st January 2000.\")\n",
    "\n",
    "birthday()\n"
   ]
  },
  {
   "cell_type": "code",
   "execution_count": 5,
   "id": "c8c252b6",
   "metadata": {},
   "outputs": [
    {
     "name": "stdout",
     "output_type": "stream",
     "text": [
      "Happy Birthday!Bro\n",
      "Your birthday is on 1st January 2000.\n",
      "Happy Birthday!Steve\n",
      "Your birthday is on 1st January 2001.\n",
      "Happy Birthday!Bruh\n",
      "Your birthday is on 1st January 1999.\n"
     ]
    }
   ],
   "source": [
    "def birthday(name, age):\n",
    "    print(f\"Happy Birthday!{name}\")\n",
    "    print(f\"Your birthday is on 1st January {age}.\")\n",
    "birthday(\"Bro\", 2000)\n",
    "birthday(\"Steve\", 2001)\n",
    "birthday(\"Bruh\", 1999)"
   ]
  },
  {
   "cell_type": "code",
   "execution_count": 6,
   "id": "cec8a53c",
   "metadata": {},
   "outputs": [
    {
     "name": "stdout",
     "output_type": "stream",
     "text": [
      "Invoice for Steve\n",
      "Amount Due: $100.50\n",
      "Due_date: 2023-10-01\n",
      "Invoice for Rehan\n",
      "Amount Due: $200.00\n",
      "Due_date: 2023-10-02\n",
      "Invoice for Runa\n",
      "Amount Due: $300.75\n",
      "Due_date: 2023-10-03\n"
     ]
    }
   ],
   "source": [
    "def display_invoice(username, amount,due_date):\n",
    "   print(f\"Invoice for {username}\")\n",
    "   print(f\"Amount Due: ${amount:.2f}\")\n",
    "   print(f\"Due_date: {due_date}\")\n",
    "\n",
    "display_invoice(\"Steve\", 100.50, \"2023-10-01\")\n",
    "display_invoice(\"Rehan\", 200.00, \"2023-10-02\")\n",
    "display_invoice(\"Runa\", 300.75, \"2023-10-03\")"
   ]
  },
  {
   "cell_type": "code",
   "execution_count": 7,
   "id": "a8e29fd2",
   "metadata": {},
   "outputs": [
    {
     "name": "stdout",
     "output_type": "stream",
     "text": [
      "15\n",
      "5\n",
      "50\n",
      "2.0\n"
     ]
    }
   ],
   "source": [
    "def add(a, b):\n",
    "    return a + b\n",
    "def subtract(a, b):\n",
    "    return a - b\n",
    "def multiply(a, b):\n",
    "    return a * b\n",
    "def divide(a, b):\n",
    "    if b == 0:\n",
    "        return \"Cannot divide by zero\"\n",
    "    return a / b\n",
    "def calculator(a, b, operation):\n",
    "    if operation == \"add\":\n",
    "        return add(a, b)\n",
    "    elif operation == \"subtract\":\n",
    "        return subtract(a, b)\n",
    "    elif operation == \"multiply\":\n",
    "        return multiply(a, b)\n",
    "    elif operation == \"divide\":\n",
    "        return divide(a, b)\n",
    "    else:\n",
    "        return \"Invalid operation\"\n",
    "print(calculator(10, 5, \"add\"))        # Output: 15\n",
    "print(calculator(10, 5, \"subtract\"))   # Output: 5  \n",
    "print(calculator(10, 5, \"multiply\"))   # Output: 50\n",
    "print(calculator(10, 5, \"divide\"))     # Output: 2.0"
   ]
  },
  {
   "cell_type": "code",
   "execution_count": 15,
   "id": "0c69de99",
   "metadata": {},
   "outputs": [
    {
     "name": "stdout",
     "output_type": "stream",
     "text": [
      "15\n",
      "5\n",
      "50\n",
      "2.0\n",
      "1\n"
     ]
    }
   ],
   "source": [
    "def add(a,b):\n",
    "    x = a+b\n",
    "    return x\n",
    "def subtract(a,b):\n",
    "    x = a-b\n",
    "    return x\n",
    "def multiply(a,b):\n",
    "    x = a*b\n",
    "    return x\n",
    "def divide(a,b):\n",
    "    if b == 0:\n",
    "        return \"Cannot divide by zero\"\n",
    "    x = a/b\n",
    "    return x\n",
    "def modulus(a,b):\n",
    "    x = a%b\n",
    "    return x\n",
    "def calculator(a,b,operation):\n",
    "    if operation == \"add\":\n",
    "        return add(a,b)\n",
    "    elif operation == \"subtract\":\n",
    "        return subtract(a,b)\n",
    "    elif operation == \"multiply\":\n",
    "        return multiply(a,b)\n",
    "    elif operation == \"divide\":\n",
    "        return divide(a,b)\n",
    "    elif operation == \"modulus\":\n",
    "        return modulus(a,b)\n",
    "    else:\n",
    "        return \"Invalid operation\"\n",
    "print(calculator(10, 5, \"add\"))        # Output: 15 \n",
    "print(calculator(10, 5, \"subtract\"))   # Output: 5\n",
    "print(calculator(10, 5, \"multiply\"))   # Output: 50\n",
    "print(calculator(10, 5, \"divide\"))     # Output: 2.0\n",
    "print(calculator(25, 3, \"modulus\"))    # Output: Invalid operation"
   ]
  },
  {
   "cell_type": "code",
   "execution_count": 16,
   "id": "d47a2c3b",
   "metadata": {},
   "outputs": [
    {
     "name": "stdout",
     "output_type": "stream",
     "text": [
      "John Doe\n"
     ]
    }
   ],
   "source": [
    "def create_name(first, last):\n",
    "    first_name = first.capitalize()\n",
    "    last_name = last.capitalize()\n",
    "    return first_name + \" \" + last_name\n",
    "full_name = create_name(\"john\", \"doe\")\n",
    "print(full_name)  # Output: John Doe"
   ]
  },
  {
   "cell_type": "code",
   "execution_count": 17,
   "id": "9fababcc",
   "metadata": {},
   "outputs": [
    {
     "name": "stdout",
     "output_type": "stream",
     "text": [
      "120\n"
     ]
    }
   ],
   "source": [
    "#Recursion\n",
    "def factorial(n):\n",
    "    if n == 0 or n == 1:\n",
    "        return 1\n",
    "    else:\n",
    "        return n * factorial(n - 1)\n",
    "fact = factorial(5)\n",
    "print(fact)  # Output: 120"
   ]
  },
  {
   "cell_type": "code",
   "execution_count": null,
   "id": "50afcde5",
   "metadata": {},
   "outputs": [
    {
     "name": "stdout",
     "output_type": "stream",
     "text": [
      "You take Steps 1\n",
      "You take Steps 2\n",
      "You take Steps 3\n",
      "You take Steps 4\n",
      "You take Steps 5\n",
      "You take Steps 6\n",
      "You take Steps 7\n",
      "You take Steps 8\n",
      "You take Steps 9\n",
      "You take Steps 10\n",
      "You take Steps 11\n",
      "You take Steps 12\n",
      "You take Steps 13\n",
      "You take Steps 14\n",
      "You take Steps 15\n",
      "You take Steps 16\n",
      "You take Steps 17\n",
      "You take Steps 18\n",
      "You take Steps 19\n",
      "You take Steps 20\n",
      "You take Steps 21\n",
      "You take Steps 22\n",
      "You take Steps 23\n",
      "You take Steps 24\n",
      "You take Steps 25\n",
      "You take Steps 26\n",
      "You take Steps 27\n",
      "You take Steps 28\n",
      "You take Steps 29\n",
      "You take Steps 30\n",
      "You take Steps 31\n",
      "You take Steps 32\n",
      "You take Steps 33\n",
      "You take Steps 34\n",
      "You take Steps 35\n",
      "You take Steps 36\n",
      "You take Steps 37\n",
      "You take Steps 38\n",
      "You take Steps 39\n",
      "You take Steps 40\n",
      "You take Steps 41\n",
      "You take Steps 42\n",
      "You take Steps 43\n",
      "You take Steps 44\n",
      "You take Steps 45\n",
      "You take Steps 46\n",
      "You take Steps 47\n",
      "You take Steps 48\n",
      "You take Steps 49\n",
      "You take Steps 50\n",
      "You take Steps 51\n",
      "You take Steps 52\n",
      "You take Steps 53\n",
      "You take Steps 54\n",
      "You take Steps 55\n",
      "You take Steps 56\n",
      "You take Steps 57\n",
      "You take Steps 58\n",
      "You take Steps 59\n",
      "You take Steps 60\n",
      "You take Steps 61\n",
      "You take Steps 62\n",
      "You take Steps 63\n",
      "You take Steps 64\n",
      "You take Steps 65\n",
      "You take Steps 66\n",
      "You take Steps 67\n",
      "You take Steps 68\n",
      "You take Steps 69\n",
      "You take Steps 70\n",
      "You take Steps 71\n",
      "You take Steps 72\n",
      "You take Steps 73\n",
      "You take Steps 74\n",
      "You take Steps 75\n",
      "You take Steps 76\n",
      "You take Steps 77\n",
      "You take Steps 78\n",
      "You take Steps 79\n",
      "You take Steps 80\n",
      "You take Steps 81\n",
      "You take Steps 82\n",
      "You take Steps 83\n",
      "You take Steps 84\n",
      "You take Steps 85\n",
      "You take Steps 86\n",
      "You take Steps 87\n",
      "You take Steps 88\n",
      "You take Steps 89\n",
      "You take Steps 90\n",
      "You take Steps 91\n",
      "You take Steps 92\n",
      "You take Steps 93\n",
      "You take Steps 94\n",
      "You take Steps 95\n",
      "You take Steps 96\n",
      "You take Steps 97\n",
      "You take Steps 98\n",
      "You take Steps 99\n",
      "You take Steps 100\n"
     ]
    }
   ],
   "source": [
    "#iteration\n",
    "def walk(steps):\n",
    "    for steps in range(1, steps + 1):\n",
    "        print(\"You take Steps\", steps)\n",
    "\n",
    "walk(100)"
   ]
  },
  {
   "cell_type": "code",
   "execution_count": 24,
   "id": "bc594615",
   "metadata": {},
   "outputs": [
    {
     "name": "stdout",
     "output_type": "stream",
     "text": [
      "6\n"
     ]
    }
   ],
   "source": [
    "def factorial(n):\n",
    "    result = 1\n",
    "    for i in range(1, n + 1):\n",
    "        result *= i\n",
    "    return result\n",
    "print(factorial(3))  # Output: 120"
   ]
  },
  {
   "cell_type": "code",
   "execution_count": 22,
   "id": "c10c908c",
   "metadata": {},
   "outputs": [
    {
     "name": "stdout",
     "output_type": "stream",
     "text": [
      "120\n"
     ]
    }
   ],
   "source": [
    "def factorial(n):\n",
    "    if n < 0:\n",
    "        return \"Invalid input\"\n",
    "    elif n == 0 or n==1:\n",
    "        return 1\n",
    "    else:\n",
    "        result = 1\n",
    "        for i in range(2, n+1):\n",
    "            result *= i\n",
    "        return result\n",
    "print(factorial(5))  # Output: 120"
   ]
  },
  {
   "cell_type": "code",
   "execution_count": 25,
   "id": "a63d4061",
   "metadata": {},
   "outputs": [
    {
     "name": "stdout",
     "output_type": "stream",
     "text": [
      "You take Steps 100\n",
      "You take Steps 99\n",
      "You take Steps 98\n",
      "You take Steps 97\n",
      "You take Steps 96\n",
      "You take Steps 95\n",
      "You take Steps 94\n",
      "You take Steps 93\n",
      "You take Steps 92\n",
      "You take Steps 91\n",
      "You take Steps 90\n",
      "You take Steps 89\n",
      "You take Steps 88\n",
      "You take Steps 87\n",
      "You take Steps 86\n",
      "You take Steps 85\n",
      "You take Steps 84\n",
      "You take Steps 83\n",
      "You take Steps 82\n",
      "You take Steps 81\n",
      "You take Steps 80\n",
      "You take Steps 79\n",
      "You take Steps 78\n",
      "You take Steps 77\n",
      "You take Steps 76\n",
      "You take Steps 75\n",
      "You take Steps 74\n",
      "You take Steps 73\n",
      "You take Steps 72\n",
      "You take Steps 71\n",
      "You take Steps 70\n",
      "You take Steps 69\n",
      "You take Steps 68\n",
      "You take Steps 67\n",
      "You take Steps 66\n",
      "You take Steps 65\n",
      "You take Steps 64\n",
      "You take Steps 63\n",
      "You take Steps 62\n",
      "You take Steps 61\n",
      "You take Steps 60\n",
      "You take Steps 59\n",
      "You take Steps 58\n",
      "You take Steps 57\n",
      "You take Steps 56\n",
      "You take Steps 55\n",
      "You take Steps 54\n",
      "You take Steps 53\n",
      "You take Steps 52\n",
      "You take Steps 51\n",
      "You take Steps 50\n",
      "You take Steps 49\n",
      "You take Steps 48\n",
      "You take Steps 47\n",
      "You take Steps 46\n",
      "You take Steps 45\n",
      "You take Steps 44\n",
      "You take Steps 43\n",
      "You take Steps 42\n",
      "You take Steps 41\n",
      "You take Steps 40\n",
      "You take Steps 39\n",
      "You take Steps 38\n",
      "You take Steps 37\n",
      "You take Steps 36\n",
      "You take Steps 35\n",
      "You take Steps 34\n",
      "You take Steps 33\n",
      "You take Steps 32\n",
      "You take Steps 31\n",
      "You take Steps 30\n",
      "You take Steps 29\n",
      "You take Steps 28\n",
      "You take Steps 27\n",
      "You take Steps 26\n",
      "You take Steps 25\n",
      "You take Steps 24\n",
      "You take Steps 23\n",
      "You take Steps 22\n",
      "You take Steps 21\n",
      "You take Steps 20\n",
      "You take Steps 19\n",
      "You take Steps 18\n",
      "You take Steps 17\n",
      "You take Steps 16\n",
      "You take Steps 15\n",
      "You take Steps 14\n",
      "You take Steps 13\n",
      "You take Steps 12\n",
      "You take Steps 11\n",
      "You take Steps 10\n",
      "You take Steps 9\n",
      "You take Steps 8\n",
      "You take Steps 7\n",
      "You take Steps 6\n",
      "You take Steps 5\n",
      "You take Steps 4\n",
      "You take Steps 3\n",
      "You take Steps 2\n",
      "You take Steps 1\n"
     ]
    }
   ],
   "source": [
    "#Recursive\n",
    "def walk(steps):\n",
    "    if steps == 0:\n",
    "        return\n",
    "    print(\"You take Steps\", steps)\n",
    "    walk(steps - 1)\n",
    "walk(100)"
   ]
  },
  {
   "cell_type": "code",
   "execution_count": 27,
   "id": "09729bbc",
   "metadata": {},
   "outputs": [
    {
     "name": "stdout",
     "output_type": "stream",
     "text": [
      "You take Steps 1\n",
      "You take Steps 2\n",
      "You take Steps 3\n",
      "You take Steps 4\n",
      "You take Steps 5\n",
      "You take Steps 6\n",
      "You take Steps 7\n",
      "You take Steps 8\n",
      "You take Steps 9\n",
      "You take Steps 10\n",
      "You take Steps 11\n",
      "You take Steps 12\n",
      "You take Steps 13\n",
      "You take Steps 14\n",
      "You take Steps 15\n",
      "You take Steps 16\n",
      "You take Steps 17\n",
      "You take Steps 18\n",
      "You take Steps 19\n",
      "You take Steps 20\n",
      "You take Steps 21\n",
      "You take Steps 22\n",
      "You take Steps 23\n",
      "You take Steps 24\n",
      "You take Steps 25\n",
      "You take Steps 26\n",
      "You take Steps 27\n",
      "You take Steps 28\n",
      "You take Steps 29\n",
      "You take Steps 30\n",
      "You take Steps 31\n",
      "You take Steps 32\n",
      "You take Steps 33\n",
      "You take Steps 34\n",
      "You take Steps 35\n",
      "You take Steps 36\n",
      "You take Steps 37\n",
      "You take Steps 38\n",
      "You take Steps 39\n",
      "You take Steps 40\n",
      "You take Steps 41\n",
      "You take Steps 42\n",
      "You take Steps 43\n",
      "You take Steps 44\n",
      "You take Steps 45\n",
      "You take Steps 46\n",
      "You take Steps 47\n",
      "You take Steps 48\n",
      "You take Steps 49\n",
      "You take Steps 50\n",
      "You take Steps 51\n",
      "You take Steps 52\n",
      "You take Steps 53\n",
      "You take Steps 54\n",
      "You take Steps 55\n",
      "You take Steps 56\n",
      "You take Steps 57\n",
      "You take Steps 58\n",
      "You take Steps 59\n",
      "You take Steps 60\n",
      "You take Steps 61\n",
      "You take Steps 62\n",
      "You take Steps 63\n",
      "You take Steps 64\n",
      "You take Steps 65\n",
      "You take Steps 66\n",
      "You take Steps 67\n",
      "You take Steps 68\n",
      "You take Steps 69\n",
      "You take Steps 70\n",
      "You take Steps 71\n",
      "You take Steps 72\n",
      "You take Steps 73\n",
      "You take Steps 74\n",
      "You take Steps 75\n",
      "You take Steps 76\n",
      "You take Steps 77\n",
      "You take Steps 78\n",
      "You take Steps 79\n",
      "You take Steps 80\n",
      "You take Steps 81\n",
      "You take Steps 82\n",
      "You take Steps 83\n",
      "You take Steps 84\n",
      "You take Steps 85\n",
      "You take Steps 86\n",
      "You take Steps 87\n",
      "You take Steps 88\n",
      "You take Steps 89\n",
      "You take Steps 90\n",
      "You take Steps 91\n",
      "You take Steps 92\n",
      "You take Steps 93\n",
      "You take Steps 94\n",
      "You take Steps 95\n",
      "You take Steps 96\n",
      "You take Steps 97\n",
      "You take Steps 98\n",
      "You take Steps 99\n",
      "You take Steps 100\n"
     ]
    }
   ],
   "source": [
    "def walk(steps):\n",
    "    if steps == 0:\n",
    "        return\n",
    "    walk(steps - 1)\n",
    "    print(\"You take Steps\", steps)\n",
    "walk(100)"
   ]
  },
  {
   "cell_type": "code",
   "execution_count": null,
   "id": "20282aef",
   "metadata": {},
   "outputs": [],
   "source": []
  }
 ],
 "metadata": {
  "kernelspec": {
   "display_name": "Python 3",
   "language": "python",
   "name": "python3"
  },
  "language_info": {
   "codemirror_mode": {
    "name": "ipython",
    "version": 3
   },
   "file_extension": ".py",
   "mimetype": "text/x-python",
   "name": "python",
   "nbconvert_exporter": "python",
   "pygments_lexer": "ipython3",
   "version": "3.11.9"
  }
 },
 "nbformat": 4,
 "nbformat_minor": 5
}
