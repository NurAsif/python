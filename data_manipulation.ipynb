{
 "cells": [
  {
   "cell_type": "code",
   "execution_count": 7,
   "id": "1a933cb9",
   "metadata": {},
   "outputs": [],
   "source": [
    "import pandas as pd\n",
    "import numpy as np"
   ]
  },
  {
   "cell_type": "code",
   "execution_count": 11,
   "id": "4b0258a5",
   "metadata": {},
   "outputs": [
    {
     "name": "stdout",
     "output_type": "stream",
     "text": [
      "   store type  dept        date  weekly_sales is_holiday  temperature  \\\n",
      "0      1    A     1  2025-01-01      24924.50      False         5.73   \n",
      "1      1    A     2  2025-01-02      50605.24      False         5.73   \n",
      "2      1    A     3  2025-01-03      76286.98      False         5.73   \n",
      "3      1    A     4  2025-01-04     101968.72      False         5.73   \n",
      "4      1    A     5  2025-01-05     127650.46      False         5.73   \n",
      "\n",
      "   fuel_price  unemp  \n",
      "0       0.679  8.106  \n",
      "1       0.679  8.106  \n",
      "2       0.679  8.106  \n",
      "3       0.679  8.106  \n",
      "4       0.679  8.106  \n"
     ]
    }
   ],
   "source": [
    "a = [1,1,1,1,1,1,1,1,1,1,2,2,2,2,2,2,2,2,2,2,3,3,3,3,3,3,3,3,3,3,4,4,4,4,4,4,4,4,4,4,5,5,5,5,5,5,5,5,5,5]\n",
    "b = [\"A\",\"A\",\"A\",\"A\",\"A\",\"A\",\"A\",\"A\",\"A\",\"A\",\"B\",\"B\",\"B\",\"B\",\"B\",\"B\",\"B\",\"B\",\"B\",\"B\",\"C\",\"C\",\"C\",\"C\",\"C\",\"C\",\"C\",\"C\",\"C\",\"C\",\"D\",\"D\",\"D\",\"D\",\"D\",\"D\",\"D\",\"D\",\"D\",\"D\",\"E\",\"E\",\"E\",\"E\",\"E\",\"E\",\"E\",\"E\",\"E\",\"E\"]\n",
    "c = [1,2,3,4,5,6,7,8,9,10,11,12,13,14,15,16,17,18,19,20,21,22,23,24,25,26,27,28,29,30]\n",
    "d = [\"2025-01-01\",\"2025-01-02\",\"2025-01-03\",\"2025-01-04\",\"2025-01-05\",\"2025-01-06\",\"2025-01-07\",\"2025-01-08\",\"2025-01-09\",\"2025-01-10\",\"2025-01-11\",\"2025-01-12\",\"2025-01-13\",\"2025-01-14\",\"2025-01-15\",\"2025-01-16\",\"2025-01-17\",\"2025-01-18\",\"2025-01-19\",\"2025-01-20\",\"2025-01-21\",\"2025-01-22\",\"2025-01-23\",\"2025-01-24\",\"2025-01-25\",\"2025-01-26\",\"2025-01-27\",\"2025-01-28\",\"2025-01-29\"]\n",
    "e = [24924.50,50605.24,76286.98,101968.72,127650.46,153332.20,179013.94,204695.68,230377.42,256059.16,281740.90,307422.64,333104.38,358786.12,384467.86,410149.60,435831.34,461513.08,487194.82,512876.56,538558.30,564240.04,589921.78,615603.52,641285.26,666967.00,692648.74,718330.48,744012.22]\n",
    "f = [\"False\",\"False\",\"False\",\"False\",\"False\",\"False\",\"False\",\"False\",\"False\",\"False\",\"True\",\"True\",\"True\",\"True\",\"True\",\"True\",\"True\",\"True\",\"True\",\"True\",\"False\",\"False\",\"False\",\"False\",\"False\",\"False\",\"False\",\"False\",\"False\",\"False\"]\n",
    "g = [5.73,5.73,5.73,5.73,5.73,5.73,5.73,5.73,5.73,5.73,5.73,5.73,5.73,5.73,5.73,5.73,5.73,5.73,5.73,5.73,5.73,5.73,5.73,5.73,5.73,5.73,5.73,5.73,5.73]\n",
    "h = [0.679,0.679,0.679,0.679,0.679,0.679,0.679,0.679,0.679,0.679,0.679,0.679,0.679,0.679,0.679,0.679,0.679,0.679,0.679,0.679,0.679,0.679,0.679,0.679,0.679,0.679,0.679,0.679,0.679,0.679,0.679,0.679,0.679,0.679,0.679,0.679,0.679,0.679,0.679,0.679,0.679,0.679,0.679,0.679,0.679,0.679,0.679,0.679,0.679,0.679]\n",
    "i = [8.106,8.106,8.106,8.106,8.106,8.106,8.106,8.106,8.106,8.106,8.106,8.106,8.106,8.106,8.106,8.106,8.106,8.106,8.106,8.106,8.106,8.106,8.106,8.106,8.106,8.106,8.106,8.106,8.106,8.106,8.106,8.106,8.106,8.106,8.106,8.106,8.106,8.106,8.106,8.106,8.106,8.106,8.106,8.106,8.106,8.106,8.106,8.106,8.106,8.106]\n",
    "\n",
    "\n",
    "# Calculate the minimum length of all lists\n",
    "min_length = min(len(a), len(b), len(c), len(d), len(e), len(f), len(g), len(h), len(i))\n",
    "\n",
    "# Truncate all lists to the minimum length\n",
    "sal = {\n",
    "\t\"store\": a[:min_length],\n",
    "\t\"type\": b[:min_length],\n",
    "\t\"dept\": c[:min_length],\n",
    "\t\"date\": d[:min_length],\n",
    "\t\"weekly_sales\": e[:min_length],\n",
    "\t\"is_holiday\": f[:min_length],\n",
    "\t\"temperature\": g[:min_length],\n",
    "\t\"fuel_price\": h[:min_length],\n",
    "\t\"unemp\": i[:min_length],\n",
    "}\n",
    "sales = pd.DataFrame(sal)\n",
    "print(sales.head())"
   ]
  },
  {
   "cell_type": "code",
   "execution_count": null,
   "id": "e725f16b",
   "metadata": {},
   "outputs": [
    {
     "name": "stdout",
     "output_type": "stream",
     "text": [
      "   store type  dept        date  weekly_sales is_holiday  temperature  \\\n",
      "0      1    A     1  2025-01-01      24924.50      False         5.73   \n",
      "1      1    A     2  2025-01-02      50605.24      False         5.73   \n",
      "2      1    A     3  2025-01-03      76286.98      False         5.73   \n",
      "3      1    A     4  2025-01-04     101968.72      False         5.73   \n",
      "4      1    A     5  2025-01-05     127650.46      False         5.73   \n",
      "5      1    A     6  2025-01-06     153332.20      False         5.73   \n",
      "6      1    A     7  2025-01-07     179013.94      False         5.73   \n",
      "7      1    A     8  2025-01-08     204695.68      False         5.73   \n",
      "8      1    A     9  2025-01-09     230377.42      False         5.73   \n",
      "9      1    A    10  2025-01-10     256059.16      False         5.73   \n",
      "\n",
      "   fuel_price  unemp  \n",
      "0       0.679  8.106  \n",
      "1       0.679  8.106  \n",
      "2       0.679  8.106  \n",
      "3       0.679  8.106  \n",
      "4       0.679  8.106  \n",
      "5       0.679  8.106  \n",
      "6       0.679  8.106  \n",
      "7       0.679  8.106  \n",
      "8       0.679  8.106  \n",
      "9       0.679  8.106  \n",
      "<class 'pandas.core.frame.DataFrame'>\n",
      "RangeIndex: 29 entries, 0 to 28\n",
      "Data columns (total 9 columns):\n",
      " #   Column        Non-Null Count  Dtype  \n",
      "---  ------        --------------  -----  \n",
      " 0   store         29 non-null     int64  \n",
      " 1   type          29 non-null     object \n",
      " 2   dept          29 non-null     int64  \n",
      " 3   date          29 non-null     object \n",
      " 4   weekly_sales  29 non-null     float64\n",
      " 5   is_holiday    29 non-null     object \n",
      " 6   temperature   29 non-null     float64\n",
      " 7   fuel_price    29 non-null     float64\n",
      " 8   unemp         29 non-null     float64\n",
      "dtypes: float64(4), int64(2), object(3)\n",
      "memory usage: 2.2+ KB\n",
      "information None\n",
      "mean : 384467.89448275865\n",
      "median: 384467.86\n"
     ]
    }
   ],
   "source": [
    "# Print the head of the sales DataFrame\n",
    "print(sales.head(10))\n",
    "\n",
    "# Print the info about the sales DataFrame\n",
    "print(\"information :\",sales.info())\n",
    "\n",
    "# Print the mean of weekly_sales\n",
    "print(\"mean :\",sales['weekly_sales'].mean())\n",
    "\n",
    "# Print the median of weekly_sales\n",
    "print(\"median:\",sales['weekly_sales'].median())"
   ]
  },
  {
   "cell_type": "code",
   "execution_count": 14,
   "id": "6d179bd5",
   "metadata": {},
   "outputs": [
    {
     "name": "stdout",
     "output_type": "stream",
     "text": [
      "2025-01-29\n",
      "2025-01-01\n"
     ]
    }
   ],
   "source": [
    "# Print the maximum of the date column\n",
    "print(sales['date'].max())\n",
    "# Print the minimum of the date column\n",
    "print(sales['date'].min())"
   ]
  },
  {
   "cell_type": "code",
   "execution_count": 15,
   "id": "49c65e3c",
   "metadata": {},
   "outputs": [
    {
     "name": "stdout",
     "output_type": "stream",
     "text": [
      "0.0\n"
     ]
    }
   ],
   "source": [
    "# A custom IQR function\n",
    "def iqr(column):\n",
    "    return column.quantile(0.75) - column.quantile(0.25)\n",
    "    \n",
    "# Print IQR of the temperature_c column\n",
    "print(sales['temperature'].agg(iqr))"
   ]
  },
  {
   "cell_type": "code",
   "execution_count": 17,
   "id": "8a9eced4",
   "metadata": {},
   "outputs": [
    {
     "name": "stdout",
     "output_type": "stream",
     "text": [
      "temperature    0.0\n",
      "fuel_price     0.0\n",
      "unemp          0.0\n",
      "dtype: float64\n"
     ]
    }
   ],
   "source": [
    "# A custom IQR function\n",
    "def iqr(column):\n",
    "    return column.quantile(0.75) - column.quantile(0.25)\n",
    "\n",
    "# Update to print IQR of temperature, fuel_price, & unemployment\n",
    "print(sales[[\"temperature\", \"fuel_price\", \"unemp\"]].agg(iqr))"
   ]
  },
  {
   "cell_type": "code",
   "execution_count": 19,
   "id": "68819d76",
   "metadata": {},
   "outputs": [
    {
     "name": "stdout",
     "output_type": "stream",
     "text": [
      "        temperature  fuel_price  unemp\n",
      "iqr            0.00       0.000  0.000\n",
      "median         5.73       0.679  8.106\n"
     ]
    },
    {
     "name": "stderr",
     "output_type": "stream",
     "text": [
      "C:\\Users\\Asif\\AppData\\Local\\Temp\\ipykernel_1500\\20491272.py:7: FutureWarning: The provided callable <function median at 0x00000248FF1E1300> is currently using Series.median. In a future version of pandas, the provided callable will be used directly. To keep current behavior pass the string \"median\" instead.\n",
      "  print(sales[[\"temperature\", \"fuel_price\", \"unemp\"]].agg([iqr, np.median]))\n",
      "C:\\Users\\Asif\\AppData\\Local\\Temp\\ipykernel_1500\\20491272.py:7: FutureWarning: The provided callable <function median at 0x00000248FF1E1300> is currently using Series.median. In a future version of pandas, the provided callable will be used directly. To keep current behavior pass the string \"median\" instead.\n",
      "  print(sales[[\"temperature\", \"fuel_price\", \"unemp\"]].agg([iqr, np.median]))\n",
      "C:\\Users\\Asif\\AppData\\Local\\Temp\\ipykernel_1500\\20491272.py:7: FutureWarning: The provided callable <function median at 0x00000248FF1E1300> is currently using Series.median. In a future version of pandas, the provided callable will be used directly. To keep current behavior pass the string \"median\" instead.\n",
      "  print(sales[[\"temperature\", \"fuel_price\", \"unemp\"]].agg([iqr, np.median]))\n"
     ]
    }
   ],
   "source": [
    "# Import NumPy and create custom IQR function\n",
    "import numpy as np\n",
    "def iqr(column):\n",
    "    return column.quantile(0.75) - column.quantile(0.25)\n",
    "\n",
    "# Update to print IQR and median of temperature_c, fuel_price_usd_per_l, & unemployment\n",
    "print(sales[[\"temperature\", \"fuel_price\", \"unemp\"]].agg([iqr, np.median]))"
   ]
  },
  {
   "cell_type": "code",
   "execution_count": 21,
   "id": "89fd9269",
   "metadata": {},
   "outputs": [
    {
     "name": "stdout",
     "output_type": "stream",
     "text": [
      "          date  weekly_sales  cum_weekly_sales  cum_max_sales\n",
      "0   2025-01-01      24924.50          24924.50       24924.50\n",
      "1   2025-01-02      50605.24          75529.74       50605.24\n",
      "2   2025-01-03      76286.98         151816.72       76286.98\n",
      "3   2025-01-04     101968.72         253785.44      101968.72\n",
      "4   2025-01-05     127650.46         381435.90      127650.46\n",
      "5   2025-01-06     153332.20         534768.10      153332.20\n",
      "6   2025-01-07     179013.94         713782.04      179013.94\n",
      "7   2025-01-08     204695.68         918477.72      204695.68\n",
      "8   2025-01-09     230377.42        1148855.14      230377.42\n",
      "9   2025-01-10     256059.16        1404914.30      256059.16\n",
      "10  2025-01-11     281740.90        1686655.20      281740.90\n",
      "11  2025-01-12     307422.64        1994077.84      307422.64\n",
      "12  2025-01-13     333104.38        2327182.22      333104.38\n",
      "13  2025-01-14     358786.12        2685968.34      358786.12\n",
      "14  2025-01-15     384467.86        3070436.20      384467.86\n",
      "15  2025-01-16     410149.60        3480585.80      410149.60\n",
      "16  2025-01-17     435831.34        3916417.14      435831.34\n",
      "17  2025-01-18     461513.08        4377930.22      461513.08\n",
      "18  2025-01-19     487194.82        4865125.04      487194.82\n",
      "19  2025-01-20     512876.56        5378001.60      512876.56\n",
      "20  2025-01-21     538558.30        5916559.90      538558.30\n",
      "21  2025-01-22     564240.04        6480799.94      564240.04\n",
      "22  2025-01-23     589921.78        7070721.72      589921.78\n",
      "23  2025-01-24     615603.52        7686325.24      615603.52\n",
      "24  2025-01-25     641285.26        8327610.50      641285.26\n",
      "25  2025-01-26     666967.00        8994577.50      666967.00\n",
      "26  2025-01-27     692648.74        9687226.24      692648.74\n",
      "27  2025-01-28     718330.48       10405556.72      718330.48\n",
      "28  2025-01-29     744012.22       11149568.94      744012.22\n"
     ]
    }
   ],
   "source": [
    "# Assign sales to sales_1_1\n",
    "sales_1_1 = sales.copy()\n",
    "\n",
    "# Sort sales_1_1 by date\n",
    "sales_1_1 = sales_1_1.sort_values(\"date\")\n",
    "\n",
    "# Get the cumulative sum of weekly_sales, add as cum_weekly_sales col\n",
    "sales_1_1[\"cum_weekly_sales\"] = sales_1_1[\"weekly_sales\"].cumsum()\n",
    "\n",
    "# Get the cumulative max of weekly_sales, add as cum_max_sales col\n",
    "sales_1_1[\"cum_max_sales\"] = sales_1_1[\"weekly_sales\"].cummax()\n",
    "\n",
    "# See the columns you calculated\n",
    "print(sales_1_1[[\"date\", \"weekly_sales\", \"cum_weekly_sales\", \"cum_max_sales\"]])"
   ]
  },
  {
   "cell_type": "code",
   "execution_count": 7,
   "id": "35afd2aa",
   "metadata": {},
   "outputs": [],
   "source": [
    "import pandas as pd\n",
    "import numpy as np"
   ]
  },
  {
   "cell_type": "code",
   "execution_count": 9,
   "id": "c3a8c3b7",
   "metadata": {},
   "outputs": [
    {
     "name": "stdout",
     "output_type": "stream",
     "text": [
      "     store type  department        date  weekly_sales  is_holiday  \\\n",
      "0        4    A          56  2011-12-30      12400.61       False   \n",
      "1        7    B          96  2011-04-29      33801.63        True   \n",
      "2        1    A          24  2010-02-05      57624.62       False   \n",
      "3        3    A          45  2010-03-19      21466.23        True   \n",
      "4        3    C           3  2012-03-09      58850.79       False   \n",
      "..     ...  ...         ...         ...           ...         ...   \n",
      "595      2    B          57  2011-12-02      17641.08        True   \n",
      "596      5    C          63  2011-08-05      58188.92        True   \n",
      "597      9    C          85  2010-12-31      15279.01        True   \n",
      "598      5    B          99  2011-03-04      30016.07        True   \n",
      "599      3    C          71  2012-10-19      41462.46       False   \n",
      "\n",
      "     temperature_c  fuel_price_usd_per_l  unemployment  \n",
      "0           31.028                 0.755         8.043  \n",
      "1           29.984                 0.959        10.782  \n",
      "2           17.595                 0.902        11.609  \n",
      "3           -3.947                 0.748         9.082  \n",
      "4           28.006                 0.821        11.988  \n",
      "..             ...                   ...           ...  \n",
      "595         18.124                 0.880         7.981  \n",
      "596          5.715                 0.708         8.793  \n",
      "597         33.484                 1.032        11.745  \n",
      "598         37.255                 0.863         7.385  \n",
      "599         14.241                 0.630         4.304  \n",
      "\n",
      "[600 rows x 9 columns]\n"
     ]
    }
   ],
   "source": [
    "sales_data = pd.read_csv(r\"E:\\Notebook\\sales_data.csv\")\n",
    "print(sales_data)"
   ]
  },
  {
   "cell_type": "code",
   "execution_count": 18,
   "id": "d444efb6",
   "metadata": {},
   "outputs": [
    {
     "name": "stdout",
     "output_type": "stream",
     "text": [
      "   store type  department        date  weekly_sales  is_holiday  \\\n",
      "0      4    A          56  2011-12-30      12400.61       False   \n",
      "1      7    B          96  2011-04-29      33801.63        True   \n",
      "2      1    A          24  2010-02-05      57624.62       False   \n",
      "3      3    A          45  2010-03-19      21466.23        True   \n",
      "4      3    C           3  2012-03-09      58850.79       False   \n",
      "\n",
      "   temperature_c  fuel_price_usd_per_l  unemployment  \n",
      "0         31.028                 0.755         8.043  \n",
      "1         29.984                 0.959        10.782  \n",
      "2         17.595                 0.902        11.609  \n",
      "3         -3.947                 0.748         9.082  \n",
      "4         28.006                 0.821        11.988  \n",
      "store types\n",
      "   store type  department        date  weekly_sales  is_holiday  \\\n",
      "0      4    A          56  2011-12-30      12400.61       False   \n",
      "1      7    B          96  2011-04-29      33801.63        True   \n",
      "2      1    A          24  2010-02-05      57624.62       False   \n",
      "3      3    A          45  2010-03-19      21466.23        True   \n",
      "4      3    C           3  2012-03-09      58850.79       False   \n",
      "\n",
      "   temperature_c  fuel_price_usd_per_l  unemployment  \n",
      "0         31.028                 0.755         8.043  \n",
      "1         29.984                 0.959        10.782  \n",
      "2         17.595                 0.902        11.609  \n",
      "3         -3.947                 0.748         9.082  \n",
      "4         28.006                 0.821        11.988  \n",
      "store depts\n",
      "1      2011-04-29\n",
      "3      2010-03-19\n",
      "7      2011-04-22\n",
      "13     2011-08-19\n",
      "14     2011-08-12\n",
      "          ...    \n",
      "540    2010-08-06\n",
      "550    2010-04-30\n",
      "566    2012-07-06\n",
      "579    2012-04-20\n",
      "582    2012-11-16\n",
      "Name: date, Length: 135, dtype: object\n"
     ]
    }
   ],
   "source": [
    "\n",
    "# Drop duplicate store/type combinations\n",
    "store_types = sales_data.drop_duplicates(subset=[\"store\",\"type\"])\n",
    "print(store_types.head())\n",
    "print(\"store types\")\n",
    "\n",
    "# Drop duplicate store/department combinations\n",
    "store_depts = sales_data.drop_duplicates(subset = [\"store\",\"department\"])\n",
    "print(store_depts.head())\n",
    "print(\"store depts\")\n",
    "\n",
    "# Subset the rows where is_holiday is True and drop duplicate dates\n",
    "holiday_dates = sales_data[sales_data[\"is_holiday\"]== True].drop_duplicates(subset=\"date\")\n",
    "\n",
    "# Print date col of holiday_dates\n",
    "print(holiday_dates[\"date\"])\n"
   ]
  },
  {
   "cell_type": "code",
   "execution_count": 19,
   "id": "dcd92755",
   "metadata": {},
   "outputs": [
    {
     "name": "stdout",
     "output_type": "stream",
     "text": [
      "type\n",
      "A    10\n",
      "B    10\n",
      "C    10\n",
      "Name: count, dtype: int64\n",
      "type\n",
      "A    0.333333\n",
      "B    0.333333\n",
      "C    0.333333\n",
      "Name: proportion, dtype: float64\n",
      "department\n",
      "60    8\n",
      "25    8\n",
      "30    8\n",
      "31    7\n",
      "58    7\n",
      "     ..\n",
      "50    2\n",
      "94    2\n",
      "36    1\n",
      "43    1\n",
      "87    1\n",
      "Name: count, Length: 99, dtype: int64\n",
      "department\n",
      "60    0.017778\n",
      "25    0.017778\n",
      "30    0.017778\n",
      "31    0.015556\n",
      "58    0.015556\n",
      "        ...   \n",
      "50    0.004444\n",
      "94    0.004444\n",
      "36    0.002222\n",
      "43    0.002222\n",
      "87    0.002222\n",
      "Name: proportion, Length: 99, dtype: float64\n"
     ]
    }
   ],
   "source": [
    "# Count the number of stores of each type\n",
    "store_counts = store_types[\"type\"].value_counts()\n",
    "print(store_counts)\n",
    "\n",
    "# Get the proportion of stores of each type\n",
    "store_props = store_types[\"type\"].value_counts(normalize = True)\n",
    "print(store_props)\n",
    "\n",
    "# Count the number of stores for each department and sort\n",
    "dept_counts_sorted = store_depts[\"department\"].value_counts(sort=True)\n",
    "print(dept_counts_sorted)\n",
    "\n",
    "# Get the proportion of stores in each department and sort\n",
    "dept_props_sorted = store_depts[\"department\"].value_counts(sort = True, normalize= True)\n",
    "print(dept_props_sorted)"
   ]
  },
  {
   "cell_type": "code",
   "execution_count": 24,
   "id": "45137e19",
   "metadata": {},
   "outputs": [
    {
     "name": "stdout",
     "output_type": "stream",
     "text": [
      "     store type  department        date  weekly_sales  is_holiday  \\\n",
      "0        4    A          56  2011-12-30      12400.61       False   \n",
      "1        7    B          96  2011-04-29      33801.63        True   \n",
      "2        1    A          24  2010-02-05      57624.62       False   \n",
      "3        3    A          45  2010-03-19      21466.23        True   \n",
      "4        3    C           3  2012-03-09      58850.79       False   \n",
      "..     ...  ...         ...         ...           ...         ...   \n",
      "595      2    B          57  2011-12-02      17641.08        True   \n",
      "596      5    C          63  2011-08-05      58188.92        True   \n",
      "597      9    C          85  2010-12-31      15279.01        True   \n",
      "598      5    B          99  2011-03-04      30016.07        True   \n",
      "599      3    C          71  2012-10-19      41462.46       False   \n",
      "\n",
      "     temperature_c  fuel_price_usd_per_l  unemployment  \n",
      "0           31.028                 0.755         8.043  \n",
      "1           29.984                 0.959        10.782  \n",
      "2           17.595                 0.902        11.609  \n",
      "3           -3.947                 0.748         9.082  \n",
      "4           28.006                 0.821        11.988  \n",
      "..             ...                   ...           ...  \n",
      "595         18.124                 0.880         7.981  \n",
      "596          5.715                 0.708         8.793  \n",
      "597         33.484                 1.032        11.745  \n",
      "598         37.255                 0.863         7.385  \n",
      "599         14.241                 0.630         4.304  \n",
      "\n",
      "[600 rows x 9 columns]\n"
     ]
    }
   ],
   "source": [
    "print(sales_data)"
   ]
  },
  {
   "cell_type": "code",
   "execution_count": 25,
   "id": "803984a4",
   "metadata": {},
   "outputs": [
    {
     "name": "stdout",
     "output_type": "stream",
     "text": [
      "[0.3295398  0.35168321 0.31877699]\n"
     ]
    }
   ],
   "source": [
    "\n",
    "\n",
    "# Calc total weekly sales\n",
    "sales_all = sales_data[\"weekly_sales\"].sum()\n",
    "\n",
    "# Subset for type A stores, calc total weekly sales\n",
    "sales_A = sales_data[sales_data[\"type\"] == \"A\"][\"weekly_sales\"].sum()\n",
    "\n",
    "# Subset for type B stores, calc total weekly sales\n",
    "sales_B = sales_data[sales_data[\"type\"] == \"B\"][\"weekly_sales\"].sum()\n",
    "\n",
    "# Subset for type C stores, calc total weekly sales\n",
    "sales_C = sales_data[sales_data[\"type\"] == \"C\"][\"weekly_sales\"].sum()\n",
    "\n",
    "# Get proportion for each type\n",
    "sales_propn_by_type = [sales_A, sales_B, sales_C] / sales_all\n",
    "print(sales_propn_by_type)"
   ]
  },
  {
   "cell_type": "code",
   "execution_count": 26,
   "id": "3fd6e237",
   "metadata": {},
   "outputs": [
    {
     "name": "stdout",
     "output_type": "stream",
     "text": [
      "type\n",
      "A    0.329540\n",
      "B    0.351683\n",
      "C    0.318777\n",
      "Name: weekly_sales, dtype: float64\n"
     ]
    }
   ],
   "source": [
    "# Group by type; calc total weekly sales\n",
    "sales_by_type = sales_data.groupby(\"type\")[\"weekly_sales\"].sum()\n",
    "\n",
    "# Get proportion for each type\n",
    "sales_propn_by_type = sales_by_type / sum(sales_by_type)\n",
    "print(sales_propn_by_type)"
   ]
  },
  {
   "cell_type": "code",
   "execution_count": 29,
   "id": "1155c67c",
   "metadata": {},
   "outputs": [
    {
     "name": "stdout",
     "output_type": "stream",
     "text": [
      "type  is_holiday\n",
      "A     False         3552486.81\n",
      "      True          3428447.24\n",
      "B     False         3851736.76\n",
      "      True          3598280.94\n",
      "C     False         2850753.96\n",
      "      True          3902181.94\n",
      "Name: weekly_sales, dtype: float64\n"
     ]
    }
   ],
   "source": [
    "# From previous step\n",
    "sales_by_type = sales_data.groupby(\"type\")[\"weekly_sales\"].sum()\n",
    "\n",
    "# Group by type and is_holiday; calc total weekly sales\n",
    "sales_by_type_is_holiday = sales_data.groupby([\"type\", \"is_holiday\"])[\"weekly_sales\"].sum()\n",
    "print(sales_by_type_is_holiday)"
   ]
  },
  {
   "cell_type": "code",
   "execution_count": 30,
   "id": "4b63859e",
   "metadata": {},
   "outputs": [
    {
     "name": "stdout",
     "output_type": "stream",
     "text": [
      "           min       max          mean     median\n",
      "type                                             \n",
      "A     10242.67  59972.36  35257.242677  35067.480\n",
      "B     10194.19  59925.13  34813.166822  34801.495\n",
      "C     10502.70  59705.74  35919.871809  36518.415\n",
      "     unemployment                           fuel_price_usd_per_l         \\\n",
      "              min     max      mean  median                  min    max   \n",
      "type                                                                      \n",
      "A           4.044  11.992  8.327561  8.3995                0.602  1.198   \n",
      "B           4.009  11.977  8.154299  8.1255                0.604  1.200   \n",
      "C           4.039  11.988  7.853926  7.9375                0.612  1.196   \n",
      "\n",
      "                        \n",
      "          mean  median  \n",
      "type                    \n",
      "A     0.901944  0.9095  \n",
      "B     0.898336  0.8870  \n",
      "C     0.895277  0.8810  \n"
     ]
    },
    {
     "name": "stderr",
     "output_type": "stream",
     "text": [
      "C:\\Users\\Asif\\AppData\\Local\\Temp\\ipykernel_13252\\3264712944.py:5: FutureWarning: The provided callable <function min at 0x00000199B6979EE0> is currently using SeriesGroupBy.min. In a future version of pandas, the provided callable will be used directly. To keep current behavior pass the string \"min\" instead.\n",
      "  sales_stats = sales_data.groupby(\"type\")[\"weekly_sales\"].agg([np.min,np.max,np.mean,np.median])\n",
      "C:\\Users\\Asif\\AppData\\Local\\Temp\\ipykernel_13252\\3264712944.py:5: FutureWarning: The provided callable <function max at 0x00000199B6979DA0> is currently using SeriesGroupBy.max. In a future version of pandas, the provided callable will be used directly. To keep current behavior pass the string \"max\" instead.\n",
      "  sales_stats = sales_data.groupby(\"type\")[\"weekly_sales\"].agg([np.min,np.max,np.mean,np.median])\n",
      "C:\\Users\\Asif\\AppData\\Local\\Temp\\ipykernel_13252\\3264712944.py:5: FutureWarning: The provided callable <function mean at 0x00000199B697A7A0> is currently using SeriesGroupBy.mean. In a future version of pandas, the provided callable will be used directly. To keep current behavior pass the string \"mean\" instead.\n",
      "  sales_stats = sales_data.groupby(\"type\")[\"weekly_sales\"].agg([np.min,np.max,np.mean,np.median])\n",
      "C:\\Users\\Asif\\AppData\\Local\\Temp\\ipykernel_13252\\3264712944.py:5: FutureWarning: The provided callable <function median at 0x00000199B6ACFEC0> is currently using SeriesGroupBy.median. In a future version of pandas, the provided callable will be used directly. To keep current behavior pass the string \"median\" instead.\n",
      "  sales_stats = sales_data.groupby(\"type\")[\"weekly_sales\"].agg([np.min,np.max,np.mean,np.median])\n",
      "C:\\Users\\Asif\\AppData\\Local\\Temp\\ipykernel_13252\\3264712944.py:11: FutureWarning: The provided callable <function min at 0x00000199B6979EE0> is currently using SeriesGroupBy.min. In a future version of pandas, the provided callable will be used directly. To keep current behavior pass the string \"min\" instead.\n",
      "  unemp_fuel_stats = sales_data.groupby(\"type\")[[\"unemployment\",\"fuel_price_usd_per_l\"]].agg([np.min,np.max,np.mean,np.median])\n",
      "C:\\Users\\Asif\\AppData\\Local\\Temp\\ipykernel_13252\\3264712944.py:11: FutureWarning: The provided callable <function max at 0x00000199B6979DA0> is currently using SeriesGroupBy.max. In a future version of pandas, the provided callable will be used directly. To keep current behavior pass the string \"max\" instead.\n",
      "  unemp_fuel_stats = sales_data.groupby(\"type\")[[\"unemployment\",\"fuel_price_usd_per_l\"]].agg([np.min,np.max,np.mean,np.median])\n",
      "C:\\Users\\Asif\\AppData\\Local\\Temp\\ipykernel_13252\\3264712944.py:11: FutureWarning: The provided callable <function mean at 0x00000199B697A7A0> is currently using SeriesGroupBy.mean. In a future version of pandas, the provided callable will be used directly. To keep current behavior pass the string \"mean\" instead.\n",
      "  unemp_fuel_stats = sales_data.groupby(\"type\")[[\"unemployment\",\"fuel_price_usd_per_l\"]].agg([np.min,np.max,np.mean,np.median])\n",
      "C:\\Users\\Asif\\AppData\\Local\\Temp\\ipykernel_13252\\3264712944.py:11: FutureWarning: The provided callable <function median at 0x00000199B6ACFEC0> is currently using SeriesGroupBy.median. In a future version of pandas, the provided callable will be used directly. To keep current behavior pass the string \"median\" instead.\n",
      "  unemp_fuel_stats = sales_data.groupby(\"type\")[[\"unemployment\",\"fuel_price_usd_per_l\"]].agg([np.min,np.max,np.mean,np.median])\n",
      "C:\\Users\\Asif\\AppData\\Local\\Temp\\ipykernel_13252\\3264712944.py:11: FutureWarning: The provided callable <function min at 0x00000199B6979EE0> is currently using SeriesGroupBy.min. In a future version of pandas, the provided callable will be used directly. To keep current behavior pass the string \"min\" instead.\n",
      "  unemp_fuel_stats = sales_data.groupby(\"type\")[[\"unemployment\",\"fuel_price_usd_per_l\"]].agg([np.min,np.max,np.mean,np.median])\n"
     ]
    }
   ],
   "source": [
    "# Import numpy with the alias np\n",
    "import numpy as np\n",
    "\n",
    "# For each store type, aggregate weekly_sales: get min, max, mean, and median\n",
    "sales_stats = sales_data.groupby(\"type\")[\"weekly_sales\"].agg([np.min,np.max,np.mean,np.median])\n",
    "\n",
    "# Print sales_stats\n",
    "print(sales_stats)\n",
    "\n",
    "# For each store type, aggregate unemployment and fuel_price_usd_per_l: get min, max, mean, and median\n",
    "unemp_fuel_stats = sales_data.groupby(\"type\")[[\"unemployment\",\"fuel_price_usd_per_l\"]].agg([np.min,np.max,np.mean,np.median])\n",
    "\n",
    "# Print unemp_fuel_stats\n",
    "print(unemp_fuel_stats)"
   ]
  },
  {
   "cell_type": "code",
   "execution_count": 31,
   "id": "4bb5d6c9",
   "metadata": {},
   "outputs": [
    {
     "name": "stdout",
     "output_type": "stream",
     "text": [
      "      weekly_sales\n",
      "type              \n",
      "A     35257.242677\n",
      "B     34813.166822\n",
      "C     35919.871809\n"
     ]
    }
   ],
   "source": [
    "# Pivot for mean weekly_sales for each store type\n",
    "mean_sales_by_type = sales_data.pivot_table(values=\"weekly_sales\",index =\"type\")\n",
    "\n",
    "# Print mean_sales_by_type\n",
    "print(mean_sales_by_type)"
   ]
  },
  {
   "cell_type": "code",
   "execution_count": 32,
   "id": "a883bc41",
   "metadata": {},
   "outputs": [
    {
     "name": "stdout",
     "output_type": "stream",
     "text": [
      "              mean       median\n",
      "      weekly_sales weekly_sales\n",
      "type                           \n",
      "A     35257.242677    35067.480\n",
      "B     34813.166822    34801.495\n",
      "C     35919.871809    36518.415\n"
     ]
    },
    {
     "name": "stderr",
     "output_type": "stream",
     "text": [
      "C:\\Users\\Asif\\AppData\\Local\\Temp\\ipykernel_13252\\3171975289.py:5: FutureWarning: The provided callable <function mean at 0x00000199B697A7A0> is currently using DataFrameGroupBy.mean. In a future version of pandas, the provided callable will be used directly. To keep current behavior pass the string \"mean\" instead.\n",
      "  mean_med_sales_by_type = sales_data.pivot_table(values=\"weekly_sales\",index = \"type\",aggfunc=[np.mean,np.median])\n",
      "C:\\Users\\Asif\\AppData\\Local\\Temp\\ipykernel_13252\\3171975289.py:5: FutureWarning: The provided callable <function median at 0x00000199B6ACFEC0> is currently using DataFrameGroupBy.median. In a future version of pandas, the provided callable will be used directly. To keep current behavior pass the string \"median\" instead.\n",
      "  mean_med_sales_by_type = sales_data.pivot_table(values=\"weekly_sales\",index = \"type\",aggfunc=[np.mean,np.median])\n"
     ]
    }
   ],
   "source": [
    "# Import NumPy as np\n",
    "import numpy as np\n",
    "\n",
    "# Pivot for mean and median weekly_sales for each store type\n",
    "mean_med_sales_by_type = sales_data.pivot_table(values=\"weekly_sales\",index = \"type\",aggfunc=[np.mean,np.median])\n",
    "\n",
    "# Print mean_med_sales_by_type\n",
    "print(mean_med_sales_by_type)"
   ]
  },
  {
   "cell_type": "code",
   "execution_count": 33,
   "id": "fece193a",
   "metadata": {},
   "outputs": [
    {
     "name": "stdout",
     "output_type": "stream",
     "text": [
      "is_holiday         False         True \n",
      "type                                  \n",
      "A           34158.527019  36472.842979\n",
      "B           35015.788727  34598.855192\n",
      "C           35634.424500  36131.314259\n"
     ]
    },
    {
     "name": "stderr",
     "output_type": "stream",
     "text": [
      "C:\\Users\\Asif\\AppData\\Local\\Temp\\ipykernel_13252\\3406538924.py:3: FutureWarning: The provided callable <function mean at 0x00000199B697A7A0> is currently using DataFrameGroupBy.mean. In a future version of pandas, the provided callable will be used directly. To keep current behavior pass the string \"mean\" instead.\n",
      "  mean_sales_by_type_holiday = sales_data.pivot_table(values = \"weekly_sales\",index = \"type\",columns = \"is_holiday\", aggfunc =np.mean )\n"
     ]
    }
   ],
   "source": [
    "import numpy as np\n",
    "# Pivot for mean weekly_sales by store type and holiday \n",
    "mean_sales_by_type_holiday = sales_data.pivot_table(values = \"weekly_sales\",index = \"type\",columns = \"is_holiday\", aggfunc =np.mean )\n",
    "\n",
    "# Print mean_sales_by_type_holiday\n",
    "print(mean_sales_by_type_holiday)"
   ]
  },
  {
   "cell_type": "code",
   "execution_count": 34,
   "id": "dc5b5e8d",
   "metadata": {},
   "outputs": [
    {
     "name": "stdout",
     "output_type": "stream",
     "text": [
      "type                   A             B             C\n",
      "department                                          \n",
      "1           36172.730000  43457.975000  39238.275000\n",
      "2           44881.970000  39883.940000  36165.395000\n",
      "3           45939.510000      0.000000  58850.790000\n",
      "4           31831.336667  58987.570000  32539.125000\n",
      "5           42640.170000  52046.550000  32545.420000\n",
      "...                  ...           ...           ...\n",
      "95          20048.080000  41188.090000  42129.420000\n",
      "96          19361.740000  30263.824000  52059.260000\n",
      "97              0.000000  17179.510000  42502.015000\n",
      "98          37451.050000  36185.003333  34715.255000\n",
      "99          46705.250000  23300.285000  31925.583333\n",
      "\n",
      "[99 rows x 3 columns]\n"
     ]
    }
   ],
   "source": [
    "# Print mean weekly_sales by department and type; fill missing values with 0\n",
    "print(sales_data.pivot_table(values = \"weekly_sales\",index = \"department\",columns = \"type\" ,fill_value = 0))"
   ]
  },
  {
   "cell_type": "code",
   "execution_count": 35,
   "id": "92181014",
   "metadata": {},
   "outputs": [
    {
     "name": "stdout",
     "output_type": "stream",
     "text": [
      "type                   A             B             C           All\n",
      "department                                                        \n",
      "1           36172.730000  43457.975000  39238.275000  39622.993333\n",
      "2           44881.970000  39883.940000  36165.395000  39274.175000\n",
      "3           45939.510000      0.000000  58850.790000  50243.270000\n",
      "4           31831.336667  58987.570000  32539.125000  36593.305000\n",
      "5           42640.170000  52046.550000  32545.420000  44383.772000\n",
      "...                  ...           ...           ...           ...\n",
      "96          19361.740000  30263.824000  52059.260000  34349.922500\n",
      "97              0.000000  17179.510000  42502.015000  29840.762500\n",
      "98          37451.050000  36185.003333  34715.255000  36263.061818\n",
      "99          46705.250000  23300.285000  31925.583333  32909.364000\n",
      "All         35257.242677  34813.166822  35919.871809  35306.479417\n",
      "\n",
      "[100 rows x 4 columns]\n"
     ]
    }
   ],
   "source": [
    "# Print the mean weekly_sales by department and type; fill missing values with 0s; sum all rows and cols\n",
    "print(sales_data.pivot_table(values=\"weekly_sales\", index=\"department\", columns=\"type\", fill_value = 0 , margins = True))"
   ]
  },
  {
   "cell_type": "code",
   "execution_count": null,
   "id": "eb0f2b70",
   "metadata": {},
   "outputs": [],
   "source": []
  }
 ],
 "metadata": {
  "kernelspec": {
   "display_name": "Python 3",
   "language": "python",
   "name": "python3"
  },
  "language_info": {
   "codemirror_mode": {
    "name": "ipython",
    "version": 3
   },
   "file_extension": ".py",
   "mimetype": "text/x-python",
   "name": "python",
   "nbconvert_exporter": "python",
   "pygments_lexer": "ipython3",
   "version": "3.11.9"
  }
 },
 "nbformat": 4,
 "nbformat_minor": 5
}
