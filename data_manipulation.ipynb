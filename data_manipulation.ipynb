{
 "cells": [
  {
   "cell_type": "code",
   "execution_count": 7,
   "id": "1a933cb9",
   "metadata": {},
   "outputs": [],
   "source": [
    "import pandas as pd\n",
    "import numpy as np"
   ]
  },
  {
   "cell_type": "code",
   "execution_count": 11,
   "id": "4b0258a5",
   "metadata": {},
   "outputs": [
    {
     "name": "stdout",
     "output_type": "stream",
     "text": [
      "   store type  dept        date  weekly_sales is_holiday  temperature  \\\n",
      "0      1    A     1  2025-01-01      24924.50      False         5.73   \n",
      "1      1    A     2  2025-01-02      50605.24      False         5.73   \n",
      "2      1    A     3  2025-01-03      76286.98      False         5.73   \n",
      "3      1    A     4  2025-01-04     101968.72      False         5.73   \n",
      "4      1    A     5  2025-01-05     127650.46      False         5.73   \n",
      "\n",
      "   fuel_price  unemp  \n",
      "0       0.679  8.106  \n",
      "1       0.679  8.106  \n",
      "2       0.679  8.106  \n",
      "3       0.679  8.106  \n",
      "4       0.679  8.106  \n"
     ]
    }
   ],
   "source": [
    "a = [1,1,1,1,1,1,1,1,1,1,2,2,2,2,2,2,2,2,2,2,3,3,3,3,3,3,3,3,3,3,4,4,4,4,4,4,4,4,4,4,5,5,5,5,5,5,5,5,5,5]\n",
    "b = [\"A\",\"A\",\"A\",\"A\",\"A\",\"A\",\"A\",\"A\",\"A\",\"A\",\"B\",\"B\",\"B\",\"B\",\"B\",\"B\",\"B\",\"B\",\"B\",\"B\",\"C\",\"C\",\"C\",\"C\",\"C\",\"C\",\"C\",\"C\",\"C\",\"C\",\"D\",\"D\",\"D\",\"D\",\"D\",\"D\",\"D\",\"D\",\"D\",\"D\",\"E\",\"E\",\"E\",\"E\",\"E\",\"E\",\"E\",\"E\",\"E\",\"E\"]\n",
    "c = [1,2,3,4,5,6,7,8,9,10,11,12,13,14,15,16,17,18,19,20,21,22,23,24,25,26,27,28,29,30]\n",
    "d = [\"2025-01-01\",\"2025-01-02\",\"2025-01-03\",\"2025-01-04\",\"2025-01-05\",\"2025-01-06\",\"2025-01-07\",\"2025-01-08\",\"2025-01-09\",\"2025-01-10\",\"2025-01-11\",\"2025-01-12\",\"2025-01-13\",\"2025-01-14\",\"2025-01-15\",\"2025-01-16\",\"2025-01-17\",\"2025-01-18\",\"2025-01-19\",\"2025-01-20\",\"2025-01-21\",\"2025-01-22\",\"2025-01-23\",\"2025-01-24\",\"2025-01-25\",\"2025-01-26\",\"2025-01-27\",\"2025-01-28\",\"2025-01-29\"]\n",
    "e = [24924.50,50605.24,76286.98,101968.72,127650.46,153332.20,179013.94,204695.68,230377.42,256059.16,281740.90,307422.64,333104.38,358786.12,384467.86,410149.60,435831.34,461513.08,487194.82,512876.56,538558.30,564240.04,589921.78,615603.52,641285.26,666967.00,692648.74,718330.48,744012.22]\n",
    "f = [\"False\",\"False\",\"False\",\"False\",\"False\",\"False\",\"False\",\"False\",\"False\",\"False\",\"True\",\"True\",\"True\",\"True\",\"True\",\"True\",\"True\",\"True\",\"True\",\"True\",\"False\",\"False\",\"False\",\"False\",\"False\",\"False\",\"False\",\"False\",\"False\",\"False\"]\n",
    "g = [5.73,5.73,5.73,5.73,5.73,5.73,5.73,5.73,5.73,5.73,5.73,5.73,5.73,5.73,5.73,5.73,5.73,5.73,5.73,5.73,5.73,5.73,5.73,5.73,5.73,5.73,5.73,5.73,5.73]\n",
    "h = [0.679,0.679,0.679,0.679,0.679,0.679,0.679,0.679,0.679,0.679,0.679,0.679,0.679,0.679,0.679,0.679,0.679,0.679,0.679,0.679,0.679,0.679,0.679,0.679,0.679,0.679,0.679,0.679,0.679,0.679,0.679,0.679,0.679,0.679,0.679,0.679,0.679,0.679,0.679,0.679,0.679,0.679,0.679,0.679,0.679,0.679,0.679,0.679,0.679,0.679]\n",
    "i = [8.106,8.106,8.106,8.106,8.106,8.106,8.106,8.106,8.106,8.106,8.106,8.106,8.106,8.106,8.106,8.106,8.106,8.106,8.106,8.106,8.106,8.106,8.106,8.106,8.106,8.106,8.106,8.106,8.106,8.106,8.106,8.106,8.106,8.106,8.106,8.106,8.106,8.106,8.106,8.106,8.106,8.106,8.106,8.106,8.106,8.106,8.106,8.106,8.106,8.106]\n",
    "\n",
    "\n",
    "# Calculate the minimum length of all lists\n",
    "min_length = min(len(a), len(b), len(c), len(d), len(e), len(f), len(g), len(h), len(i))\n",
    "\n",
    "# Truncate all lists to the minimum length\n",
    "sal = {\n",
    "\t\"store\": a[:min_length],\n",
    "\t\"type\": b[:min_length],\n",
    "\t\"dept\": c[:min_length],\n",
    "\t\"date\": d[:min_length],\n",
    "\t\"weekly_sales\": e[:min_length],\n",
    "\t\"is_holiday\": f[:min_length],\n",
    "\t\"temperature\": g[:min_length],\n",
    "\t\"fuel_price\": h[:min_length],\n",
    "\t\"unemp\": i[:min_length],\n",
    "}\n",
    "sales = pd.DataFrame(sal)\n",
    "print(sales.head())"
   ]
  },
  {
   "cell_type": "code",
   "execution_count": null,
   "id": "e725f16b",
   "metadata": {},
   "outputs": [
    {
     "name": "stdout",
     "output_type": "stream",
     "text": [
      "   store type  dept        date  weekly_sales is_holiday  temperature  \\\n",
      "0      1    A     1  2025-01-01      24924.50      False         5.73   \n",
      "1      1    A     2  2025-01-02      50605.24      False         5.73   \n",
      "2      1    A     3  2025-01-03      76286.98      False         5.73   \n",
      "3      1    A     4  2025-01-04     101968.72      False         5.73   \n",
      "4      1    A     5  2025-01-05     127650.46      False         5.73   \n",
      "5      1    A     6  2025-01-06     153332.20      False         5.73   \n",
      "6      1    A     7  2025-01-07     179013.94      False         5.73   \n",
      "7      1    A     8  2025-01-08     204695.68      False         5.73   \n",
      "8      1    A     9  2025-01-09     230377.42      False         5.73   \n",
      "9      1    A    10  2025-01-10     256059.16      False         5.73   \n",
      "\n",
      "   fuel_price  unemp  \n",
      "0       0.679  8.106  \n",
      "1       0.679  8.106  \n",
      "2       0.679  8.106  \n",
      "3       0.679  8.106  \n",
      "4       0.679  8.106  \n",
      "5       0.679  8.106  \n",
      "6       0.679  8.106  \n",
      "7       0.679  8.106  \n",
      "8       0.679  8.106  \n",
      "9       0.679  8.106  \n",
      "<class 'pandas.core.frame.DataFrame'>\n",
      "RangeIndex: 29 entries, 0 to 28\n",
      "Data columns (total 9 columns):\n",
      " #   Column        Non-Null Count  Dtype  \n",
      "---  ------        --------------  -----  \n",
      " 0   store         29 non-null     int64  \n",
      " 1   type          29 non-null     object \n",
      " 2   dept          29 non-null     int64  \n",
      " 3   date          29 non-null     object \n",
      " 4   weekly_sales  29 non-null     float64\n",
      " 5   is_holiday    29 non-null     object \n",
      " 6   temperature   29 non-null     float64\n",
      " 7   fuel_price    29 non-null     float64\n",
      " 8   unemp         29 non-null     float64\n",
      "dtypes: float64(4), int64(2), object(3)\n",
      "memory usage: 2.2+ KB\n",
      "information None\n",
      "mean : 384467.89448275865\n",
      "median: 384467.86\n"
     ]
    }
   ],
   "source": [
    "# Print the head of the sales DataFrame\n",
    "print(sales.head(10))\n",
    "\n",
    "# Print the info about the sales DataFrame\n",
    "print(\"information :\",sales.info())\n",
    "\n",
    "# Print the mean of weekly_sales\n",
    "print(\"mean :\",sales['weekly_sales'].mean())\n",
    "\n",
    "# Print the median of weekly_sales\n",
    "print(\"median:\",sales['weekly_sales'].median())"
   ]
  },
  {
   "cell_type": "code",
   "execution_count": 14,
   "id": "6d179bd5",
   "metadata": {},
   "outputs": [
    {
     "name": "stdout",
     "output_type": "stream",
     "text": [
      "2025-01-29\n",
      "2025-01-01\n"
     ]
    }
   ],
   "source": [
    "# Print the maximum of the date column\n",
    "print(sales['date'].max())\n",
    "# Print the minimum of the date column\n",
    "print(sales['date'].min())"
   ]
  },
  {
   "cell_type": "code",
   "execution_count": 15,
   "id": "49c65e3c",
   "metadata": {},
   "outputs": [
    {
     "name": "stdout",
     "output_type": "stream",
     "text": [
      "0.0\n"
     ]
    }
   ],
   "source": [
    "# A custom IQR function\n",
    "def iqr(column):\n",
    "    return column.quantile(0.75) - column.quantile(0.25)\n",
    "    \n",
    "# Print IQR of the temperature_c column\n",
    "print(sales['temperature'].agg(iqr))"
   ]
  },
  {
   "cell_type": "code",
   "execution_count": 17,
   "id": "8a9eced4",
   "metadata": {},
   "outputs": [
    {
     "name": "stdout",
     "output_type": "stream",
     "text": [
      "temperature    0.0\n",
      "fuel_price     0.0\n",
      "unemp          0.0\n",
      "dtype: float64\n"
     ]
    }
   ],
   "source": [
    "# A custom IQR function\n",
    "def iqr(column):\n",
    "    return column.quantile(0.75) - column.quantile(0.25)\n",
    "\n",
    "# Update to print IQR of temperature, fuel_price, & unemployment\n",
    "print(sales[[\"temperature\", \"fuel_price\", \"unemp\"]].agg(iqr))"
   ]
  },
  {
   "cell_type": "code",
   "execution_count": 19,
   "id": "68819d76",
   "metadata": {},
   "outputs": [
    {
     "name": "stdout",
     "output_type": "stream",
     "text": [
      "        temperature  fuel_price  unemp\n",
      "iqr            0.00       0.000  0.000\n",
      "median         5.73       0.679  8.106\n"
     ]
    },
    {
     "name": "stderr",
     "output_type": "stream",
     "text": [
      "C:\\Users\\Asif\\AppData\\Local\\Temp\\ipykernel_1500\\20491272.py:7: FutureWarning: The provided callable <function median at 0x00000248FF1E1300> is currently using Series.median. In a future version of pandas, the provided callable will be used directly. To keep current behavior pass the string \"median\" instead.\n",
      "  print(sales[[\"temperature\", \"fuel_price\", \"unemp\"]].agg([iqr, np.median]))\n",
      "C:\\Users\\Asif\\AppData\\Local\\Temp\\ipykernel_1500\\20491272.py:7: FutureWarning: The provided callable <function median at 0x00000248FF1E1300> is currently using Series.median. In a future version of pandas, the provided callable will be used directly. To keep current behavior pass the string \"median\" instead.\n",
      "  print(sales[[\"temperature\", \"fuel_price\", \"unemp\"]].agg([iqr, np.median]))\n",
      "C:\\Users\\Asif\\AppData\\Local\\Temp\\ipykernel_1500\\20491272.py:7: FutureWarning: The provided callable <function median at 0x00000248FF1E1300> is currently using Series.median. In a future version of pandas, the provided callable will be used directly. To keep current behavior pass the string \"median\" instead.\n",
      "  print(sales[[\"temperature\", \"fuel_price\", \"unemp\"]].agg([iqr, np.median]))\n"
     ]
    }
   ],
   "source": [
    "# Import NumPy and create custom IQR function\n",
    "import numpy as np\n",
    "def iqr(column):\n",
    "    return column.quantile(0.75) - column.quantile(0.25)\n",
    "\n",
    "# Update to print IQR and median of temperature_c, fuel_price_usd_per_l, & unemployment\n",
    "print(sales[[\"temperature\", \"fuel_price\", \"unemp\"]].agg([iqr, np.median]))"
   ]
  },
  {
   "cell_type": "code",
   "execution_count": 21,
   "id": "89fd9269",
   "metadata": {},
   "outputs": [
    {
     "name": "stdout",
     "output_type": "stream",
     "text": [
      "          date  weekly_sales  cum_weekly_sales  cum_max_sales\n",
      "0   2025-01-01      24924.50          24924.50       24924.50\n",
      "1   2025-01-02      50605.24          75529.74       50605.24\n",
      "2   2025-01-03      76286.98         151816.72       76286.98\n",
      "3   2025-01-04     101968.72         253785.44      101968.72\n",
      "4   2025-01-05     127650.46         381435.90      127650.46\n",
      "5   2025-01-06     153332.20         534768.10      153332.20\n",
      "6   2025-01-07     179013.94         713782.04      179013.94\n",
      "7   2025-01-08     204695.68         918477.72      204695.68\n",
      "8   2025-01-09     230377.42        1148855.14      230377.42\n",
      "9   2025-01-10     256059.16        1404914.30      256059.16\n",
      "10  2025-01-11     281740.90        1686655.20      281740.90\n",
      "11  2025-01-12     307422.64        1994077.84      307422.64\n",
      "12  2025-01-13     333104.38        2327182.22      333104.38\n",
      "13  2025-01-14     358786.12        2685968.34      358786.12\n",
      "14  2025-01-15     384467.86        3070436.20      384467.86\n",
      "15  2025-01-16     410149.60        3480585.80      410149.60\n",
      "16  2025-01-17     435831.34        3916417.14      435831.34\n",
      "17  2025-01-18     461513.08        4377930.22      461513.08\n",
      "18  2025-01-19     487194.82        4865125.04      487194.82\n",
      "19  2025-01-20     512876.56        5378001.60      512876.56\n",
      "20  2025-01-21     538558.30        5916559.90      538558.30\n",
      "21  2025-01-22     564240.04        6480799.94      564240.04\n",
      "22  2025-01-23     589921.78        7070721.72      589921.78\n",
      "23  2025-01-24     615603.52        7686325.24      615603.52\n",
      "24  2025-01-25     641285.26        8327610.50      641285.26\n",
      "25  2025-01-26     666967.00        8994577.50      666967.00\n",
      "26  2025-01-27     692648.74        9687226.24      692648.74\n",
      "27  2025-01-28     718330.48       10405556.72      718330.48\n",
      "28  2025-01-29     744012.22       11149568.94      744012.22\n"
     ]
    }
   ],
   "source": [
    "# Assign sales to sales_1_1\n",
    "sales_1_1 = sales.copy()\n",
    "\n",
    "# Sort sales_1_1 by date\n",
    "sales_1_1 = sales_1_1.sort_values(\"date\")\n",
    "\n",
    "# Get the cumulative sum of weekly_sales, add as cum_weekly_sales col\n",
    "sales_1_1[\"cum_weekly_sales\"] = sales_1_1[\"weekly_sales\"].cumsum()\n",
    "\n",
    "# Get the cumulative max of weekly_sales, add as cum_max_sales col\n",
    "sales_1_1[\"cum_max_sales\"] = sales_1_1[\"weekly_sales\"].cummax()\n",
    "\n",
    "# See the columns you calculated\n",
    "print(sales_1_1[[\"date\", \"weekly_sales\", \"cum_weekly_sales\", \"cum_max_sales\"]])"
   ]
  }
 ],
 "metadata": {
  "kernelspec": {
   "display_name": "Python 3",
   "language": "python",
   "name": "python3"
  },
  "language_info": {
   "codemirror_mode": {
    "name": "ipython",
    "version": 3
   },
   "file_extension": ".py",
   "mimetype": "text/x-python",
   "name": "python",
   "nbconvert_exporter": "python",
   "pygments_lexer": "ipython3",
   "version": "3.11.9"
  }
 },
 "nbformat": 4,
 "nbformat_minor": 5
}
