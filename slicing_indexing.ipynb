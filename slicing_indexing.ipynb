{
 "cells": [
  {
   "cell_type": "code",
   "execution_count": 2,
   "id": "b09e7879",
   "metadata": {},
   "outputs": [],
   "source": [
    "import pandas as pd\n",
    "import numpy as np\n",
    "import matplotlib.pyplot as plt"
   ]
  },
  {
   "cell_type": "code",
   "execution_count": 5,
   "id": "020468a5",
   "metadata": {},
   "outputs": [
    {
     "data": {
      "application/vnd.microsoft.datawrangler.viewer.v0+json": {
       "columns": [
        {
         "name": "index",
         "rawType": "int64",
         "type": "integer"
        },
        {
         "name": "date",
         "rawType": "object",
         "type": "string"
        },
        {
         "name": "city",
         "rawType": "object",
         "type": "string"
        },
        {
         "name": "country",
         "rawType": "object",
         "type": "string"
        },
        {
         "name": "avg_temp_c",
         "rawType": "float64",
         "type": "float"
        }
       ],
       "conversionMethod": "pd.DataFrame",
       "ref": "2b85f653-fd52-4cab-b285-26f0d802df76",
       "rows": [
        [
         "0",
         "2000-01-01",
         "London",
         "UK",
         "12.074"
        ],
        [
         "1",
         "2000-01-31",
         "New York",
         "USA",
         "-0.714"
        ],
        [
         "2",
         "2000-03-01",
         "London",
         "UK",
         "7.986"
        ],
        [
         "3",
         "2000-03-31",
         "Xian",
         "China",
         "7.115"
        ],
        [
         "4",
         "2000-04-30",
         "Tokyo",
         "Japan",
         "29.439"
        ],
        [
         "5",
         "2000-05-30",
         "London",
         "UK",
         "33.244"
        ],
        [
         "6",
         "2000-06-29",
         "Tokyo",
         "Japan",
         "16.101"
        ],
        [
         "7",
         "2000-07-29",
         "London",
         "UK",
         "17.115"
        ],
        [
         "8",
         "2000-08-28",
         "Xian",
         "China",
         "16.472"
        ],
        [
         "9",
         "2000-09-27",
         "London",
         "UK",
         "28.361"
        ],
        [
         "10",
         "2000-10-27",
         "London",
         "UK",
         "24.162"
        ],
        [
         "11",
         "2000-11-26",
         "Xian",
         "China",
         "3.282"
        ],
        [
         "12",
         "2000-12-26",
         "Delhi",
         "India",
         "29.854"
        ],
        [
         "13",
         "2001-01-25",
         "New York",
         "USA",
         "16.822"
        ],
        [
         "14",
         "2001-02-24",
         "Delhi",
         "India",
         "6.622"
        ],
        [
         "15",
         "2001-03-26",
         "Delhi",
         "India",
         "5.983"
        ],
        [
         "16",
         "2001-04-25",
         "New York",
         "USA",
         "21.406"
        ],
        [
         "17",
         "2001-05-25",
         "Xian",
         "China",
         "-4.215"
        ],
        [
         "18",
         "2001-06-24",
         "Delhi",
         "India",
         "3.798"
        ],
        [
         "19",
         "2001-07-24",
         "New York",
         "USA",
         "-2.658"
        ],
        [
         "20",
         "2001-08-23",
         "Abidjan",
         "Côte D'Ivoire",
         "-3.333"
        ],
        [
         "21",
         "2001-09-22",
         "Delhi",
         "India",
         "1.444"
        ],
        [
         "22",
         "2001-10-22",
         "London",
         "UK",
         "12.903"
        ],
        [
         "23",
         "2001-11-21",
         "Abidjan",
         "Côte D'Ivoire",
         "27.603"
        ],
        [
         "24",
         "2001-12-21",
         "New York",
         "USA",
         "9.716"
        ],
        [
         "25",
         "2002-01-20",
         "Tokyo",
         "Japan",
         "27.14"
        ],
        [
         "26",
         "2002-02-19",
         "Tokyo",
         "Japan",
         "10.179"
        ],
        [
         "27",
         "2002-03-21",
         "Delhi",
         "India",
         "19.479"
        ],
        [
         "28",
         "2002-04-20",
         "London",
         "UK",
         "3.982"
        ],
        [
         "29",
         "2002-05-20",
         "London",
         "UK",
         "8.844"
        ],
        [
         "30",
         "2002-06-19",
         "Abidjan",
         "Côte D'Ivoire",
         "-2.61"
        ],
        [
         "31",
         "2002-07-19",
         "New York",
         "USA",
         "24.969"
        ],
        [
         "32",
         "2002-08-18",
         "London",
         "UK",
         "9.165"
        ],
        [
         "33",
         "2002-09-17",
         "London",
         "UK",
         "30.989"
        ],
        [
         "34",
         "2002-10-17",
         "New York",
         "USA",
         "27.317"
        ],
        [
         "35",
         "2002-11-16",
         "Xian",
         "China",
         "24.868"
        ],
        [
         "36",
         "2002-12-16",
         "London",
         "UK",
         "5.58"
        ],
        [
         "37",
         "2003-01-15",
         "New York",
         "USA",
         "2.885"
        ],
        [
         "38",
         "2003-02-14",
         "Xian",
         "China",
         "1.28"
        ],
        [
         "39",
         "2003-03-16",
         "London",
         "UK",
         "7.384"
        ],
        [
         "40",
         "2003-04-15",
         "Tokyo",
         "Japan",
         "-4.001"
        ],
        [
         "41",
         "2003-05-15",
         "London",
         "UK",
         "18.696"
        ],
        [
         "42",
         "2003-06-14",
         "London",
         "UK",
         "10.702"
        ],
        [
         "43",
         "2003-07-14",
         "Tokyo",
         "Japan",
         "31.048"
        ],
        [
         "44",
         "2003-08-13",
         "Tokyo",
         "Japan",
         "-3.196"
        ],
        [
         "45",
         "2003-09-12",
         "Abidjan",
         "Côte D'Ivoire",
         "13.215"
        ],
        [
         "46",
         "2003-10-12",
         "London",
         "UK",
         "20.469"
        ],
        [
         "47",
         "2003-11-11",
         "Xian",
         "China",
         "8.821"
        ],
        [
         "48",
         "2003-12-11",
         "Xian",
         "China",
         "19.503"
        ],
        [
         "49",
         "2004-01-10",
         "London",
         "UK",
         "5.469"
        ]
       ],
       "shape": {
        "columns": 4,
        "rows": 300
       }
      },
      "text/html": [
       "<div>\n",
       "<style scoped>\n",
       "    .dataframe tbody tr th:only-of-type {\n",
       "        vertical-align: middle;\n",
       "    }\n",
       "\n",
       "    .dataframe tbody tr th {\n",
       "        vertical-align: top;\n",
       "    }\n",
       "\n",
       "    .dataframe thead th {\n",
       "        text-align: right;\n",
       "    }\n",
       "</style>\n",
       "<table border=\"1\" class=\"dataframe\">\n",
       "  <thead>\n",
       "    <tr style=\"text-align: right;\">\n",
       "      <th></th>\n",
       "      <th>date</th>\n",
       "      <th>city</th>\n",
       "      <th>country</th>\n",
       "      <th>avg_temp_c</th>\n",
       "    </tr>\n",
       "  </thead>\n",
       "  <tbody>\n",
       "    <tr>\n",
       "      <th>0</th>\n",
       "      <td>2000-01-01</td>\n",
       "      <td>London</td>\n",
       "      <td>UK</td>\n",
       "      <td>12.074</td>\n",
       "    </tr>\n",
       "    <tr>\n",
       "      <th>1</th>\n",
       "      <td>2000-01-31</td>\n",
       "      <td>New York</td>\n",
       "      <td>USA</td>\n",
       "      <td>-0.714</td>\n",
       "    </tr>\n",
       "    <tr>\n",
       "      <th>2</th>\n",
       "      <td>2000-03-01</td>\n",
       "      <td>London</td>\n",
       "      <td>UK</td>\n",
       "      <td>7.986</td>\n",
       "    </tr>\n",
       "    <tr>\n",
       "      <th>3</th>\n",
       "      <td>2000-03-31</td>\n",
       "      <td>Xian</td>\n",
       "      <td>China</td>\n",
       "      <td>7.115</td>\n",
       "    </tr>\n",
       "    <tr>\n",
       "      <th>4</th>\n",
       "      <td>2000-04-30</td>\n",
       "      <td>Tokyo</td>\n",
       "      <td>Japan</td>\n",
       "      <td>29.439</td>\n",
       "    </tr>\n",
       "    <tr>\n",
       "      <th>...</th>\n",
       "      <td>...</td>\n",
       "      <td>...</td>\n",
       "      <td>...</td>\n",
       "      <td>...</td>\n",
       "    </tr>\n",
       "    <tr>\n",
       "      <th>295</th>\n",
       "      <td>2024-03-25</td>\n",
       "      <td>London</td>\n",
       "      <td>UK</td>\n",
       "      <td>10.597</td>\n",
       "    </tr>\n",
       "    <tr>\n",
       "      <th>296</th>\n",
       "      <td>2024-04-24</td>\n",
       "      <td>Abidjan</td>\n",
       "      <td>Côte D'Ivoire</td>\n",
       "      <td>17.050</td>\n",
       "    </tr>\n",
       "    <tr>\n",
       "      <th>297</th>\n",
       "      <td>2024-05-24</td>\n",
       "      <td>Tokyo</td>\n",
       "      <td>Japan</td>\n",
       "      <td>32.287</td>\n",
       "    </tr>\n",
       "    <tr>\n",
       "      <th>298</th>\n",
       "      <td>2024-06-23</td>\n",
       "      <td>Abidjan</td>\n",
       "      <td>Côte D'Ivoire</td>\n",
       "      <td>32.983</td>\n",
       "    </tr>\n",
       "    <tr>\n",
       "      <th>299</th>\n",
       "      <td>2024-07-23</td>\n",
       "      <td>Tokyo</td>\n",
       "      <td>Japan</td>\n",
       "      <td>17.669</td>\n",
       "    </tr>\n",
       "  </tbody>\n",
       "</table>\n",
       "<p>300 rows × 4 columns</p>\n",
       "</div>"
      ],
      "text/plain": [
       "           date      city        country  avg_temp_c\n",
       "0    2000-01-01    London             UK      12.074\n",
       "1    2000-01-31  New York            USA      -0.714\n",
       "2    2000-03-01    London             UK       7.986\n",
       "3    2000-03-31      Xian          China       7.115\n",
       "4    2000-04-30     Tokyo          Japan      29.439\n",
       "..          ...       ...            ...         ...\n",
       "295  2024-03-25    London             UK      10.597\n",
       "296  2024-04-24   Abidjan  Côte D'Ivoire      17.050\n",
       "297  2024-05-24     Tokyo          Japan      32.287\n",
       "298  2024-06-23   Abidjan  Côte D'Ivoire      32.983\n",
       "299  2024-07-23     Tokyo          Japan      17.669\n",
       "\n",
       "[300 rows x 4 columns]"
      ]
     },
     "execution_count": 5,
     "metadata": {},
     "output_type": "execute_result"
    }
   ],
   "source": [
    "tempretures = pd.read_csv(r'E:\\Notebook\\single_temperature_dataset.csv')\n",
    "tempretures"
   ]
  },
  {
   "cell_type": "code",
   "execution_count": 7,
   "id": "a097e158",
   "metadata": {},
   "outputs": [
    {
     "name": "stdout",
     "output_type": "stream",
     "text": [
      "                date        country  avg_temp_c\n",
      "city                                           \n",
      "London    2000-01-01             UK      12.074\n",
      "New York  2000-01-31            USA      -0.714\n",
      "London    2000-03-01             UK       7.986\n",
      "Xian      2000-03-31          China       7.115\n",
      "Tokyo     2000-04-30          Japan      29.439\n",
      "...              ...            ...         ...\n",
      "London    2024-03-25             UK      10.597\n",
      "Abidjan   2024-04-24  Côte D'Ivoire      17.050\n",
      "Tokyo     2024-05-24          Japan      32.287\n",
      "Abidjan   2024-06-23  Côte D'Ivoire      32.983\n",
      "Tokyo     2024-07-23          Japan      17.669\n",
      "\n",
      "[300 rows x 3 columns]\n",
      "         city        date        country  avg_temp_c\n",
      "0      London  2000-01-01             UK      12.074\n",
      "1    New York  2000-01-31            USA      -0.714\n",
      "2      London  2000-03-01             UK       7.986\n",
      "3        Xian  2000-03-31          China       7.115\n",
      "4       Tokyo  2000-04-30          Japan      29.439\n",
      "..        ...         ...            ...         ...\n",
      "295    London  2024-03-25             UK      10.597\n",
      "296   Abidjan  2024-04-24  Côte D'Ivoire      17.050\n",
      "297     Tokyo  2024-05-24          Japan      32.287\n",
      "298   Abidjan  2024-06-23  Côte D'Ivoire      32.983\n",
      "299     Tokyo  2024-07-23          Japan      17.669\n",
      "\n",
      "[300 rows x 4 columns]\n",
      "           date        country  avg_temp_c\n",
      "0    2000-01-01             UK      12.074\n",
      "1    2000-01-31            USA      -0.714\n",
      "2    2000-03-01             UK       7.986\n",
      "3    2000-03-31          China       7.115\n",
      "4    2000-04-30          Japan      29.439\n",
      "..          ...            ...         ...\n",
      "295  2024-03-25             UK      10.597\n",
      "296  2024-04-24  Côte D'Ivoire      17.050\n",
      "297  2024-05-24          Japan      32.287\n",
      "298  2024-06-23  Côte D'Ivoire      32.983\n",
      "299  2024-07-23          Japan      17.669\n",
      "\n",
      "[300 rows x 3 columns]\n"
     ]
    }
   ],
   "source": [
    "# Set the index of tempretures to city\n",
    "temperatures_ind = tempretures.set_index(\"city\")\n",
    "\n",
    "# Look at temperatures_ind\n",
    "print(temperatures_ind)\n",
    "\n",
    "# Reset the temperatures_ind index, keeping its contents\n",
    "print(temperatures_ind.reset_index())\n",
    "\n",
    "# Reset the temperatures_ind index, dropping its contents\n",
    "print(temperatures_ind.reset_index(drop = True))"
   ]
  }
 ],
 "metadata": {
  "kernelspec": {
   "display_name": "Python 3",
   "language": "python",
   "name": "python3"
  },
  "language_info": {
   "codemirror_mode": {
    "name": "ipython",
    "version": 3
   },
   "file_extension": ".py",
   "mimetype": "text/x-python",
   "name": "python",
   "nbconvert_exporter": "python",
   "pygments_lexer": "ipython3",
   "version": "3.11.9"
  }
 },
 "nbformat": 4,
 "nbformat_minor": 5
}
