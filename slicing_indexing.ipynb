{
 "cells": [
  {
   "cell_type": "code",
   "execution_count": 2,
   "id": "b09e7879",
   "metadata": {},
   "outputs": [],
   "source": [
    "import pandas as pd\n",
    "import numpy as np\n",
    "import matplotlib.pyplot as plt"
   ]
  },
  {
   "cell_type": "code",
   "execution_count": 9,
   "id": "020468a5",
   "metadata": {},
   "outputs": [
    {
     "data": {
      "application/vnd.microsoft.datawrangler.viewer.v0+json": {
       "columns": [
        {
         "name": "index",
         "rawType": "int64",
         "type": "integer"
        },
        {
         "name": "date",
         "rawType": "object",
         "type": "string"
        },
        {
         "name": "city",
         "rawType": "object",
         "type": "string"
        },
        {
         "name": "country",
         "rawType": "object",
         "type": "string"
        },
        {
         "name": "avg_temp_c",
         "rawType": "float64",
         "type": "float"
        }
       ],
       "conversionMethod": "pd.DataFrame",
       "ref": "ea730f96-c275-4722-8912-03c841dfd917",
       "rows": [
        [
         "0",
         "2000-01-01",
         "London",
         "UK",
         "12.074"
        ],
        [
         "1",
         "2000-01-31",
         "New York",
         "USA",
         "-0.714"
        ],
        [
         "2",
         "2000-03-01",
         "London",
         "UK",
         "7.986"
        ],
        [
         "3",
         "2000-03-31",
         "Xian",
         "China",
         "7.115"
        ],
        [
         "4",
         "2000-04-30",
         "Tokyo",
         "Japan",
         "29.439"
        ],
        [
         "5",
         "2000-05-30",
         "London",
         "UK",
         "33.244"
        ],
        [
         "6",
         "2000-06-29",
         "Tokyo",
         "Japan",
         "16.101"
        ],
        [
         "7",
         "2000-07-29",
         "London",
         "UK",
         "17.115"
        ],
        [
         "8",
         "2000-08-28",
         "Xian",
         "China",
         "16.472"
        ],
        [
         "9",
         "2000-09-27",
         "London",
         "UK",
         "28.361"
        ],
        [
         "10",
         "2000-10-27",
         "London",
         "UK",
         "24.162"
        ],
        [
         "11",
         "2000-11-26",
         "Xian",
         "China",
         "3.282"
        ],
        [
         "12",
         "2000-12-26",
         "Delhi",
         "India",
         "29.854"
        ],
        [
         "13",
         "2001-01-25",
         "New York",
         "USA",
         "16.822"
        ],
        [
         "14",
         "2001-02-24",
         "Delhi",
         "India",
         "6.622"
        ],
        [
         "15",
         "2001-03-26",
         "Delhi",
         "India",
         "5.983"
        ],
        [
         "16",
         "2001-04-25",
         "New York",
         "USA",
         "21.406"
        ],
        [
         "17",
         "2001-05-25",
         "Xian",
         "China",
         "-4.215"
        ],
        [
         "18",
         "2001-06-24",
         "Delhi",
         "India",
         "3.798"
        ],
        [
         "19",
         "2001-07-24",
         "New York",
         "USA",
         "-2.658"
        ],
        [
         "20",
         "2001-08-23",
         "Abidjan",
         "Côte D'Ivoire",
         "-3.333"
        ],
        [
         "21",
         "2001-09-22",
         "Delhi",
         "India",
         "1.444"
        ],
        [
         "22",
         "2001-10-22",
         "London",
         "UK",
         "12.903"
        ],
        [
         "23",
         "2001-11-21",
         "Abidjan",
         "Côte D'Ivoire",
         "27.603"
        ],
        [
         "24",
         "2001-12-21",
         "New York",
         "USA",
         "9.716"
        ],
        [
         "25",
         "2002-01-20",
         "Tokyo",
         "Japan",
         "27.14"
        ],
        [
         "26",
         "2002-02-19",
         "Tokyo",
         "Japan",
         "10.179"
        ],
        [
         "27",
         "2002-03-21",
         "Delhi",
         "India",
         "19.479"
        ],
        [
         "28",
         "2002-04-20",
         "London",
         "UK",
         "3.982"
        ],
        [
         "29",
         "2002-05-20",
         "London",
         "UK",
         "8.844"
        ],
        [
         "30",
         "2002-06-19",
         "Abidjan",
         "Côte D'Ivoire",
         "-2.61"
        ],
        [
         "31",
         "2002-07-19",
         "New York",
         "USA",
         "24.969"
        ],
        [
         "32",
         "2002-08-18",
         "London",
         "UK",
         "9.165"
        ],
        [
         "33",
         "2002-09-17",
         "London",
         "UK",
         "30.989"
        ],
        [
         "34",
         "2002-10-17",
         "New York",
         "USA",
         "27.317"
        ],
        [
         "35",
         "2002-11-16",
         "Xian",
         "China",
         "24.868"
        ],
        [
         "36",
         "2002-12-16",
         "London",
         "UK",
         "5.58"
        ],
        [
         "37",
         "2003-01-15",
         "New York",
         "USA",
         "2.885"
        ],
        [
         "38",
         "2003-02-14",
         "Xian",
         "China",
         "1.28"
        ],
        [
         "39",
         "2003-03-16",
         "London",
         "UK",
         "7.384"
        ],
        [
         "40",
         "2003-04-15",
         "Tokyo",
         "Japan",
         "-4.001"
        ],
        [
         "41",
         "2003-05-15",
         "London",
         "UK",
         "18.696"
        ],
        [
         "42",
         "2003-06-14",
         "London",
         "UK",
         "10.702"
        ],
        [
         "43",
         "2003-07-14",
         "Tokyo",
         "Japan",
         "31.048"
        ],
        [
         "44",
         "2003-08-13",
         "Tokyo",
         "Japan",
         "-3.196"
        ],
        [
         "45",
         "2003-09-12",
         "Abidjan",
         "Côte D'Ivoire",
         "13.215"
        ],
        [
         "46",
         "2003-10-12",
         "London",
         "UK",
         "20.469"
        ],
        [
         "47",
         "2003-11-11",
         "Xian",
         "China",
         "8.821"
        ],
        [
         "48",
         "2003-12-11",
         "Xian",
         "China",
         "19.503"
        ],
        [
         "49",
         "2004-01-10",
         "London",
         "UK",
         "5.469"
        ]
       ],
       "shape": {
        "columns": 4,
        "rows": 300
       }
      },
      "text/html": [
       "<div>\n",
       "<style scoped>\n",
       "    .dataframe tbody tr th:only-of-type {\n",
       "        vertical-align: middle;\n",
       "    }\n",
       "\n",
       "    .dataframe tbody tr th {\n",
       "        vertical-align: top;\n",
       "    }\n",
       "\n",
       "    .dataframe thead th {\n",
       "        text-align: right;\n",
       "    }\n",
       "</style>\n",
       "<table border=\"1\" class=\"dataframe\">\n",
       "  <thead>\n",
       "    <tr style=\"text-align: right;\">\n",
       "      <th></th>\n",
       "      <th>date</th>\n",
       "      <th>city</th>\n",
       "      <th>country</th>\n",
       "      <th>avg_temp_c</th>\n",
       "    </tr>\n",
       "  </thead>\n",
       "  <tbody>\n",
       "    <tr>\n",
       "      <th>0</th>\n",
       "      <td>2000-01-01</td>\n",
       "      <td>London</td>\n",
       "      <td>UK</td>\n",
       "      <td>12.074</td>\n",
       "    </tr>\n",
       "    <tr>\n",
       "      <th>1</th>\n",
       "      <td>2000-01-31</td>\n",
       "      <td>New York</td>\n",
       "      <td>USA</td>\n",
       "      <td>-0.714</td>\n",
       "    </tr>\n",
       "    <tr>\n",
       "      <th>2</th>\n",
       "      <td>2000-03-01</td>\n",
       "      <td>London</td>\n",
       "      <td>UK</td>\n",
       "      <td>7.986</td>\n",
       "    </tr>\n",
       "    <tr>\n",
       "      <th>3</th>\n",
       "      <td>2000-03-31</td>\n",
       "      <td>Xian</td>\n",
       "      <td>China</td>\n",
       "      <td>7.115</td>\n",
       "    </tr>\n",
       "    <tr>\n",
       "      <th>4</th>\n",
       "      <td>2000-04-30</td>\n",
       "      <td>Tokyo</td>\n",
       "      <td>Japan</td>\n",
       "      <td>29.439</td>\n",
       "    </tr>\n",
       "    <tr>\n",
       "      <th>...</th>\n",
       "      <td>...</td>\n",
       "      <td>...</td>\n",
       "      <td>...</td>\n",
       "      <td>...</td>\n",
       "    </tr>\n",
       "    <tr>\n",
       "      <th>295</th>\n",
       "      <td>2024-03-25</td>\n",
       "      <td>London</td>\n",
       "      <td>UK</td>\n",
       "      <td>10.597</td>\n",
       "    </tr>\n",
       "    <tr>\n",
       "      <th>296</th>\n",
       "      <td>2024-04-24</td>\n",
       "      <td>Abidjan</td>\n",
       "      <td>Côte D'Ivoire</td>\n",
       "      <td>17.050</td>\n",
       "    </tr>\n",
       "    <tr>\n",
       "      <th>297</th>\n",
       "      <td>2024-05-24</td>\n",
       "      <td>Tokyo</td>\n",
       "      <td>Japan</td>\n",
       "      <td>32.287</td>\n",
       "    </tr>\n",
       "    <tr>\n",
       "      <th>298</th>\n",
       "      <td>2024-06-23</td>\n",
       "      <td>Abidjan</td>\n",
       "      <td>Côte D'Ivoire</td>\n",
       "      <td>32.983</td>\n",
       "    </tr>\n",
       "    <tr>\n",
       "      <th>299</th>\n",
       "      <td>2024-07-23</td>\n",
       "      <td>Tokyo</td>\n",
       "      <td>Japan</td>\n",
       "      <td>17.669</td>\n",
       "    </tr>\n",
       "  </tbody>\n",
       "</table>\n",
       "<p>300 rows × 4 columns</p>\n",
       "</div>"
      ],
      "text/plain": [
       "           date      city        country  avg_temp_c\n",
       "0    2000-01-01    London             UK      12.074\n",
       "1    2000-01-31  New York            USA      -0.714\n",
       "2    2000-03-01    London             UK       7.986\n",
       "3    2000-03-31      Xian          China       7.115\n",
       "4    2000-04-30     Tokyo          Japan      29.439\n",
       "..          ...       ...            ...         ...\n",
       "295  2024-03-25    London             UK      10.597\n",
       "296  2024-04-24   Abidjan  Côte D'Ivoire      17.050\n",
       "297  2024-05-24     Tokyo          Japan      32.287\n",
       "298  2024-06-23   Abidjan  Côte D'Ivoire      32.983\n",
       "299  2024-07-23     Tokyo          Japan      17.669\n",
       "\n",
       "[300 rows x 4 columns]"
      ]
     },
     "execution_count": 9,
     "metadata": {},
     "output_type": "execute_result"
    }
   ],
   "source": [
    "temperatures = pd.read_csv(r'E:\\Notebook\\single_temperature_dataset.csv')\n",
    "temperatures"
   ]
  },
  {
   "cell_type": "code",
   "execution_count": 13,
   "id": "a097e158",
   "metadata": {},
   "outputs": [
    {
     "name": "stdout",
     "output_type": "stream",
     "text": [
      "                date        country  avg_temp_c\n",
      "city                                           \n",
      "London    2000-01-01             UK      12.074\n",
      "New York  2000-01-31            USA      -0.714\n",
      "London    2000-03-01             UK       7.986\n",
      "Xian      2000-03-31          China       7.115\n",
      "Tokyo     2000-04-30          Japan      29.439\n",
      "...              ...            ...         ...\n",
      "London    2024-03-25             UK      10.597\n",
      "Abidjan   2024-04-24  Côte D'Ivoire      17.050\n",
      "Tokyo     2024-05-24          Japan      32.287\n",
      "Abidjan   2024-06-23  Côte D'Ivoire      32.983\n",
      "Tokyo     2024-07-23          Japan      17.669\n",
      "\n",
      "[300 rows x 3 columns]\n",
      "         city        date        country  avg_temp_c\n",
      "0      London  2000-01-01             UK      12.074\n",
      "1    New York  2000-01-31            USA      -0.714\n",
      "2      London  2000-03-01             UK       7.986\n",
      "3        Xian  2000-03-31          China       7.115\n",
      "4       Tokyo  2000-04-30          Japan      29.439\n",
      "..        ...         ...            ...         ...\n",
      "295    London  2024-03-25             UK      10.597\n",
      "296   Abidjan  2024-04-24  Côte D'Ivoire      17.050\n",
      "297     Tokyo  2024-05-24          Japan      32.287\n",
      "298   Abidjan  2024-06-23  Côte D'Ivoire      32.983\n",
      "299     Tokyo  2024-07-23          Japan      17.669\n",
      "\n",
      "[300 rows x 4 columns]\n",
      "           date        country  avg_temp_c\n",
      "0    2000-01-01             UK      12.074\n",
      "1    2000-01-31            USA      -0.714\n",
      "2    2000-03-01             UK       7.986\n",
      "3    2000-03-31          China       7.115\n",
      "4    2000-04-30          Japan      29.439\n",
      "..          ...            ...         ...\n",
      "295  2024-03-25             UK      10.597\n",
      "296  2024-04-24  Côte D'Ivoire      17.050\n",
      "297  2024-05-24          Japan      32.287\n",
      "298  2024-06-23  Côte D'Ivoire      32.983\n",
      "299  2024-07-23          Japan      17.669\n",
      "\n",
      "[300 rows x 3 columns]\n"
     ]
    }
   ],
   "source": [
    "# Set the index of tempretures to city\n",
    "temperatures_ind = temperatures.set_index(\"city\")\n",
    "\n",
    "# Look at temperatures_ind\n",
    "print(temperatures_ind)\n",
    "\n",
    "# Reset the temperatures_ind index, keeping its contents\n",
    "print(temperatures_ind.reset_index())\n",
    "\n",
    "# Reset the temperatures_ind index, dropping its contents\n",
    "print(temperatures_ind.reset_index(drop = True))"
   ]
  },
  {
   "cell_type": "code",
   "execution_count": 17,
   "id": "383c33d1",
   "metadata": {},
   "outputs": [
    {
     "name": "stdout",
     "output_type": "stream",
     "text": [
      "           date      city country  avg_temp_c\n",
      "0    2000-01-01    London      UK      12.074\n",
      "1    2000-01-31  New York     USA      -0.714\n",
      "2    2000-03-01    London      UK       7.986\n",
      "4    2000-04-30     Tokyo   Japan      29.439\n",
      "5    2000-05-30    London      UK      33.244\n",
      "..          ...       ...     ...         ...\n",
      "293  2024-01-25     Tokyo   Japan      17.854\n",
      "294  2024-02-24  New York     USA      18.866\n",
      "295  2024-03-25    London      UK      10.597\n",
      "297  2024-05-24     Tokyo   Japan      32.287\n",
      "299  2024-07-23     Tokyo   Japan      17.669\n",
      "\n",
      "[160 rows x 4 columns]\n",
      "                date country  avg_temp_c\n",
      "city                                    \n",
      "London    2000-01-01      UK      12.074\n",
      "London    2000-03-01      UK       7.986\n",
      "London    2000-05-30      UK      33.244\n",
      "London    2000-07-29      UK      17.115\n",
      "London    2000-09-27      UK      28.361\n",
      "...              ...     ...         ...\n",
      "New York  2022-06-04     USA       9.598\n",
      "New York  2022-12-31     USA      10.916\n",
      "New York  2023-03-31     USA      22.361\n",
      "New York  2023-12-26     USA      23.426\n",
      "New York  2024-02-24     USA      18.866\n",
      "\n",
      "[160 rows x 3 columns]\n"
     ]
    }
   ],
   "source": [
    "# Make a list of cities to subset on\n",
    "cities = [\"London\", \"Tokyo\", \"New York\"]\n",
    "\n",
    "# Subset temperatures using square brackets\n",
    "print(temperatures[temperatures[\"city\"].isin(cities)])\n",
    "\n",
    "# Subset temperatures_ind using .loc[]\n",
    "print(temperatures_ind.loc[cities])"
   ]
  },
  {
   "cell_type": "code",
   "execution_count": 18,
   "id": "5e9f3a7f",
   "metadata": {},
   "outputs": [
    {
     "name": "stdout",
     "output_type": "stream",
     "text": [
      "                        date  avg_temp_c\n",
      "country city                            \n",
      "UK      London    2000-01-01      12.074\n",
      "        London    2000-03-01       7.986\n",
      "        London    2000-05-30      33.244\n",
      "        London    2000-07-29      17.115\n",
      "        London    2000-09-27      28.361\n",
      "...                      ...         ...\n",
      "USA     New York  2022-06-04       9.598\n",
      "        New York  2022-12-31      10.916\n",
      "        New York  2023-03-31      22.361\n",
      "        New York  2023-12-26      23.426\n",
      "        New York  2024-02-24      18.866\n",
      "\n",
      "[108 rows x 2 columns]\n"
     ]
    }
   ],
   "source": [
    "# Index temperatures by country & city\n",
    "temperatures_ind = temperatures.set_index([\"country\",\"city\"])\n",
    "\n",
    "# List of tuples: Brazil, Rio De Janeiro & Pakistan, Lahore\n",
    "rows_to_keep = [(\"UK\",\"London\"),(\"USA\",\"New York\")]\n",
    "\n",
    "# Subset for rows to keep\n",
    "print(temperatures_ind.loc[rows_to_keep])"
   ]
  },
  {
   "cell_type": "code",
   "execution_count": 19,
   "id": "82b12b1a",
   "metadata": {},
   "outputs": [
    {
     "name": "stdout",
     "output_type": "stream",
     "text": [
      "                        date  avg_temp_c\n",
      "country city                            \n",
      "China   Xian      2000-03-31       7.115\n",
      "        Xian      2000-08-28      16.472\n",
      "        Xian      2000-11-26       3.282\n",
      "        Xian      2001-05-25      -4.215\n",
      "        Xian      2002-11-16      24.868\n",
      "...                      ...         ...\n",
      "USA     New York  2022-06-04       9.598\n",
      "        New York  2022-12-31      10.916\n",
      "        New York  2023-03-31      22.361\n",
      "        New York  2023-12-26      23.426\n",
      "        New York  2024-02-24      18.866\n",
      "\n",
      "[300 rows x 2 columns]\n",
      "                             date  avg_temp_c\n",
      "country       city                           \n",
      "Côte D'Ivoire Abidjan  2001-08-23      -3.333\n",
      "              Abidjan  2001-11-21      27.603\n",
      "              Abidjan  2002-06-19      -2.610\n",
      "              Abidjan  2003-09-12      13.215\n",
      "              Abidjan  2004-04-09      26.105\n",
      "...                           ...         ...\n",
      "China         Xian     2021-10-07      22.031\n",
      "              Xian     2022-02-04       2.756\n",
      "              Xian     2022-07-04      -3.097\n",
      "              Xian     2022-08-03      -2.865\n",
      "              Xian     2023-11-26      14.515\n",
      "\n",
      "[300 rows x 2 columns]\n",
      "                        date  avg_temp_c\n",
      "country city                            \n",
      "China   Xian      2000-03-31       7.115\n",
      "        Xian      2000-08-28      16.472\n",
      "        Xian      2000-11-26       3.282\n",
      "        Xian      2001-05-25      -4.215\n",
      "        Xian      2002-11-16      24.868\n",
      "...                      ...         ...\n",
      "USA     New York  2022-06-04       9.598\n",
      "        New York  2022-12-31      10.916\n",
      "        New York  2023-03-31      22.361\n",
      "        New York  2023-12-26      23.426\n",
      "        New York  2024-02-24      18.866\n",
      "\n",
      "[300 rows x 2 columns]\n"
     ]
    }
   ],
   "source": [
    "# Sort temperatures_ind by index values\n",
    "print(temperatures_ind.sort_index())\n",
    "\n",
    "# Sort temperatures_ind by index values at the city level\n",
    "print(temperatures_ind.sort_index(level = ['city']))\n",
    "\n",
    "# Sort temperatures_ind by country then descending city\n",
    "print(temperatures_ind.sort_index(level = ['country','city'],ascending=[True,False]))"
   ]
  },
  {
   "cell_type": "code",
   "execution_count": 20,
   "id": "90627590",
   "metadata": {},
   "outputs": [
    {
     "name": "stdout",
     "output_type": "stream",
     "text": [
      "                        date  avg_temp_c\n",
      "country city                            \n",
      "UK      London    2000-01-01      12.074\n",
      "        London    2000-03-01       7.986\n",
      "        London    2000-05-30      33.244\n",
      "        London    2000-07-29      17.115\n",
      "        London    2000-09-27      28.361\n",
      "...                      ...         ...\n",
      "USA     New York  2022-06-04       9.598\n",
      "        New York  2022-12-31      10.916\n",
      "        New York  2023-03-31      22.361\n",
      "        New York  2023-12-26      23.426\n",
      "        New York  2024-02-24      18.866\n",
      "\n",
      "[108 rows x 2 columns]\n",
      "Empty DataFrame\n",
      "Columns: [date, avg_temp_c]\n",
      "Index: []\n",
      "                        date  avg_temp_c\n",
      "country city                            \n",
      "UK      London    2000-01-01      12.074\n",
      "        London    2000-03-01       7.986\n",
      "        London    2000-05-30      33.244\n",
      "        London    2000-07-29      17.115\n",
      "        London    2000-09-27      28.361\n",
      "...                      ...         ...\n",
      "USA     New York  2022-06-04       9.598\n",
      "        New York  2022-12-31      10.916\n",
      "        New York  2023-03-31      22.361\n",
      "        New York  2023-12-26      23.426\n",
      "        New York  2024-02-24      18.866\n",
      "\n",
      "[108 rows x 2 columns]\n"
     ]
    }
   ],
   "source": [
    "# Sort the index of temperatures_ind\n",
    "temperatures_srt = temperatures_ind.sort_index()\n",
    "\n",
    "# Subset rows from Pakistan to Russia\n",
    "print(temperatures_srt.loc[\"UK\":\"USA\"])\n",
    "\n",
    "# Try to subset rows from Lahore to Moscow\n",
    "print(temperatures_srt.loc[\"London\":\"New York\"])\n",
    "\n",
    "# Subset rows from Pakistan, Lahore to Russia, Moscow\n",
    "print(temperatures_srt.loc[(\"UK\",\"London\"):(\"USA\",\"New York\")])"
   ]
  },
  {
   "cell_type": "code",
   "execution_count": 22,
   "id": "745db3a8",
   "metadata": {},
   "outputs": [
    {
     "name": "stdout",
     "output_type": "stream",
     "text": [
      "                     date  avg_temp_c\n",
      "country city                         \n",
      "China   Xian   2000-03-31       7.115\n",
      "        Xian   2000-08-28      16.472\n",
      "        Xian   2000-11-26       3.282\n",
      "        Xian   2001-05-25      -4.215\n",
      "        Xian   2002-11-16      24.868\n",
      "...                   ...         ...\n",
      "Japan   Tokyo  2022-12-01      10.222\n",
      "        Tokyo  2023-09-27       5.030\n",
      "        Tokyo  2024-01-25      17.854\n",
      "        Tokyo  2024-05-24      32.287\n",
      "        Tokyo  2024-07-23      17.669\n",
      "\n",
      "[192 rows x 2 columns]\n",
      "                        date  avg_temp_c\n",
      "country city                            \n",
      "China   Xian      2000-03-31       7.115\n",
      "        Xian      2000-08-28      16.472\n",
      "        Xian      2000-11-26       3.282\n",
      "        Xian      2001-05-25      -4.215\n",
      "        Xian      2002-11-16      24.868\n",
      "...                      ...         ...\n",
      "USA     New York  2022-06-04       9.598\n",
      "        New York  2022-12-31      10.916\n",
      "        New York  2023-03-31      22.361\n",
      "        New York  2023-12-26      23.426\n",
      "        New York  2024-02-24      18.866\n",
      "\n",
      "[300 rows x 2 columns]\n",
      "                     date  avg_temp_c\n",
      "country city                         \n",
      "China   Xian   2000-03-31       7.115\n",
      "        Xian   2000-08-28      16.472\n",
      "        Xian   2000-11-26       3.282\n",
      "        Xian   2001-05-25      -4.215\n",
      "        Xian   2002-11-16      24.868\n",
      "...                   ...         ...\n",
      "Japan   Tokyo  2022-12-01      10.222\n",
      "        Tokyo  2023-09-27       5.030\n",
      "        Tokyo  2024-01-25      17.854\n",
      "        Tokyo  2024-05-24      32.287\n",
      "        Tokyo  2024-07-23      17.669\n",
      "\n",
      "[192 rows x 2 columns]\n"
     ]
    }
   ],
   "source": [
    "# Subset rows from India, Hyderabad to Iraq, Baghdad\n",
    "print(temperatures_srt.loc[('China','Xian'):('Japan','Tokyo')])\n",
    "\n",
    "# Subset columns from date to avg_temp_c\n",
    "print(temperatures_srt.loc[:,\"date\":\"avg_temp_c\"])\n",
    "\n",
    "# Subset in both directions at once\n",
    "print(temperatures_srt.loc[('China','Xian'):('Japan','Tokyo'),\"date\":\"avg_temp_c\"])"
   ]
  },
  {
   "cell_type": "code",
   "execution_count": 23,
   "id": "9366892e",
   "metadata": {},
   "outputs": [
    {
     "name": "stdout",
     "output_type": "stream",
     "text": [
      "           date      city        country  avg_temp_c\n",
      "122  2010-01-08  New York            USA      32.843\n",
      "123  2010-02-07    London             UK      13.410\n",
      "124  2010-03-09     Tokyo          Japan       2.554\n",
      "125  2010-04-08  New York            USA      20.041\n",
      "126  2010-05-08     Delhi          India      16.643\n",
      "127  2010-06-07    London             UK      34.822\n",
      "128  2010-07-07  New York            USA      21.370\n",
      "129  2010-08-06     Tokyo          Japan      12.544\n",
      "130  2010-09-05   Abidjan  Côte D'Ivoire      16.350\n",
      "131  2010-10-05    London             UK      12.849\n",
      "132  2010-11-04     Delhi          India       4.485\n",
      "133  2010-12-04   Abidjan  Côte D'Ivoire      14.036\n",
      "134  2011-01-03  New York            USA      20.202\n",
      "135  2011-02-02     Delhi          India      28.837\n",
      "136  2011-03-04  New York            USA      20.879\n",
      "137  2011-04-03  New York            USA      20.757\n",
      "138  2011-05-03    London             UK      34.500\n",
      "139  2011-06-02     Tokyo          Japan      15.738\n",
      "140  2011-07-02  New York            USA      34.187\n",
      "141  2011-08-01  New York            USA      14.088\n",
      "142  2011-08-31     Delhi          India       4.036\n",
      "143  2011-09-30     Tokyo          Japan      32.228\n",
      "144  2011-10-30     Tokyo          Japan      -0.427\n",
      "145  2011-11-29     Tokyo          Japan      -3.462\n",
      "146  2011-12-29     Tokyo          Japan       4.006\n",
      "                city        country  avg_temp_c\n",
      "date                                           \n",
      "2010-01-08  New York            USA      32.843\n",
      "2010-02-07    London             UK      13.410\n",
      "2010-03-09     Tokyo          Japan       2.554\n",
      "2010-04-08  New York            USA      20.041\n",
      "2010-05-08     Delhi          India      16.643\n",
      "2010-06-07    London             UK      34.822\n",
      "2010-07-07  New York            USA      21.370\n",
      "2010-08-06     Tokyo          Japan      12.544\n",
      "2010-09-05   Abidjan  Côte D'Ivoire      16.350\n",
      "2010-10-05    London             UK      12.849\n",
      "2010-11-04     Delhi          India       4.485\n",
      "2010-12-04   Abidjan  Côte D'Ivoire      14.036\n",
      "                city        country  avg_temp_c\n",
      "date                                           \n",
      "2010-08-06     Tokyo          Japan      12.544\n",
      "2010-09-05   Abidjan  Côte D'Ivoire      16.350\n",
      "2010-10-05    London             UK      12.849\n",
      "2010-11-04     Delhi          India       4.485\n",
      "2010-12-04   Abidjan  Côte D'Ivoire      14.036\n",
      "2011-01-03  New York            USA      20.202\n"
     ]
    }
   ],
   "source": [
    "# Use Boolean conditions to subset temperatures for rows in 2010 and 2011\n",
    "temperatures_bool = temperatures[(temperatures[\"date\"] >= \"2010-01-01\") & (temperatures[\"date\"] <= \"2011-12-31\")]\n",
    "print(temperatures_bool)\n",
    "\n",
    "# Set date as the index and sort the index\n",
    "temperatures_ind = temperatures.set_index(\"date\").sort_index()\n",
    "\n",
    "# Use .loc[] to subset temperatures_ind for rows in 2010 and 2011\n",
    "print(temperatures_ind.loc[\"2010\":\"2011\"])\n",
    "\n",
    "# Use .loc[] to subset temperatures_ind for rows from Aug 2010 to Feb 2011\n",
    "print(temperatures_ind.loc[\"2010-08\":\"2011-02\"])"
   ]
  },
  {
   "cell_type": "code",
   "execution_count": 24,
   "id": "30ad058a",
   "metadata": {},
   "outputs": [
    {
     "name": "stdout",
     "output_type": "stream",
     "text": [
      "London\n",
      "         date      city country  avg_temp_c\n",
      "0  2000-01-01    London      UK      12.074\n",
      "1  2000-01-31  New York     USA      -0.714\n",
      "2  2000-03-01    London      UK       7.986\n",
      "3  2000-03-31      Xian   China       7.115\n",
      "4  2000-04-30     Tokyo   Japan      29.439\n",
      "           country  avg_temp_c\n",
      "0               UK      12.074\n",
      "1              USA      -0.714\n",
      "2               UK       7.986\n",
      "3            China       7.115\n",
      "4            Japan      29.439\n",
      "..             ...         ...\n",
      "295             UK      10.597\n",
      "296  Côte D'Ivoire      17.050\n",
      "297          Japan      32.287\n",
      "298  Côte D'Ivoire      32.983\n",
      "299          Japan      17.669\n",
      "\n",
      "[300 rows x 2 columns]\n",
      "  country  avg_temp_c\n",
      "0      UK      12.074\n",
      "1     USA      -0.714\n",
      "2      UK       7.986\n",
      "3   China       7.115\n",
      "4   Japan      29.439\n"
     ]
    }
   ],
   "source": [
    "# Get 23rd row, 2nd column (index 22, 1)\n",
    "print(temperatures.iloc[22,1])\n",
    "\n",
    "# Use slicing to get the first 5 rows\n",
    "print(temperatures.iloc[:5])\n",
    "\n",
    "# Use slicing to get columns 3 to 4\n",
    "print(temperatures.iloc[:,2:4])\n",
    "\n",
    "# Use slicing in both directions at once\n",
    "print(temperatures.iloc[:5,2:4])"
   ]
  },
  {
   "cell_type": "code",
   "execution_count": 26,
   "id": "a14c15d3",
   "metadata": {},
   "outputs": [
    {
     "name": "stdout",
     "output_type": "stream",
     "text": [
      "year                         2000      2001     2002       2003     2004  \\\n",
      "country       city                                                         \n",
      "China         Xian       8.956333  -4.21500  24.8680   9.868000      NaN   \n",
      "Côte D'Ivoire Abidjan         NaN  12.13500  -2.6100  13.215000  20.7290   \n",
      "India         Delhi     29.854000   4.46175  19.4790        NaN   5.1960   \n",
      "Japan         Tokyo     22.770000       NaN  18.6595   7.950333  15.5684   \n",
      "UK            London    20.490333  12.90300  11.7120  14.312750  16.1085   \n",
      "USA           New York  -0.714000  11.32150  26.1430   2.885000   9.6410   \n",
      "\n",
      "year                        2005       2006       2007       2008       2009  \\\n",
      "country       city                                                             \n",
      "China         Xian      26.08800  11.371250  17.141500  21.091333  17.825500   \n",
      "Côte D'Ivoire Abidjan   20.83600  15.476667  11.478333  14.231333        NaN   \n",
      "India         Delhi      7.11200  -3.681000  23.571750  15.610000  25.112667   \n",
      "Japan         Tokyo     10.71600  -0.730000  -2.044000        NaN  11.521667   \n",
      "UK            London     7.65350        NaN  23.333000  30.176000        NaN   \n",
      "USA           New York   6.99525  12.690000  17.981000  16.301667  15.152500   \n",
      "\n",
      "year                    ...       2015       2016     2017       2018  \\\n",
      "country       city      ...                                             \n",
      "China         Xian      ...  24.523000  16.167250  12.9030   8.543333   \n",
      "Côte D'Ivoire Abidjan   ...  15.759333        NaN      NaN  18.372000   \n",
      "India         Delhi     ...  15.265667  34.158000  16.5280  16.146667   \n",
      "Japan         Tokyo     ...  19.605500  24.639333  25.6250   5.241000   \n",
      "UK            London    ...  18.586000  12.937667  20.0808  33.887000   \n",
      "USA           New York  ...  24.173000  34.969000  14.8080  26.700500   \n",
      "\n",
      "year                        2019     2020       2021       2022       2023  \\\n",
      "country       city                                                           \n",
      "China         Xian      23.07275  20.4590  15.382333  -1.068667  14.515000   \n",
      "Côte D'Ivoire Abidjan    3.07900  11.6030   9.927000   6.620000  26.075000   \n",
      "India         Delhi      7.32450   9.4025  26.641000        NaN  15.006750   \n",
      "Japan         Tokyo     14.79475  -2.9000  17.493000   9.242500   5.030000   \n",
      "UK            London         NaN  17.5395  20.010333  17.296000   9.546667   \n",
      "USA           New York   4.73300   6.3830        NaN  11.739750  22.893500   \n",
      "\n",
      "year                         2024  \n",
      "country       city                 \n",
      "China         Xian            NaN  \n",
      "Côte D'Ivoire Abidjan   25.016500  \n",
      "India         Delhi           NaN  \n",
      "Japan         Tokyo     22.603333  \n",
      "UK            London    10.597000  \n",
      "USA           New York  18.866000  \n",
      "\n",
      "[6 rows x 25 columns]\n"
     ]
    }
   ],
   "source": [
    "# Ensure the date column is in datetime format\n",
    "temperatures[\"date\"] = pd.to_datetime(temperatures[\"date\"])\n",
    "\n",
    "# Add a year column to temperatures\n",
    "temperatures[\"year\"] = temperatures[\"date\"].dt.year\n",
    "\n",
    "# Pivot avg_temp_c by country and city vs year\n",
    "temp_by_country_city_vs_year = temperatures.pivot_table(\"avg_temp_c\", index=[\"country\", \"city\"], columns=\"year\")\n",
    "\n",
    "# See the result\n",
    "print(temp_by_country_city_vs_year)"
   ]
  },
  {
   "cell_type": "code",
   "execution_count": 29,
   "id": "cc6eec9c",
   "metadata": {},
   "outputs": [
    {
     "data": {
      "application/vnd.microsoft.datawrangler.viewer.v0+json": {
       "columns": [
        {
         "name": "('country', 'city')",
         "rawType": "object",
         "type": "unknown"
        },
        {
         "name": "2005",
         "rawType": "float64",
         "type": "float"
        },
        {
         "name": "2006",
         "rawType": "float64",
         "type": "float"
        },
        {
         "name": "2007",
         "rawType": "float64",
         "type": "float"
        },
        {
         "name": "2008",
         "rawType": "float64",
         "type": "float"
        },
        {
         "name": "2009",
         "rawType": "float64",
         "type": "float"
        },
        {
         "name": "2010",
         "rawType": "float64",
         "type": "float"
        }
       ],
       "conversionMethod": "pd.DataFrame",
       "ref": "8c26c4fa-8a6d-412a-acd1-942d05cdfecf",
       "rows": [
        [
         "('China', 'Xian')",
         "26.088",
         "11.37125",
         "17.1415",
         "21.091333333333335",
         "17.825499999999998",
         null
        ],
        [
         "(\"Côte D'Ivoire\", 'Abidjan')",
         "20.836",
         "15.476666666666667",
         "11.478333333333333",
         "14.231333333333334",
         null,
         "15.193000000000001"
        ],
        [
         "('India', 'Delhi')",
         "7.112",
         "-3.681",
         "23.57175",
         "15.61",
         "25.11266666666667",
         "10.564"
        ],
        [
         "('Japan', 'Tokyo')",
         "10.716",
         "-0.73",
         "-2.044",
         null,
         "11.521666666666667",
         "7.549"
        ]
       ],
       "shape": {
        "columns": 6,
        "rows": 4
       }
      },
      "text/html": [
       "<div>\n",
       "<style scoped>\n",
       "    .dataframe tbody tr th:only-of-type {\n",
       "        vertical-align: middle;\n",
       "    }\n",
       "\n",
       "    .dataframe tbody tr th {\n",
       "        vertical-align: top;\n",
       "    }\n",
       "\n",
       "    .dataframe thead th {\n",
       "        text-align: right;\n",
       "    }\n",
       "</style>\n",
       "<table border=\"1\" class=\"dataframe\">\n",
       "  <thead>\n",
       "    <tr style=\"text-align: right;\">\n",
       "      <th></th>\n",
       "      <th>year</th>\n",
       "      <th>2005</th>\n",
       "      <th>2006</th>\n",
       "      <th>2007</th>\n",
       "      <th>2008</th>\n",
       "      <th>2009</th>\n",
       "      <th>2010</th>\n",
       "    </tr>\n",
       "    <tr>\n",
       "      <th>country</th>\n",
       "      <th>city</th>\n",
       "      <th></th>\n",
       "      <th></th>\n",
       "      <th></th>\n",
       "      <th></th>\n",
       "      <th></th>\n",
       "      <th></th>\n",
       "    </tr>\n",
       "  </thead>\n",
       "  <tbody>\n",
       "    <tr>\n",
       "      <th>China</th>\n",
       "      <th>Xian</th>\n",
       "      <td>26.088</td>\n",
       "      <td>11.371250</td>\n",
       "      <td>17.141500</td>\n",
       "      <td>21.091333</td>\n",
       "      <td>17.825500</td>\n",
       "      <td>NaN</td>\n",
       "    </tr>\n",
       "    <tr>\n",
       "      <th>Côte D'Ivoire</th>\n",
       "      <th>Abidjan</th>\n",
       "      <td>20.836</td>\n",
       "      <td>15.476667</td>\n",
       "      <td>11.478333</td>\n",
       "      <td>14.231333</td>\n",
       "      <td>NaN</td>\n",
       "      <td>15.193</td>\n",
       "    </tr>\n",
       "    <tr>\n",
       "      <th>India</th>\n",
       "      <th>Delhi</th>\n",
       "      <td>7.112</td>\n",
       "      <td>-3.681000</td>\n",
       "      <td>23.571750</td>\n",
       "      <td>15.610000</td>\n",
       "      <td>25.112667</td>\n",
       "      <td>10.564</td>\n",
       "    </tr>\n",
       "    <tr>\n",
       "      <th>Japan</th>\n",
       "      <th>Tokyo</th>\n",
       "      <td>10.716</td>\n",
       "      <td>-0.730000</td>\n",
       "      <td>-2.044000</td>\n",
       "      <td>NaN</td>\n",
       "      <td>11.521667</td>\n",
       "      <td>7.549</td>\n",
       "    </tr>\n",
       "  </tbody>\n",
       "</table>\n",
       "</div>"
      ],
      "text/plain": [
       "year                     2005       2006       2007       2008       2009  \\\n",
       "country       city                                                          \n",
       "China         Xian     26.088  11.371250  17.141500  21.091333  17.825500   \n",
       "Côte D'Ivoire Abidjan  20.836  15.476667  11.478333  14.231333        NaN   \n",
       "India         Delhi     7.112  -3.681000  23.571750  15.610000  25.112667   \n",
       "Japan         Tokyo    10.716  -0.730000  -2.044000        NaN  11.521667   \n",
       "\n",
       "year                     2010  \n",
       "country       city             \n",
       "China         Xian        NaN  \n",
       "Côte D'Ivoire Abidjan  15.193  \n",
       "India         Delhi    10.564  \n",
       "Japan         Tokyo     7.549  "
      ]
     },
     "execution_count": 29,
     "metadata": {},
     "output_type": "execute_result"
    }
   ],
   "source": [
    "# Subset for Egypt to India\n",
    "temp_by_country_city_vs_year.loc[\"China\":\"Japan\"]\n",
    "\n",
    "# Subset for Egypt, Cairo to India, Delhi\n",
    "temp_by_country_city_vs_year.loc[(\"China\",\"Xian\"):(\"Japan\",\"Tokyo\")]\n",
    "\n",
    "# Subset for Egypt, Cairo to India, Delhi, and 2005 to 2010\n",
    "temp_by_country_city_vs_year.loc[(\"China\",\"Xian\"):(\"Japan\",\"Tokyo\"),\"2005\":\"2010\"]"
   ]
  },
  {
   "cell_type": "code",
   "execution_count": 30,
   "id": "a8c98271",
   "metadata": {},
   "outputs": [
    {
     "name": "stdout",
     "output_type": "stream",
     "text": [
      "year\n",
      "2016    24.57425\n",
      "dtype: float64\n",
      "country  city \n",
      "Japan    Tokyo    11.66786\n",
      "dtype: float64\n"
     ]
    }
   ],
   "source": [
    "# Get the worldwide mean temp by year\n",
    "mean_temp_by_year = temp_by_country_city_vs_year.mean()\n",
    "\n",
    "# Filter for the year that had the highest mean temp\n",
    "print(mean_temp_by_year[mean_temp_by_year == mean_temp_by_year.max()])\n",
    "\n",
    "# Get the mean temp by city\n",
    "mean_temp_by_city = temp_by_country_city_vs_year.mean(axis ='columns')\n",
    "\n",
    "# Filter for the city that had the lowest mean temp\n",
    "print(mean_temp_by_city[mean_temp_by_city==mean_temp_by_city.min()])"
   ]
  },
  {
   "cell_type": "code",
   "execution_count": null,
   "id": "d9d63f05",
   "metadata": {},
   "outputs": [],
   "source": []
  }
 ],
 "metadata": {
  "kernelspec": {
   "display_name": "Python 3",
   "language": "python",
   "name": "python3"
  },
  "language_info": {
   "codemirror_mode": {
    "name": "ipython",
    "version": 3
   },
   "file_extension": ".py",
   "mimetype": "text/x-python",
   "name": "python",
   "nbconvert_exporter": "python",
   "pygments_lexer": "ipython3",
   "version": "3.11.9"
  }
 },
 "nbformat": 4,
 "nbformat_minor": 5
}
