{
 "cells": [
  {
   "cell_type": "code",
   "execution_count": 5,
   "id": "74255276",
   "metadata": {},
   "outputs": [],
   "source": [
    "import numpy as np"
   ]
  },
  {
   "cell_type": "code",
   "execution_count": 6,
   "id": "b42a216d",
   "metadata": {},
   "outputs": [],
   "source": [
    "np_hieght = np.array([1.75, 1.80, 1.65, 1.70, 1.85])\n",
    "np_weight = np.array([70, 80, 60, 75, 90])"
   ]
  },
  {
   "cell_type": "code",
   "execution_count": 7,
   "id": "db3ee480",
   "metadata": {},
   "outputs": [
    {
     "name": "stdout",
     "output_type": "stream",
     "text": [
      "[22.85714286 24.69135802 22.03856749 25.95155709 26.29656684]\n"
     ]
    }
   ],
   "source": [
    "bmi = np_weight / (np_hieght ** 2)\n",
    "print(bmi)"
   ]
  },
  {
   "cell_type": "code",
   "execution_count": null,
   "id": "b1a24130",
   "metadata": {},
   "outputs": [],
   "source": []
  }
 ],
 "metadata": {
  "kernelspec": {
   "display_name": "Python 3",
   "language": "python",
   "name": "python3"
  },
  "language_info": {
   "codemirror_mode": {
    "name": "ipython",
    "version": 3
   },
   "file_extension": ".py",
   "mimetype": "text/x-python",
   "name": "python",
   "nbconvert_exporter": "python",
   "pygments_lexer": "ipython3",
   "version": "3.11.9"
  }
 },
 "nbformat": 4,
 "nbformat_minor": 5
}
