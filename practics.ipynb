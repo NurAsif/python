{
 "cells": [
  {
   "cell_type": "code",
   "execution_count": 3,
   "id": "332b12ac",
   "metadata": {},
   "outputs": [
    {
     "name": "stdout",
     "output_type": "stream",
     "text": [
      "1\n",
      "2\n",
      "3\n",
      "4\n",
      "5\n",
      "6\n",
      "7\n",
      "8\n",
      "9\n",
      "10\n"
     ]
    }
   ],
   "source": [
    "for i in range(1,11):\n",
    "    print(i)"
   ]
  },
  {
   "cell_type": "code",
   "execution_count": 40,
   "id": "c95b9bc0",
   "metadata": {},
   "outputs": [
    {
     "name": "stdout",
     "output_type": "stream",
     "text": [
      "\n",
      "5 \n",
      "5 5 \n",
      "5 5 5 \n",
      "5 5 5 5 \n"
     ]
    }
   ],
   "source": [
    "n = 5\n",
    "for i in range(n):\n",
    "    for j in range(i):\n",
    "        print(n,end=\" \")\n",
    "    print()"
   ]
  },
  {
   "cell_type": "code",
   "execution_count": 31,
   "id": "4f93915f",
   "metadata": {},
   "outputs": [
    {
     "name": "stdout",
     "output_type": "stream",
     "text": [
      "1 \n",
      "2 2 \n",
      "3 3 3 \n",
      "4 4 4 4 \n",
      "5 5 5 5 5 \n"
     ]
    }
   ],
   "source": [
    "n = 5\n",
    "for i in range(1,n+1):\n",
    "    for j in range(i):\n",
    "        print(i, end=' ')\n",
    "    print()"
   ]
  },
  {
   "cell_type": "code",
   "execution_count": 43,
   "id": "aceadd6f",
   "metadata": {},
   "outputs": [
    {
     "name": "stdout",
     "output_type": "stream",
     "text": [
      "4 \n",
      "3 3 \n",
      "2 2 2 \n"
     ]
    }
   ],
   "source": [
    "n = 5\n",
    "for i in range(1,n-1):\n",
    "    for j in range(i):\n",
    "        print(n-i, end=' ')\n",
    "    print()"
   ]
  },
  {
   "cell_type": "code",
   "execution_count": 52,
   "id": "be99e13c",
   "metadata": {},
   "outputs": [
    {
     "name": "stdout",
     "output_type": "stream",
     "text": [
      "5 \n",
      "5 4 \n",
      "5 4 3 \n",
      "5 4 3 2 \n",
      "5 4 3 2 1 \n"
     ]
    }
   ],
   "source": [
    "n = 5\n",
    "for i in range(1,n+1):\n",
    "    for j in range(i):\n",
    "     print(n-j, end=' ')\n",
    "    print()"
   ]
  },
  {
   "cell_type": "code",
   "execution_count": 112,
   "id": "3c9776b8",
   "metadata": {},
   "outputs": [
    {
     "name": "stdout",
     "output_type": "stream",
     "text": [
      "1 \n",
      "1 2 \n",
      "1 2 3 \n",
      "1 2 3 4 \n",
      "1 2 3 4 5 \n"
     ]
    }
   ],
   "source": [
    "n = 5\n",
    "for i in range(1, n+1):\n",
    "    for j in range(1,i+1):\n",
    "     print(j, end=' ')\n",
    "    print()"
   ]
  },
  {
   "cell_type": "code",
   "execution_count": 73,
   "id": "13be638f",
   "metadata": {},
   "outputs": [
    {
     "name": "stdout",
     "output_type": "stream",
     "text": [
      "3 \n",
      "2 1 \n",
      "1 0 -1 \n",
      "0 -1 -2 -3 \n",
      "-1 -2 -3 -4 -5 \n"
     ]
    }
   ],
   "source": [
    "n = 5\n",
    "for i in range(1,n+1):\n",
    "    for j in range(1,i+1):\n",
    "     print(n-i-j, end=' ')\n",
    "    print()"
   ]
  },
  {
   "cell_type": "code",
   "execution_count": 117,
   "id": "d2353dbc",
   "metadata": {},
   "outputs": [
    {
     "name": "stdout",
     "output_type": "stream",
     "text": [
      "1 2 3 4 5 \n",
      "1 2 3 4 \n",
      "1 2 3 \n",
      "1 2 \n",
      "1 \n"
     ]
    }
   ],
   "source": [
    "n = 5\n",
    "for i in range(n,0,-1):\n",
    "    for j in range(1, i+1):\n",
    "        print(j, end=' ')\n",
    "    print()\n",
    "\n",
    "   "
   ]
  },
  {
   "cell_type": "code",
   "execution_count": 132,
   "id": "cb37ed96",
   "metadata": {},
   "outputs": [
    {
     "name": "stdout",
     "output_type": "stream",
     "text": [
      "     1 \n",
      "    1  2 \n",
      "   1  2  3 \n",
      "  1  2  3  4 \n"
     ]
    }
   ],
   "source": [
    "n = 5\n",
    "for i in range(1, n):\n",
    "    print(\" \" * (n-i), end='')\n",
    "    for j in range(1, i+1):\n",
    "        print(\" \" + str(j), end=' ')\n",
    "    print()\n"
   ]
  },
  {
   "cell_type": "code",
   "execution_count": 133,
   "id": "e990f0e9",
   "metadata": {},
   "outputs": [
    {
     "name": "stdout",
     "output_type": "stream",
     "text": [
      "i=1, j=1\n",
      "i=2, j=1\n",
      "i=2, j=2\n",
      "i=3, j=1\n",
      "i=3, j=2\n",
      "i=3, j=3\n"
     ]
    }
   ],
   "source": [
    "for i in range(1, 4):\n",
    "    for j in range(1, i+1):\n",
    "        print(f\"i={i}, j={j}\")  # Shows exactly what’s going on\n"
   ]
  },
  {
   "cell_type": "code",
   "execution_count": 134,
   "id": "6e521a84",
   "metadata": {},
   "outputs": [
    {
     "name": "stdout",
     "output_type": "stream",
     "text": [
      "Row 1:\n",
      "   i=1, j=0, printing: 1\n",
      "\n",
      "Row 2:\n",
      "   i=2, j=0, printing: 2\n",
      "   i=2, j=1, printing: 2\n",
      "\n",
      "Row 3:\n",
      "   i=3, j=0, printing: 3\n",
      "   i=3, j=1, printing: 3\n",
      "   i=3, j=2, printing: 3\n",
      "\n",
      "Row 4:\n",
      "   i=4, j=0, printing: 4\n",
      "   i=4, j=1, printing: 4\n",
      "   i=4, j=2, printing: 4\n",
      "   i=4, j=3, printing: 4\n",
      "\n",
      "Row 5:\n",
      "   i=5, j=0, printing: 5\n",
      "   i=5, j=1, printing: 5\n",
      "   i=5, j=2, printing: 5\n",
      "   i=5, j=3, printing: 5\n",
      "   i=5, j=4, printing: 5\n",
      "\n"
     ]
    }
   ],
   "source": [
    "n = 5\n",
    "for i in range(1, n+1):\n",
    "    print(f\"Row {i}:\")\n",
    "    for j in range(i):\n",
    "        print(f\"   i={i}, j={j}, printing: {i}\")\n",
    "    print()\n"
   ]
  },
  {
   "cell_type": "code",
   "execution_count": 156,
   "id": "cd29c10a",
   "metadata": {},
   "outputs": [
    {
     "name": "stdout",
     "output_type": "stream",
     "text": [
      "5 \n",
      "4 4 \n",
      "3 3 3 \n",
      "2 2 2 2 \n",
      "1 1 1 1 1 \n"
     ]
    }
   ],
   "source": [
    "n = 5\n",
    "for i in range(n,0,-1):\n",
    "    \n",
    "    for j in range(n-i+1):\n",
    "        print(i, end=' ')\n",
    "    print()"
   ]
  },
  {
   "cell_type": "code",
   "execution_count": 200,
   "id": "464d49b8",
   "metadata": {},
   "outputs": [
    {
     "name": "stdout",
     "output_type": "stream",
     "text": [
      "    1 \n",
      "   2 2 \n",
      "  3 3 3 \n",
      " 4 4 4 4 \n",
      "5 5 5 5 5 \n"
     ]
    }
   ],
   "source": [
    "n = 5\n",
    "for i in range(1, n+1):\n",
    "    for space in range(n-i):\n",
    "        print(\" \", end='')\n",
    "    for j in range(i):\n",
    "        print(str(i)[::-1], end=' ')\n",
    "    print()"
   ]
  },
  {
   "cell_type": "code",
   "execution_count": 196,
   "id": "d7fd1433",
   "metadata": {},
   "outputs": [
    {
     "name": "stdout",
     "output_type": "stream",
     "text": [
      "  1 \n",
      "  2 2 \n",
      "  3 3 3 \n",
      "  4 4 4 4 \n",
      "  5 5 5 5 5 \n"
     ]
    }
   ],
   "source": [
    "for i in range(1, n+1):\n",
    "    print('  ', end='')\n",
    "    for j in range(i):\n",
    "        print(i, end=' ')\n",
    "    print()"
   ]
  },
  {
   "cell_type": "code",
   "execution_count": 193,
   "id": "89e04817",
   "metadata": {},
   "outputs": [
    {
     "name": "stdout",
     "output_type": "stream",
     "text": [
      "        1 \n",
      "      2 2 \n",
      "    3 3 3 \n",
      "  4 4 4 4 \n",
      "5 5 5 5 5 \n"
     ]
    }
   ],
   "source": [
    "n = 5\n",
    "for i in range(1, n+1):                       # Rows 1 to 5\n",
    "    for space in range(n - i):                # Print spaces before numbers\n",
    "        print('  ', end='')                   # Two spaces for alignment\n",
    "    for j in range(i):                        # Print the number i, i times\n",
    "        print(f'{i} ', end='')\n",
    "    print()                                   # Move to the next line\n"
   ]
  },
  {
   "cell_type": "code",
   "execution_count": 214,
   "id": "08692666",
   "metadata": {},
   "outputs": [
    {
     "name": "stdout",
     "output_type": "stream",
     "text": [
      "        -2 \n",
      "      2 -2 -1 \n",
      "    3 3 -2 -1 0 \n",
      "  4 4 4 -2 -1 0 1 \n",
      "5 5 5 5 -2 -1 0 1 2 \n"
     ]
    }
   ],
   "source": [
    "n = 5\n",
    "for i in range(1, n+1):\n",
    "    for space in range(n-i):\n",
    "        print(\"  \", end='')\n",
    "    for j in range(i-1):\n",
    "        print(str(i), end=' ')\n",
    "    for k in range(i):\n",
    "        print(k-2, end=' ')\n",
    "    print()"
   ]
  },
  {
   "cell_type": "code",
   "execution_count": 217,
   "id": "6ad8e50e",
   "metadata": {},
   "outputs": [
    {
     "name": "stdout",
     "output_type": "stream",
     "text": [
      "        1 \n",
      "      1 2 1 \n",
      "    1 2 3 2 1 \n",
      "  1 2 3 4 3 2 1 \n",
      "1 2 3 4 5 4 3 2 1 \n"
     ]
    }
   ],
   "source": [
    "n = 5\n",
    "for i in range(1, n+1):\n",
    "    for space in range(n-i):\n",
    "        print(\"  \", end='')\n",
    "    for j in range(1,i+1):\n",
    "        print(j, end=' ')\n",
    "    for k in range(i-1, 0, -1):\n",
    "        print(k, end=' ')\n",
    "    print()"
   ]
  },
  {
   "cell_type": "code",
   "execution_count": 218,
   "id": "8d4bde0e",
   "metadata": {},
   "outputs": [
    {
     "name": "stdout",
     "output_type": "stream",
     "text": [
      "        1 \n",
      "      1 2 1 \n",
      "    1 2 3 2 1 \n",
      "  1 2 3 4 3 2 1 \n",
      "1 2 3 4 5 4 3 2 1 \n"
     ]
    }
   ],
   "source": [
    "n = 5\n",
    "for i in range(1, n+1):\n",
    "    # Print spaces\n",
    "    for space in range(n - i):\n",
    "        print('  ', end='')\n",
    "\n",
    "    # Print increasing numbers\n",
    "    for num in range(1, i+1):\n",
    "        print(f'{num} ', end='')\n",
    "\n",
    "    # Print decreasing numbers\n",
    "    for num in range(i-1, 0, -1):\n",
    "        print(f'{num} ', end='')\n",
    "\n",
    "    # New line after each row\n",
    "    print()\n"
   ]
  },
  {
   "cell_type": "code",
   "execution_count": 247,
   "id": "b2d1e384",
   "metadata": {},
   "outputs": [
    {
     "name": "stdout",
     "output_type": "stream",
     "text": [
      "    * \n",
      "   * * \n",
      "  * * * \n",
      " * * * * \n",
      "* * * * * \n",
      " * * * * \n",
      "  * * * \n",
      "   * * \n",
      "    * \n"
     ]
    }
   ],
   "source": [
    "n = 5\n",
    "for i in range(1, n+1):\n",
    "    for space in range(n-i):\n",
    "        print(\" \", end='')\n",
    "    for j in range(i):\n",
    "        print(\"*\", end=' ')\n",
    "    print()  # Move to the next line after each row\n",
    "\n",
    "for k in range(n-1, 0, -1):\n",
    "    for space in range(n-k):\n",
    "        print(\" \", end='')\n",
    "    for j in range(k):\n",
    "        print(\"*\", end=' ')\n",
    "    print()  # Move to the next line after each row"
   ]
  },
  {
   "cell_type": "code",
   "execution_count": 260,
   "id": "c08c97da",
   "metadata": {},
   "outputs": [
    {
     "name": "stdout",
     "output_type": "stream",
     "text": [
      "        1 \n",
      "      1 2 1 \n",
      "    1 2 3 2 1 \n",
      "  1 2 3 4 3 2 1 \n",
      "1 2 3 4 5 4 3 2 1 \n",
      "  1 2 3 4 3 2 1 \n",
      "    1 2 3 2 1 \n",
      "      1 2 1 \n",
      "        1 \n"
     ]
    }
   ],
   "source": [
    "n = 5\n",
    "for i in range(1, n+1):\n",
    "    for space in range(n-i):\n",
    "        print(\"  \", end='')\n",
    "    for j in range(1,i+1):\n",
    "        print(j, end=' ')\n",
    "    for k in range(i-1, 0, -1):\n",
    "        print(k, end=' ')\n",
    "    print()  # Move to the next line after each row\n",
    "\n",
    "for k in range(n-1, 0, -1):\n",
    "    for space in range(n-k):\n",
    "        print(\"  \", end='')\n",
    "    for j in range(1,k+1):\n",
    "        print(j, end=' ')\n",
    "    for k in range(k-1, 0, -1):\n",
    "        print(k, end=' ')\n",
    "    print()  # Move to the next line after each row"
   ]
  },
  {
   "cell_type": "code",
   "execution_count": 330,
   "id": "0baee110",
   "metadata": {},
   "outputs": [
    {
     "name": "stdout",
     "output_type": "stream",
     "text": [
      "        1 \n",
      "      1   1 \n",
      "    1       1 \n",
      "  1           1 \n",
      "1 2 3 4 5 4 3 2 1 \n"
     ]
    }
   ],
   "source": [
    "n = 5\n",
    "for i in range(1,n+1): \n",
    "    for space in range(n-i):\n",
    "        print(\"  \", end='') \n",
    "    row = list(range(1,i+1)) + list(range(i-1,0,-1))\n",
    "    #print(row,  end='')\n",
    "    for j in range(len(row)):\n",
    "        if i == 1:\n",
    "            print(row[j], end=' ')\n",
    "            break\n",
    "        elif i == n:\n",
    "            print(row[j], end=' ')\n",
    "        elif j == 0 or j == len(row)-1:\n",
    "            print(row[j], end=' ')\n",
    "        else:\n",
    "            print(\" \", end=' ') \n",
    "    print()  # Move to the next line after each row"
   ]
  }
 ],
 "metadata": {
  "kernelspec": {
   "display_name": ".venv",
   "language": "python",
   "name": "python3"
  },
  "language_info": {
   "codemirror_mode": {
    "name": "ipython",
    "version": 3
   },
   "file_extension": ".py",
   "mimetype": "text/x-python",
   "name": "python",
   "nbconvert_exporter": "python",
   "pygments_lexer": "ipython3",
   "version": "3.11.9"
  }
 },
 "nbformat": 4,
 "nbformat_minor": 5
}
