{
 "cells": [
  {
   "cell_type": "code",
   "execution_count": 11,
   "id": "617bdc90",
   "metadata": {},
   "outputs": [
    {
     "name": "stdout",
     "output_type": "stream",
     "text": [
      "[1, 3, 4, 5]\n"
     ]
    }
   ],
   "source": [
    "def bubble_sort(my_list):\n",
    "    \"\"\"\n",
    "    Sorts a list using the bubble sort algorithm.\n",
    "    \n",
    "    :param my_list: List of elements to be sorted\n",
    "    :return: Sorted list\n",
    "    \"\"\"\n",
    "    lenth_list = len(my_list)\n",
    "    for i in range(lenth_list-1):\n",
    "           for j in range(0,lenth_list-1-i):\n",
    "            if my_list[j] > my_list[j+1]:\n",
    "                my_list[j], my_list[j+1] = my_list[j+1], my_list[j]\n",
    "    return my_list\n",
    "print(bubble_sort([5,3,1,4]))\n"
   ]
  }
 ],
 "metadata": {
  "kernelspec": {
   "display_name": "Python 3",
   "language": "python",
   "name": "python3"
  },
  "language_info": {
   "codemirror_mode": {
    "name": "ipython",
    "version": 3
   },
   "file_extension": ".py",
   "mimetype": "text/x-python",
   "name": "python",
   "nbconvert_exporter": "python",
   "pygments_lexer": "ipython3",
   "version": "3.11.9"
  }
 },
 "nbformat": 4,
 "nbformat_minor": 5
}
