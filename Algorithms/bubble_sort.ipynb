{
 "cells": [
  {
   "cell_type": "code",
   "execution_count": null,
   "id": "617bdc90",
   "metadata": {},
   "outputs": [
    {
     "name": "stdout",
     "output_type": "stream",
     "text": [
      "[3, 10, 15, 25]\n"
     ]
    }
   ],
   "source": [
    "def bubble_sort(my_list):\n",
    "    \"\"\"\n",
    "    Sorts a list using the bubble sort algorithm.\n",
    "    \n",
    "    :param my_list: List of elements to be sorted\n",
    "    :return: Sorted list\n",
    "    \"\"\"\n",
    "    lenth_list = len(my_list)\n",
    "    for i in range(lenth_list-1):\n",
    "           for j in range(0,lenth_list-1-i):\n",
    "            if my_list[j] > my_list[j+1]:\n",
    "                my_list[j], my_list[j+1] = my_list[j+1], my_list[j]\n",
    "    return my_list\n",
    "print(bubble_sort([5,3,1,4]))\n"
   ]
  },
  {
   "cell_type": "code",
   "execution_count": 24,
   "id": "2c5d1991",
   "metadata": {},
   "outputs": [
    {
     "name": "stdout",
     "output_type": "stream",
     "text": [
      "[3, 5, 10, 15, 25]\n"
     ]
    }
   ],
   "source": [
    "def bubble_sort_optimized(my_list):\n",
    "    \"\"\"\n",
    "    Sorts a list using the optimized bubble sort algorithm.\n",
    "    \n",
    "    :param my_list: List of elements to be sorted\n",
    "    :return: Sorted list\n",
    "    \"\"\"\n",
    "    lenth_list = len(my_list)\n",
    "    for i in range(lenth_list-1):\n",
    "        swapped = False\n",
    "        for j in range(0, lenth_list-1-i):\n",
    "            if my_list[j] > my_list[j+1]:\n",
    "                my_list[j], my_list[j+1] = my_list[j+1], my_list[j]\n",
    "                swapped = True\n",
    "        if not swapped:\n",
    "            break\n",
    "    return my_list\n",
    "print(bubble_sort_optimized([10,3,15,25,5]))"
   ]
  },
  {
   "cell_type": "code",
   "execution_count": 27,
   "id": "6420519d",
   "metadata": {},
   "outputs": [
    {
     "name": "stdout",
     "output_type": "stream",
     "text": [
      "[1, 3, 4, 5]\n"
     ]
    }
   ],
   "source": [
    "def bubble_sort(my_list):\n",
    "    \"\"\"\n",
    "    Sorts a list using the bubble sort algorithm.\n",
    "    \n",
    "    :param my_list: List of elements to be sorted\n",
    "    :return: Sorted list\n",
    "    \"\"\"\n",
    "    list_length = len(my_list)\n",
    "    is_sorted = False\n",
    "    while not is_sorted:\n",
    "        is_sorted = True\n",
    "        for i in range(list_length - 1):\n",
    "            if my_list[i] > my_list[i + 1]:\n",
    "                my_list[i], my_list[i + 1] = my_list[i + 1], my_list[i]\n",
    "                is_sorted = False\n",
    "    return my_list\n",
    "print(bubble_sort([5,3,1,4]))"
   ]
  },
  {
   "cell_type": "code",
   "execution_count": 28,
   "id": "1b60d2e2",
   "metadata": {},
   "outputs": [
    {
     "name": "stdout",
     "output_type": "stream",
     "text": [
      "[2, 4, 6, 7, 8, 9]\n"
     ]
    }
   ],
   "source": [
    "#selection sort algorithm\n",
    "def selection_sort(my_list):\n",
    "  list_length = len(my_list)\n",
    "  for i in range(list_length - 1):\n",
    "    # Set lowest to the element of the list located at index i\n",
    "    lowest = my_list[i]\n",
    "    index = i\n",
    "    # Iterate again over the list starting on the next position of the i variable\n",
    "    for j in range(i+1, list_length):\n",
    "      # Compare whether the element of the list located at index j is smaller than lowest\n",
    "      if my_list[j]<lowest:\n",
    "        index = j\n",
    "        lowest = my_list[j]\n",
    "    my_list[i] , my_list[index] = my_list[index] , my_list[i]\n",
    "  return my_list\n",
    "\n",
    "my_list = [6, 2, 9, 7, 4, 8] \n",
    "selection_sort(my_list)\n",
    "print(my_list)"
   ]
  },
  {
   "cell_type": "code",
   "execution_count": null,
   "id": "e23770de",
   "metadata": {},
   "outputs": [],
   "source": [
    "# Selection Sort Algorithm\n",
    "def selection_sort(arr):\n",
    "    n = len(arr)\n",
    "    for i in range(n):\n",
    "        min_index = i  # Assume current i is the minimum\n",
    "        for j in range(i+1, n):  # Find the true minimum in the rest\n",
    "            if arr[j] < arr[min_index]:\n",
    "                min_index = j\n",
    "        arr[i], arr[min_index] = arr[min_index], arr[i]  # Swap\n",
    "    return arr\n",
    "\n",
    "# Test it\n",
    "numbers = [5, 3, 1, 4, 2]\n",
    "sorted_numbers = selection_sort(numbers)\n",
    "print(\"Sorted list:\", sorted_numbers)\n"
   ]
  },
  {
   "cell_type": "code",
   "execution_count": 29,
   "id": "eab6df11",
   "metadata": {},
   "outputs": [
    {
     "name": "stdout",
     "output_type": "stream",
     "text": [
      "[1, 3, 4, 5]\n"
     ]
    }
   ],
   "source": [
    "#insertion sort algorithm\n",
    "def insertion_sort(my_list):\n",
    "    \"\"\"\n",
    "    Sorts a list using the insertion sort algorithm.\n",
    "    \n",
    "    :param my_list: List of elements to be sorted\n",
    "    :return: Sorted list\n",
    "    \"\"\"\n",
    "    for i in range(1, len(my_list)):\n",
    "        key = my_list[i]\n",
    "        j = i - 1\n",
    "        while j >= 0 and key < my_list[j]:\n",
    "            my_list[j + 1] = my_list[j]\n",
    "            j -= 1\n",
    "        my_list[j + 1] = key\n",
    "    return my_list\n",
    "print(insertion_sort([5,3,1,4]))"
   ]
  },
  {
   "cell_type": "code",
   "execution_count": null,
   "id": "29a3c2bb",
   "metadata": {},
   "outputs": [],
   "source": []
  }
 ],
 "metadata": {
  "kernelspec": {
   "display_name": "Python 3",
   "language": "python",
   "name": "python3"
  },
  "language_info": {
   "codemirror_mode": {
    "name": "ipython",
    "version": 3
   },
   "file_extension": ".py",
   "mimetype": "text/x-python",
   "name": "python",
   "nbconvert_exporter": "python",
   "pygments_lexer": "ipython3",
   "version": "3.11.9"
  }
 },
 "nbformat": 4,
 "nbformat_minor": 5
}
