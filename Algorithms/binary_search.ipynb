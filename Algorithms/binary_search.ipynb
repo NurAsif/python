{
 "cells": [
  {
   "cell_type": "code",
   "execution_count": 7,
   "id": "45064e29",
   "metadata": {},
   "outputs": [
    {
     "data": {
      "text/plain": [
       "5"
      ]
     },
     "execution_count": 7,
     "metadata": {},
     "output_type": "execute_result"
    }
   ],
   "source": [
    "def binary_search(data, target):\n",
    "    left = 0\n",
    "    right = len(data) - 1\n",
    "    while left <= right:\n",
    "        mid = (left + right) // 2\n",
    "        if data[mid] == target:\n",
    "            return mid\n",
    "        elif data[mid] > target:\n",
    "            right = mid - 1\n",
    "        else:\n",
    "            left = mid + 1\n",
    "    return -1\n",
    "data = [5,7,9,12,15,20,24,27,33,40,50,65,72]\n",
    "binary_search(data, 20)"
   ]
  },
  {
   "cell_type": "code",
   "execution_count": 11,
   "id": "840f566e",
   "metadata": {},
   "outputs": [
    {
     "name": "stdout",
     "output_type": "stream",
     "text": [
      "Found 20 at index 5\n"
     ]
    }
   ],
   "source": [
    "def binary_search(data, target):\n",
    "    left = 0\n",
    "    right = len(data) - 1\n",
    "    for i in range(len(data)):\n",
    "        if left > right:\n",
    "            break\n",
    "        mid = (left + right) // 2\n",
    "        if data[mid] == target:\n",
    "                return mid\n",
    "        elif data[mid] > target:\n",
    "                right = mid - 1\n",
    "        else:\n",
    "                left = mid + 1\n",
    "    return -1\n",
    "data = [5, 7, 9, 12, 15, 20, 24, 27, 33, 40, 50, 65, 72]\n",
    "target = int(input(\"Enter a number to search: \"))\n",
    "index = binary_search(data, target)\n",
    "\n",
    "if index != -1:\n",
    "    print(f\"Found {target} at index {index}\")\n",
    "else:\n",
    "    print(f\"{target} not found\")\n"
   ]
  },
  {
   "cell_type": "code",
   "execution_count": 13,
   "id": "4b8f5280",
   "metadata": {},
   "outputs": [
    {
     "name": "stdout",
     "output_type": "stream",
     "text": [
      "Found Rafi at index 4\n"
     ]
    }
   ],
   "source": [
    "def binary_search(data, target):\n",
    "    left = 0\n",
    "    right = len(data) - 1\n",
    "\n",
    "    for i in range(len(data)):\n",
    "        if left > right:\n",
    "            break\n",
    "        mid = (left + right) // 2\n",
    "        if data[mid] == target:\n",
    "            return mid\n",
    "        elif data[mid] > target:\n",
    "            right = mid - 1\n",
    "        else:\n",
    "            left = mid + 1\n",
    "\n",
    "    return -1\n",
    "\n",
    "students = [\"Asif\", \"Borno\", \"Jahid\", \"Nafis\", \"Rafi\", \"Ritu\", \"Shanto\", \"Zara\"]\n",
    "students.sort()  # make sure the list is sorted\n",
    "\n",
    "name = input(\"Enter student name to search: \")\n",
    "index = binary_search(students, name)\n",
    "\n",
    "if index != -1:\n",
    "    print(f\"Found {name} at index {index}\")\n",
    "else:\n",
    "    print(f\"{name} not found in the student list.\")\n"
   ]
  },
  {
   "cell_type": "code",
   "execution_count": null,
   "id": "5661d96c",
   "metadata": {},
   "outputs": [],
   "source": []
  }
 ],
 "metadata": {
  "kernelspec": {
   "display_name": "Python 3",
   "language": "python",
   "name": "python3"
  },
  "language_info": {
   "codemirror_mode": {
    "name": "ipython",
    "version": 3
   },
   "file_extension": ".py",
   "mimetype": "text/x-python",
   "name": "python",
   "nbconvert_exporter": "python",
   "pygments_lexer": "ipython3",
   "version": "3.11.9"
  }
 },
 "nbformat": 4,
 "nbformat_minor": 5
}
