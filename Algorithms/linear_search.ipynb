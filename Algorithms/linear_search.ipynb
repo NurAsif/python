{
 "cells": [
  {
   "cell_type": "code",
   "execution_count": 26,
   "id": "58b2f63f",
   "metadata": {},
   "outputs": [
    {
     "name": "stdout",
     "output_type": "stream",
     "text": [
      "20 not found\n"
     ]
    }
   ],
   "source": [
    "n = [5,2,10,6,7,13]\n",
    "a = int(input())\n",
    "found = 0\n",
    "for val in range(len(n)):\n",
    "    if n[val] == a:\n",
    "        print(f\"found {a} at index {val}\")\n",
    "        found +=1\n",
    "if found == 0:\n",
    "        print(f\"{a} not found\")\n",
    "# The code above is a simple linear search algorithm that checks if a number exists in a list and prints its index if found."
   ]
  },
  {
   "cell_type": "code",
   "execution_count": 29,
   "id": "1b22d613",
   "metadata": {},
   "outputs": [
    {
     "name": "stdout",
     "output_type": "stream",
     "text": [
      "found 10 at 2\n"
     ]
    }
   ],
   "source": [
    "n = [5,2,10,6,7,13]\n",
    "a = int(input())\n",
    "b = []\n",
    "found = 0\n",
    "for val in range(len(n)):\n",
    "    b.append(n[val])\n",
    "    if b[val] == a:\n",
    "        print(f\"found {b[val]} at {val}\")\n",
    "        found +=1\n",
    "        break\n",
    "if found == 0:\n",
    "        print(f\"{a} not found\")\n",
    "        \n",
    "        \n"
   ]
  },
  {
   "cell_type": "code",
   "execution_count": 30,
   "id": "078d2b9b",
   "metadata": {},
   "outputs": [
    {
     "name": "stdout",
     "output_type": "stream",
     "text": [
      "20 not found\n"
     ]
    }
   ],
   "source": [
    "n = [5, 2, 10, 6, 7, 13]\n",
    "a = int(input(\"Enter a number to search: \"))\n",
    "\n",
    "for index in range(len(n)):\n",
    "    if n[index] == a:\n",
    "        print(f\"Found {a} at index {index}\")\n",
    "        break\n",
    "else:\n",
    "    print(f\"{a} not found\")\n"
   ]
  },
  {
   "cell_type": "code",
   "execution_count": 32,
   "id": "28e929bf",
   "metadata": {},
   "outputs": [
    {
     "name": "stdout",
     "output_type": "stream",
     "text": [
      "found Asif at index 1\n",
      "found Asif at index 5\n",
      "Shanto not found\n"
     ]
    }
   ],
   "source": [
    "def linear_search(students,target):\n",
    "    found = False\n",
    "    for i in range(len(students)):\n",
    "        if students[i] == target:\n",
    "            print(f\"found {target} at index {i}\")\n",
    "            found = True\n",
    "    if not found:\n",
    "        print(f\"{target} not found\")\n",
    "students = [\"Rafi\", \"Asif\", \"Nafis\", \"Zara\", \"Ritu\", \"Asif\", \"Borno\"]\n",
    "linear_search(students,\"Asif\")\n",
    "linear_search(students,\"Shanto\")\n"
   ]
  }
 ],
 "metadata": {
  "kernelspec": {
   "display_name": "Python 3",
   "language": "python",
   "name": "python3"
  },
  "language_info": {
   "codemirror_mode": {
    "name": "ipython",
    "version": 3
   },
   "file_extension": ".py",
   "mimetype": "text/x-python",
   "name": "python",
   "nbconvert_exporter": "python",
   "pygments_lexer": "ipython3",
   "version": "3.11.9"
  }
 },
 "nbformat": 4,
 "nbformat_minor": 5
}
