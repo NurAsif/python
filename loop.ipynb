{
 "cells": [
  {
   "cell_type": "code",
   "execution_count": null,
   "id": "e8b06693",
   "metadata": {},
   "outputs": [],
   "source": [
    "\"\"\"\n",
    "while condition:\n",
    "     expression\n",
    "\"\"\""
   ]
  },
  {
   "cell_type": "code",
   "execution_count": 1,
   "id": "a9b8d30d",
   "metadata": {},
   "outputs": [
    {
     "name": "stdout",
     "output_type": "stream",
     "text": [
      "Error:  50\n",
      "Error:  40\n",
      "Error:  30\n",
      "Error:  20\n",
      "Error:  10\n"
     ]
    }
   ],
   "source": [
    "error = 50\n",
    "while error > 0:\n",
    "    print(\"Error: \", error)\n",
    "    error -= 10"
   ]
  },
  {
   "cell_type": "code",
   "execution_count": 3,
   "id": "8f15b803",
   "metadata": {},
   "outputs": [
    {
     "name": "stdout",
     "output_type": "stream",
     "text": [
      "Error:  12.5\n",
      "Error:  3.125\n",
      "Error:  0.78125\n"
     ]
    }
   ],
   "source": [
    "error = 50\n",
    "while error > 1:\n",
    "    error = error / 4\n",
    "    print(\"Error: \", error)"
   ]
  },
  {
   "cell_type": "code",
   "execution_count": 4,
   "id": "1c589bd4",
   "metadata": {},
   "outputs": [
    {
     "name": "stdout",
     "output_type": "stream",
     "text": [
      "correcting....\n",
      "correcting....\n",
      "correcting....\n",
      "correcting....\n",
      "correcting....\n",
      "correcting....\n",
      "correcting....\n",
      "correcting....\n"
     ]
    }
   ],
   "source": [
    "# Initialize offset\n",
    "offset = 8\n",
    "\n",
    "# Code the while loop\n",
    "while offset != 0 :\n",
    "    print(\"correcting....\")\n",
    "    offset = offset - 1"
   ]
  },
  {
   "cell_type": "code",
   "execution_count": 5,
   "id": "44e32471",
   "metadata": {},
   "outputs": [
    {
     "name": "stdout",
     "output_type": "stream",
     "text": [
      "correcting...\n",
      "-5\n",
      "correcting...\n",
      "-4\n",
      "correcting...\n",
      "-3\n",
      "correcting...\n",
      "-2\n",
      "correcting...\n",
      "-1\n",
      "correcting...\n",
      "0\n"
     ]
    }
   ],
   "source": [
    "# Initialize offset\n",
    "offset = -6\n",
    "\n",
    "# Code the while loop\n",
    "while offset != 0 :\n",
    "    print(\"correcting...\")\n",
    "    if offset > 0 :\n",
    "       offset -= 1\n",
    "    else : \n",
    "      offset  += 1\n",
    "    print(offset)"
   ]
  },
  {
   "cell_type": "code",
   "execution_count": null,
   "id": "a5f04c2f",
   "metadata": {},
   "outputs": [],
   "source": [
    "# for variable in sequence:\n",
    "#    expression\n"
   ]
  },
  {
   "cell_type": "code",
   "execution_count": 8,
   "id": "bbee4134",
   "metadata": {},
   "outputs": [
    {
     "name": "stdout",
     "output_type": "stream",
     "text": [
      "Height:  1.68\n",
      "Height:  1.75\n",
      "Height:  1.8\n",
      "Height:  1.82\n",
      "Height:  1.9\n"
     ]
    }
   ],
   "source": [
    "fam = [1.68, 1.75, 1.80, 1.82, 1.90]\n",
    "for height in fam:\n",
    "    print(\"Height: \", height)"
   ]
  },
  {
   "cell_type": "code",
   "execution_count": 11,
   "id": "e85c45fc",
   "metadata": {},
   "outputs": [
    {
     "name": "stdout",
     "output_type": "stream",
     "text": [
      "index 0:  1.68\n",
      "index 1:  1.75\n",
      "index 2:  1.8\n",
      "index 3:  1.82\n",
      "index 4:  1.9\n"
     ]
    }
   ],
   "source": [
    "fam = [1.68, 1.75, 1.80, 1.82, 1.90]\n",
    "for index, height in enumerate (fam):\n",
    "    print(\"index\"+\" \"+str(index)+\": \", height)"
   ]
  },
  {
   "cell_type": "code",
   "execution_count": 13,
   "id": "699118f9",
   "metadata": {},
   "outputs": [
    {
     "name": "stdout",
     "output_type": "stream",
     "text": [
      "F\n",
      "A\n",
      "M\n",
      "I\n",
      "L\n",
      "Y\n"
     ]
    }
   ],
   "source": [
    "for c in \"family\":\n",
    "    print(c.capitalize())"
   ]
  },
  {
   "cell_type": "code",
   "execution_count": 14,
   "id": "46d822a5",
   "metadata": {},
   "outputs": [
    {
     "name": "stdout",
     "output_type": "stream",
     "text": [
      "11.25\n",
      "18.0\n",
      "20.0\n",
      "10.75\n",
      "9.5\n"
     ]
    }
   ],
   "source": [
    "# areas list\n",
    "areas = [11.25, 18.0, 20.0, 10.75, 9.50]\n",
    "\n",
    "# Code the for loop\n",
    "for all in areas:\n",
    "    print(all)"
   ]
  },
  {
   "cell_type": "code",
   "execution_count": 15,
   "id": "3f275751",
   "metadata": {},
   "outputs": [
    {
     "name": "stdout",
     "output_type": "stream",
     "text": [
      "room 0:11.25\n",
      "room 1:18.0\n",
      "room 2:20.0\n",
      "room 3:10.75\n",
      "room 4:9.5\n"
     ]
    }
   ],
   "source": [
    "# areas list\n",
    "areas = [11.25, 18.0, 20.0, 10.75, 9.50]\n",
    "\n",
    "# Change for loop to use enumerate() and update print()\n",
    "for index, a in enumerate(areas) :\n",
    "    print(\"room\"+\" \"+str(index)+ \":\" + str(a))"
   ]
  },
  {
   "cell_type": "code",
   "execution_count": 16,
   "id": "985b4837",
   "metadata": {},
   "outputs": [
    {
     "name": "stdout",
     "output_type": "stream",
     "text": [
      "room 1: 11.25\n",
      "room 2: 18.0\n",
      "room 3: 20.0\n",
      "room 4: 10.75\n",
      "room 5: 9.5\n"
     ]
    }
   ],
   "source": [
    "# areas list\n",
    "areas = [11.25, 18.0, 20.0, 10.75, 9.50]\n",
    "\n",
    "# Code the for loop\n",
    "for index, area in enumerate(areas) :\n",
    "    print(\"room \" + str(index + 1) + \": \" + str(area))"
   ]
  },
  {
   "cell_type": "code",
   "execution_count": 17,
   "id": "c031d4f7",
   "metadata": {},
   "outputs": [
    {
     "name": "stdout",
     "output_type": "stream",
     "text": [
      "the hallway is 11.25 sqm\n",
      "the kitchen is 18.0 sqm\n",
      "the living room is 20.0 sqm\n",
      "the bedroom is 10.75 sqm\n",
      "the bathroom is 9.5 sqm\n"
     ]
    }
   ],
   "source": [
    "# house list of lists\n",
    "house = [[\"hallway\", 11.25], \n",
    "         [\"kitchen\", 18.0], \n",
    "         [\"living room\", 20.0], \n",
    "         [\"bedroom\", 10.75], \n",
    "         [\"bathroom\", 9.50]]\n",
    "         \n",
    "# Build a for loop from scratch\n",
    "for i in house:\n",
    "    room_name = i[0]\n",
    "    size = i[1]\n",
    "    print(\"the\"+\" \"+room_name+\" \"+\"is\"+\" \"+str(size)+\" \"+\"sqm\")"
   ]
  },
  {
   "cell_type": "code",
   "execution_count": 20,
   "id": "dbfbc4a2",
   "metadata": {},
   "outputs": [
    {
     "name": "stdout",
     "output_type": "stream",
     "text": [
      "the area of afghanistan is 652230 square km\n",
      "the area of albania is 28748 square km\n",
      "the area of algeria is 2381741 square km\n",
      "the area of andorra is 468 square km\n",
      "the area of angola is 1246700 square km\n",
      "the area of antigua and barbuda is 442 square km\n",
      "the area of argentina is 2780400 square km\n",
      "the area of armenia is 29743 square km\n",
      "the area of australia is 7692024 square km\n",
      "the area of austria is 83879 square km\n",
      "the area of azerbaijan is 86600 square km\n"
     ]
    }
   ],
   "source": [
    "world = {\"afghanistan\": 652230,\n",
    "         \"albania\": 28748,\n",
    "         \"algeria\": 2381741,\n",
    "         \"andorra\": 468,\n",
    "         \"angola\": 1246700,\n",
    "         \"antigua and barbuda\": 442,\n",
    "         \"argentina\": 2780400,\n",
    "         \"armenia\": 29743,\n",
    "         \"australia\": 7692024,\n",
    "         \"austria\": 83879,\n",
    "         \"azerbaijan\": 86600}\n",
    "for country, area in world.items():\n",
    "    print(\"the area of \" + country + \" is \" + str(area) + \" square km\")"
   ]
  },
  {
   "cell_type": "code",
   "execution_count": 22,
   "id": "625472eb",
   "metadata": {},
   "outputs": [
    {
     "name": "stdout",
     "output_type": "stream",
     "text": [
      "24.943310657596378\n",
      "26.187755102040818\n",
      "27.932098765432098\n",
      "28.680111097693512\n",
      "27.70083102493075\n"
     ]
    }
   ],
   "source": [
    "import numpy as np\n",
    "np_heights = np.array([1.68, 1.75, 1.80, 1.82, 1.90])\n",
    "np_weights = np.array([70.4, 80.2, 90.5, 95.0, 100.0])\n",
    "np_bmi = np_weights / np_heights ** 2   \n",
    "for i in np_bmi:\n",
    "    print(i)"
   ]
  },
  {
   "cell_type": "code",
   "execution_count": 26,
   "id": "ffe93592",
   "metadata": {},
   "outputs": [
    {
     "name": "stdout",
     "output_type": "stream",
     "text": [
      "[[  1.68   1.75   1.8    1.82   1.9 ]\n",
      " [ 70.4   80.2   90.5   95.   100.  ]]\n",
      "-----------------------------\n",
      "[1.68 1.75 1.8  1.82 1.9 ]\n",
      "[ 70.4  80.2  90.5  95.  100. ]\n"
     ]
    }
   ],
   "source": [
    "np_heights = np.array([1.68, 1.75, 1.80, 1.82, 1.90])\n",
    "np_weights = np.array([70.4, 80.2, 90.5, 95.0, 100.0])\n",
    "mean = np.array([np_heights, np_weights])\n",
    "print(mean)\n",
    "print(\"-----------------------------\")\n",
    "for i in mean:\n",
    "    print(i)"
   ]
  },
  {
   "cell_type": "code",
   "execution_count": 27,
   "id": "12ce4639",
   "metadata": {},
   "outputs": [
    {
     "name": "stdout",
     "output_type": "stream",
     "text": [
      "[[  1.68   1.75   1.8    1.82   1.9 ]\n",
      " [ 70.4   80.2   90.5   95.   100.  ]]\n",
      "-----------------------------\n",
      "1.68\n",
      "1.75\n",
      "1.8\n",
      "1.82\n",
      "1.9\n",
      "70.4\n",
      "80.2\n",
      "90.5\n",
      "95.0\n",
      "100.0\n"
     ]
    }
   ],
   "source": [
    "np_heights = np.array([1.68, 1.75, 1.80, 1.82, 1.90])\n",
    "np_weights = np.array([70.4, 80.2, 90.5, 95.0, 100.0])\n",
    "mean = np.array([np_heights, np_weights])\n",
    "print(mean)\n",
    "print(\"-----------------------------\")\n",
    "for i in np.nditer(mean):\n",
    "    print(i)"
   ]
  },
  {
   "cell_type": "code",
   "execution_count": 28,
   "id": "71c7a977",
   "metadata": {},
   "outputs": [
    {
     "name": "stdout",
     "output_type": "stream",
     "text": [
      "the capital of spain is madrid\n",
      "the capital of france is paris\n",
      "the capital of germany is berlin\n",
      "the capital of norway is oslo\n",
      "the capital of italy is rome\n",
      "the capital of poland is warsaw\n",
      "the capital of austria is vienna\n"
     ]
    }
   ],
   "source": [
    "# Definition of dictionary\n",
    "europe = {'spain':'madrid', 'france':'paris', 'germany':'berlin',\n",
    "          'norway':'oslo', 'italy':'rome', 'poland':'warsaw', 'austria':'vienna' }\n",
    "          \n",
    "# Iterate over europe\n",
    "for country,capital in europe.items():\n",
    "    print(\"the capital of\"+\" \"+country+\" \"+\"is\"+\" \"+capital)"
   ]
  },
  {
   "cell_type": "code",
   "execution_count": 29,
   "id": "80baef72",
   "metadata": {},
   "outputs": [],
   "source": [
    "import pandas as pd"
   ]
  },
  {
   "cell_type": "code",
   "execution_count": 30,
   "id": "8d961dd7",
   "metadata": {},
   "outputs": [
    {
     "name": "stdout",
     "output_type": "stream",
     "text": [
      "         country  drives_right  cars_per_cap\n",
      "0  United States          True           809\n",
      "1      Australia         False           731\n",
      "2          Japan         False           588\n",
      "3          India         False            18\n",
      "4         Russia          True           200\n",
      "5        Morocco          True            70\n",
      "6          Egypt          True            45\n"
     ]
    }
   ],
   "source": [
    "names = ['United States', 'Australia', 'Japan', 'India', 'Russia', 'Morocco', 'Egypt']\n",
    "dr =  [True, False, False, False, True, True, True]\n",
    "cpc = [809, 731, 588, 18, 200, 70, 45]\n",
    "# Create dictionary my_dict with three key:value pairs: my_dict\n",
    "my_dect ={'country':names,'drives_right':dr,'cars_per_cap':cpc}\n",
    "# Build a DataFrame cars from my_dict: cars\n",
    "cars = pd.DataFrame(my_dect)\n",
    "# Print cars\n",
    "print(cars)"
   ]
  },
  {
   "cell_type": "code",
   "execution_count": 36,
   "id": "ce732aab",
   "metadata": {},
   "outputs": [
    {
     "name": "stdout",
     "output_type": "stream",
     "text": [
      "           country  drives_right  cars_per_cap\n",
      "USA  United States          True           809\n",
      "AUS      Australia         False           731\n",
      "JPN          Japan         False           588\n",
      "IND          India         False            18\n",
      "RUS         Russia          True           200\n",
      "MOR        Morocco          True            70\n",
      "EGY          Egypt          True            45\n"
     ]
    }
   ],
   "source": [
    "c = [\"USA\",\"AUS\",\"JPN\",\"IND\",\"RUS\",\"MOR\",\"EGY\"]\n",
    "cars.index = c\n",
    "# Print cars again  \n",
    "print(cars)"
   ]
  },
  {
   "cell_type": "code",
   "execution_count": 37,
   "id": "50ef9092",
   "metadata": {},
   "outputs": [
    {
     "name": "stdout",
     "output_type": "stream",
     "text": [
      "USA\n",
      "country         United States\n",
      "drives_right             True\n",
      "cars_per_cap              809\n",
      "Name: USA, dtype: object\n",
      "\n",
      "\n",
      "AUS\n",
      "country         Australia\n",
      "drives_right        False\n",
      "cars_per_cap          731\n",
      "Name: AUS, dtype: object\n",
      "\n",
      "\n",
      "JPN\n",
      "country         Japan\n",
      "drives_right    False\n",
      "cars_per_cap      588\n",
      "Name: JPN, dtype: object\n",
      "\n",
      "\n",
      "IND\n",
      "country         India\n",
      "drives_right    False\n",
      "cars_per_cap       18\n",
      "Name: IND, dtype: object\n",
      "\n",
      "\n",
      "RUS\n",
      "country         Russia\n",
      "drives_right      True\n",
      "cars_per_cap       200\n",
      "Name: RUS, dtype: object\n",
      "\n",
      "\n",
      "MOR\n",
      "country         Morocco\n",
      "drives_right       True\n",
      "cars_per_cap         70\n",
      "Name: MOR, dtype: object\n",
      "\n",
      "\n",
      "EGY\n",
      "country         Egypt\n",
      "drives_right     True\n",
      "cars_per_cap       45\n",
      "Name: EGY, dtype: object\n",
      "\n",
      "\n"
     ]
    }
   ],
   "source": [
    "for lab,row in cars.iterrows():\n",
    "    print(lab)\n",
    "    print(row)\n",
    "    print(\"\\n\")"
   ]
  },
  {
   "cell_type": "code",
   "execution_count": 39,
   "id": "cedda4bb",
   "metadata": {},
   "outputs": [
    {
     "name": "stdout",
     "output_type": "stream",
     "text": [
      "USA: United States\n",
      "-----------------\n",
      "AUS: Australia\n",
      "-----------------\n",
      "JPN: Japan\n",
      "-----------------\n",
      "IND: India\n",
      "-----------------\n",
      "RUS: Russia\n",
      "-----------------\n",
      "MOR: Morocco\n",
      "-----------------\n",
      "EGY: Egypt\n",
      "-----------------\n"
     ]
    }
   ],
   "source": [
    "for label, row in cars.iterrows():\n",
    "    print(label + \": \" + row[\"country\"])\n",
    "    print(\"-----------------\")"
   ]
  },
  {
   "cell_type": "code",
   "execution_count": 52,
   "id": "59a3550d",
   "metadata": {},
   "outputs": [
    {
     "name": "stdout",
     "output_type": "stream",
     "text": [
      "           country  drives_right  cars_per_cap  length_name\n",
      "USA  United States          True           809           13\n",
      "AUS      Australia         False           731            9\n",
      "JPN          Japan         False           588            5\n",
      "IND          India         False            18            5\n",
      "RUS         Russia          True           200            6\n",
      "MOR        Morocco          True            70            7\n",
      "EGY          Egypt          True            45            5\n"
     ]
    }
   ],
   "source": [
    "cars['length_name'] = cars['country'].apply(len)\n",
    "print(cars)"
   ]
  },
  {
   "cell_type": "code",
   "execution_count": 53,
   "id": "d88fd9a1",
   "metadata": {},
   "outputs": [
    {
     "name": "stdout",
     "output_type": "stream",
     "text": [
      "           country  drives_right  cars_per_cap  length_name\n",
      "USA  United States          True           809           13\n",
      "AUS      Australia         False           731            9\n",
      "JPN          Japan         False           588            5\n",
      "IND          India         False            18            5\n",
      "RUS         Russia          True           200            6\n",
      "MOR        Morocco          True            70            7\n",
      "EGY          Egypt          True            45            5\n",
      "           country  drives_right  cars_per_cap  length_name\n",
      "USA  United States          True           809           13\n",
      "AUS      Australia         False           731            9\n",
      "JPN          Japan         False           588            5\n",
      "IND          India         False            18            5\n",
      "RUS         Russia          True           200            6\n",
      "MOR        Morocco          True            70            7\n",
      "EGY          Egypt          True            45            5\n",
      "           country  drives_right  cars_per_cap  length_name\n",
      "USA  United States          True           809           13\n",
      "AUS      Australia         False           731            9\n",
      "JPN          Japan         False           588            5\n",
      "IND          India         False            18            5\n",
      "RUS         Russia          True           200            6\n",
      "MOR        Morocco          True            70            7\n",
      "EGY          Egypt          True            45            5\n",
      "           country  drives_right  cars_per_cap  length_name\n",
      "USA  United States          True           809           13\n",
      "AUS      Australia         False           731            9\n",
      "JPN          Japan         False           588            5\n",
      "IND          India         False            18            5\n",
      "RUS         Russia          True           200            6\n",
      "MOR        Morocco          True            70            7\n",
      "EGY          Egypt          True            45            5\n",
      "           country  drives_right  cars_per_cap  length_name\n",
      "USA  United States          True           809           13\n",
      "AUS      Australia         False           731            9\n",
      "JPN          Japan         False           588            5\n",
      "IND          India         False            18            5\n",
      "RUS         Russia          True           200            6\n",
      "MOR        Morocco          True            70            7\n",
      "EGY          Egypt          True            45            5\n",
      "           country  drives_right  cars_per_cap  length_name\n",
      "USA  United States          True           809           13\n",
      "AUS      Australia         False           731            9\n",
      "JPN          Japan         False           588            5\n",
      "IND          India         False            18            5\n",
      "RUS         Russia          True           200            6\n",
      "MOR        Morocco          True            70            7\n",
      "EGY          Egypt          True            45            5\n",
      "           country  drives_right  cars_per_cap  length_name\n",
      "USA  United States          True           809           13\n",
      "AUS      Australia         False           731            9\n",
      "JPN          Japan         False           588            5\n",
      "IND          India         False            18            5\n",
      "RUS         Russia          True           200            6\n",
      "MOR        Morocco          True            70            7\n",
      "EGY          Egypt          True            45            5\n"
     ]
    }
   ],
   "source": [
    "for label, row in cars.iterrows():\n",
    "    cars.loc[label, \"length_name\"] = len(row[\"country\"])\n",
    "# Print cars again\n",
    "    print(cars.head(8))"
   ]
  },
  {
   "cell_type": "code",
   "execution_count": 54,
   "id": "c877902a",
   "metadata": {},
   "outputs": [
    {
     "name": "stdout",
     "output_type": "stream",
     "text": [
      "USA\n",
      "country         United States\n",
      "drives_right             True\n",
      "cars_per_cap              809\n",
      "length_name                13\n",
      "Name: USA, dtype: object\n",
      "AUS\n",
      "country         Australia\n",
      "drives_right        False\n",
      "cars_per_cap          731\n",
      "length_name             9\n",
      "Name: AUS, dtype: object\n",
      "JPN\n",
      "country         Japan\n",
      "drives_right    False\n",
      "cars_per_cap      588\n",
      "length_name         5\n",
      "Name: JPN, dtype: object\n",
      "IND\n",
      "country         India\n",
      "drives_right    False\n",
      "cars_per_cap       18\n",
      "length_name         5\n",
      "Name: IND, dtype: object\n",
      "RUS\n",
      "country         Russia\n",
      "drives_right      True\n",
      "cars_per_cap       200\n",
      "length_name          6\n",
      "Name: RUS, dtype: object\n",
      "MOR\n",
      "country         Morocco\n",
      "drives_right       True\n",
      "cars_per_cap         70\n",
      "length_name           7\n",
      "Name: MOR, dtype: object\n",
      "EGY\n",
      "country         Egypt\n",
      "drives_right     True\n",
      "cars_per_cap       45\n",
      "length_name         5\n",
      "Name: EGY, dtype: object\n"
     ]
    }
   ],
   "source": [
    "# Iterate over rows of cars\n",
    "for label,row in cars.iterrows():\n",
    "    print(label)\n",
    "    print(row)"
   ]
  },
  {
   "cell_type": "code",
   "execution_count": 55,
   "id": "6e223cc1",
   "metadata": {},
   "outputs": [
    {
     "name": "stdout",
     "output_type": "stream",
     "text": [
      "USA: 809\n",
      "AUS: 731\n",
      "JPN: 588\n",
      "IND: 18\n",
      "RUS: 200\n",
      "MOR: 70\n",
      "EGY: 45\n"
     ]
    }
   ],
   "source": [
    "# Adapt for loop\n",
    "for lab, row in cars.iterrows() :\n",
    "    print(lab + \": \" + str(row['cars_per_cap']))"
   ]
  },
  {
   "cell_type": "code",
   "execution_count": 56,
   "id": "99ae3859",
   "metadata": {},
   "outputs": [
    {
     "name": "stdout",
     "output_type": "stream",
     "text": [
      "           country  drives_right  cars_per_cap  length_name        COUNTRY\n",
      "USA  United States          True           809           13  UNITED STATES\n",
      "AUS      Australia         False           731            9      AUSTRALIA\n",
      "JPN          Japan         False           588            5          JAPAN\n",
      "IND          India         False            18            5          INDIA\n",
      "RUS         Russia          True           200            6         RUSSIA\n",
      "MOR        Morocco          True            70            7        MOROCCO\n",
      "EGY          Egypt          True            45            5          EGYPT\n"
     ]
    }
   ],
   "source": [
    "# Code for loop that adds COUNTRY column\n",
    "for label,row in cars.iterrows():\n",
    "    cars.loc[label,'COUNTRY'] = row['country'].upper()\n",
    "\n",
    "\n",
    "# Print cars\n",
    "print(cars)"
   ]
  },
  {
   "cell_type": "code",
   "execution_count": 59,
   "id": "edc5358e",
   "metadata": {},
   "outputs": [
    {
     "name": "stdout",
     "output_type": "stream",
     "text": [
      "           country  drives_right  cars_per_cap  length_name        COUNTRY  \\\n",
      "USA  United States          True      0.000809           13  UNITED STATES   \n",
      "AUS      Australia         False      0.000731            9      AUSTRALIA   \n",
      "JPN          Japan         False      0.000588            5          JAPAN   \n",
      "IND          India         False      0.000018            5          INDIA   \n",
      "RUS         Russia          True      0.000200            6         RUSSIA   \n",
      "MOR        Morocco          True      0.000070            7        MOROCCO   \n",
      "EGY          Egypt          True      0.000045            5          EGYPT   \n",
      "\n",
      "     car_cap_update  \n",
      "USA    8.090000e-07  \n",
      "AUS    7.310000e-07  \n",
      "JPN    5.880000e-07  \n",
      "IND    1.800000e-08  \n",
      "RUS    2.000000e-07  \n",
      "MOR    7.000000e-08  \n",
      "EGY    4.500000e-08  \n"
     ]
    }
   ],
   "source": [
    "for label, row in cars.iterrows():\n",
    "    cars.loc[label,\"car_cap_update\"] = row[\"cars_per_cap\"] / 1000\n",
    "print(cars)"
   ]
  },
  {
   "cell_type": "code",
   "execution_count": 60,
   "id": "17a6cdf1",
   "metadata": {},
   "outputs": [
    {
     "name": "stdout",
     "output_type": "stream",
     "text": [
      "           country  drives_right  cars_per_cap  length_name        COUNTRY  \\\n",
      "USA  United States          True      0.000809           13  UNITED STATES   \n",
      "AUS      Australia         False      0.000731            9      AUSTRALIA   \n",
      "JPN          Japan         False      0.000588            5          JAPAN   \n",
      "IND          India         False      0.000018            5          INDIA   \n",
      "RUS         Russia          True      0.000200            6         RUSSIA   \n",
      "MOR        Morocco          True      0.000070            7        MOROCCO   \n",
      "EGY          Egypt          True      0.000045            5          EGYPT   \n",
      "\n",
      "     car_cap_update  \n",
      "USA    8.090000e-07  \n",
      "AUS    7.310000e-07  \n",
      "JPN    5.880000e-07  \n",
      "IND    1.800000e-08  \n",
      "RUS    2.000000e-07  \n",
      "MOR    7.000000e-08  \n",
      "EGY    4.500000e-08  \n"
     ]
    }
   ],
   "source": [
    "# Use .apply(str.upper)\n",
    "cars['COUNTRY'] = cars['country'].apply(str.upper)\n",
    "print(cars)"
   ]
  },
  {
   "cell_type": "code",
   "execution_count": null,
   "id": "32d2e3fb",
   "metadata": {},
   "outputs": [],
   "source": []
  }
 ],
 "metadata": {
  "kernelspec": {
   "display_name": ".venv",
   "language": "python",
   "name": "python3"
  },
  "language_info": {
   "codemirror_mode": {
    "name": "ipython",
    "version": 3
   },
   "file_extension": ".py",
   "mimetype": "text/x-python",
   "name": "python",
   "nbconvert_exporter": "python",
   "pygments_lexer": "ipython3",
   "version": "3.11.9"
  }
 },
 "nbformat": 4,
 "nbformat_minor": 5
}
